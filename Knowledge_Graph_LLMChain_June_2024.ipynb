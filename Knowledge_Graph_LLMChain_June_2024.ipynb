{
 "cells": [
  {
   "cell_type": "code",
   "execution_count": 1,
   "id": "1de0a3c3-710c-4225-99ae-f83058531b91",
   "metadata": {},
   "outputs": [
    {
     "name": "stdout",
     "output_type": "stream",
     "text": [
      "Requirement already satisfied: neo4j in c:\\users\\00152897\\appdata\\local\\anaconda3\\lib\\site-packages (5.20.0)\n",
      "Requirement already satisfied: pytz in c:\\users\\00152897\\appdata\\local\\anaconda3\\lib\\site-packages (from neo4j) (2023.3.post1)\n",
      "Collecting graphdatascience\n",
      "  Downloading graphdatascience-1.10-py3-none-any.whl.metadata (7.7 kB)\n",
      "Collecting multimethod<2.0,>=1.0 (from graphdatascience)\n",
      "  Downloading multimethod-1.11.2-py3-none-any.whl.metadata (9.1 kB)\n",
      "Requirement already satisfied: neo4j<6.0,>=4.4.2 in c:\\users\\00152897\\appdata\\local\\anaconda3\\lib\\site-packages (from graphdatascience) (5.20.0)\n",
      "Requirement already satisfied: pandas<3.0,>=1.0 in c:\\users\\00152897\\appdata\\local\\anaconda3\\lib\\site-packages (from graphdatascience) (2.1.4)\n",
      "Requirement already satisfied: pyarrow<16.0,>=11.0 in c:\\users\\00152897\\appdata\\local\\anaconda3\\lib\\site-packages (from graphdatascience) (14.0.2)\n",
      "Requirement already satisfied: textdistance<5.0,>=4.0 in c:\\users\\00152897\\appdata\\local\\anaconda3\\lib\\site-packages (from graphdatascience) (4.2.1)\n",
      "Requirement already satisfied: tqdm<5.0,>=4.0 in c:\\users\\00152897\\appdata\\local\\anaconda3\\lib\\site-packages (from graphdatascience) (4.66.2)\n",
      "Requirement already satisfied: typing-extensions<5.0,>=4.0 in c:\\users\\00152897\\appdata\\local\\anaconda3\\lib\\site-packages (from graphdatascience) (4.9.0)\n",
      "Requirement already satisfied: requests in c:\\users\\00152897\\appdata\\local\\anaconda3\\lib\\site-packages (from graphdatascience) (2.31.0)\n",
      "Requirement already satisfied: pytz in c:\\users\\00152897\\appdata\\local\\anaconda3\\lib\\site-packages (from neo4j<6.0,>=4.4.2->graphdatascience) (2023.3.post1)\n",
      "Requirement already satisfied: numpy<2,>=1.23.2 in c:\\users\\00152897\\appdata\\local\\anaconda3\\lib\\site-packages (from pandas<3.0,>=1.0->graphdatascience) (1.26.4)\n",
      "Requirement already satisfied: python-dateutil>=2.8.2 in c:\\users\\00152897\\appdata\\local\\anaconda3\\lib\\site-packages (from pandas<3.0,>=1.0->graphdatascience) (2.8.2)\n",
      "Requirement already satisfied: tzdata>=2022.1 in c:\\users\\00152897\\appdata\\local\\anaconda3\\lib\\site-packages (from pandas<3.0,>=1.0->graphdatascience) (2023.3)\n",
      "Requirement already satisfied: colorama in c:\\users\\00152897\\appdata\\local\\anaconda3\\lib\\site-packages (from tqdm<5.0,>=4.0->graphdatascience) (0.4.6)\n",
      "Requirement already satisfied: charset-normalizer<4,>=2 in c:\\users\\00152897\\appdata\\local\\anaconda3\\lib\\site-packages (from requests->graphdatascience) (3.3.2)\n",
      "Requirement already satisfied: idna<4,>=2.5 in c:\\users\\00152897\\appdata\\local\\anaconda3\\lib\\site-packages (from requests->graphdatascience) (3.4)\n",
      "Requirement already satisfied: urllib3<3,>=1.21.1 in c:\\users\\00152897\\appdata\\local\\anaconda3\\lib\\site-packages (from requests->graphdatascience) (1.26.18)\n",
      "Requirement already satisfied: certifi>=2017.4.17 in c:\\users\\00152897\\appdata\\local\\anaconda3\\lib\\site-packages (from requests->graphdatascience) (2024.2.2)\n",
      "Requirement already satisfied: six>=1.5 in c:\\users\\00152897\\appdata\\local\\anaconda3\\lib\\site-packages (from python-dateutil>=2.8.2->pandas<3.0,>=1.0->graphdatascience) (1.16.0)\n",
      "Downloading graphdatascience-1.10-py3-none-any.whl (1.6 MB)\n",
      "   ---------------------------------------- 0.0/1.6 MB ? eta -:--:--\n",
      "   ---------------------------------------- 0.0/1.6 MB ? eta -:--:--\n",
      "   - -------------------------------------- 0.1/1.6 MB 1.7 MB/s eta 0:00:01\n",
      "   -- ------------------------------------- 0.1/1.6 MB 1.4 MB/s eta 0:00:02\n",
      "   --- ------------------------------------ 0.2/1.6 MB 1.4 MB/s eta 0:00:02\n",
      "   ----- ---------------------------------- 0.2/1.6 MB 1.2 MB/s eta 0:00:02\n",
      "   ------- -------------------------------- 0.3/1.6 MB 1.5 MB/s eta 0:00:01\n",
      "   -------- ------------------------------- 0.4/1.6 MB 1.6 MB/s eta 0:00:01\n",
      "   ------------ --------------------------- 0.5/1.6 MB 1.6 MB/s eta 0:00:01\n",
      "   -------------- ------------------------- 0.6/1.6 MB 1.8 MB/s eta 0:00:01\n",
      "   ----------------- ---------------------- 0.7/1.6 MB 1.8 MB/s eta 0:00:01\n",
      "   ------------------- -------------------- 0.8/1.6 MB 1.8 MB/s eta 0:00:01\n",
      "   -------------------- ------------------- 0.9/1.6 MB 1.8 MB/s eta 0:00:01\n",
      "   ----------------------- ---------------- 1.0/1.6 MB 1.9 MB/s eta 0:00:01\n",
      "   -------------------------- ------------- 1.1/1.6 MB 2.0 MB/s eta 0:00:01\n",
      "   ---------------------------- ----------- 1.2/1.6 MB 2.0 MB/s eta 0:00:01\n",
      "   -------------------------------- ------- 1.3/1.6 MB 2.1 MB/s eta 0:00:01\n",
      "   ---------------------------------- ----- 1.4/1.6 MB 2.1 MB/s eta 0:00:01\n",
      "   -------------------------------------- - 1.6/1.6 MB 2.2 MB/s eta 0:00:01\n",
      "   ---------------------------------------  1.6/1.6 MB 2.2 MB/s eta 0:00:01\n",
      "   ---------------------------------------- 1.6/1.6 MB 2.1 MB/s eta 0:00:00\n",
      "Downloading multimethod-1.11.2-py3-none-any.whl (10 kB)\n",
      "Installing collected packages: multimethod, graphdatascience\n",
      "Successfully installed graphdatascience-1.10 multimethod-1.11.2\n"
     ]
    }
   ],
   "source": [
    "!pip install neo4j\n",
    "!pip install graphdatascience"
   ]
  },
  {
   "cell_type": "code",
   "execution_count": 1,
   "id": "0c0954dd-917d-4c86-a060-88172668afcc",
   "metadata": {},
   "outputs": [],
   "source": [
    "from langchain.chat_models import ChatOpenAI\n",
    "from langchain.prompts.chat import ChatPromptTemplate\n",
    "from langchain.chains.llm import LLMChain\n",
    "from langchain.schema import AIMessage, HumanMessage, SystemMessage\n",
    "import os\n",
    "from graphdatascience import GraphDataScience\n"
   ]
  },
  {
   "cell_type": "code",
   "execution_count": 2,
   "id": "a6d1a307-1abb-4e2d-a8d6-b2e88a23617a",
   "metadata": {},
   "outputs": [
    {
     "name": "stdout",
     "output_type": "stream",
     "text": [
      "CPU times: total: 188 ms\n",
      "Wall time: 915 ms\n"
     ]
    }
   ],
   "source": [
    "%%time\n",
    "from langchain_community.chat_models import ChatOllama\n",
    "\n",
    "llm = ChatOllama(temperature=0, model = \"llama3\")"
   ]
  },
  {
   "cell_type": "code",
   "execution_count": 8,
   "id": "c3c9c453-b72c-48e6-a0a3-f488621d61b3",
   "metadata": {},
   "outputs": [],
   "source": [
    "system_prompt = \"\"\"\n",
    "You are a helpful, respectful and honest assistant. Always provide accurate answer based on the context given. \n",
    "Please respond in lesser words. Please tell me is there any crime related activity.\"\"\""
   ]
  },
  {
   "cell_type": "code",
   "execution_count": 9,
   "id": "6d11e585-b76f-4d7d-be3d-f4504ad258fa",
   "metadata": {},
   "outputs": [],
   "source": [
    "prompt_template_entity = ChatPromptTemplate.from_messages([ (\"system\", f'''{system_prompt}'''), (\"human\", \"{user_input}\"),])"
   ]
  },
  {
   "cell_type": "code",
   "execution_count": 10,
   "id": "cf4ff9ca-d8e7-473a-a455-a9b3f6cdfb1a",
   "metadata": {},
   "outputs": [
    {
     "name": "stdout",
     "output_type": "stream",
     "text": [
      " Jun 2021 - reportedly sentenced to 10 years imprisonment by Muse District Court for human trafficking. Mar 2023 - no further information reported.\n"
     ]
    }
   ],
   "source": [
    "text = \"\"\" Jun 2021 - reportedly sentenced to 10 years imprisonment by Muse District Court for human trafficking. Mar 2023 - no further information reported.\"\"\"\n",
    "\n",
    "print(text)"
   ]
  },
  {
   "cell_type": "code",
   "execution_count": 11,
   "id": "7482c1c2-5a97-414e-94b2-f1519fda7588",
   "metadata": {},
   "outputs": [
    {
     "name": "stdout",
     "output_type": "stream",
     "text": [
      "\n",
      "\n",
      "\u001b[1m> Entering new LLMChain chain...\u001b[0m\n",
      "Prompt after formatting:\n",
      "\u001b[32;1m\u001b[1;3mSystem: \n",
      "You are a helpful, respectful and honest assistant. Always provide accurate answer based on the context given. \n",
      "Please respond in lesser words. Please tell me is there any crime related activity.\n",
      "Human:  Jun 2021 - reportedly sentenced to 10 years imprisonment by Muse District Court for human trafficking. Mar 2023 - no further information reported.\u001b[0m\n",
      "\n",
      "\u001b[1m> Finished chain.\u001b[0m\n",
      "CPU times: total: 31.2 ms\n",
      "Wall time: 13.7 s\n"
     ]
    }
   ],
   "source": [
    "%%time\n",
    "\n",
    "llm_chain = LLMChain(llm=llm, prompt=prompt_template_entity, verbose=True)\n",
    "\n",
    "output = llm_chain.run(user_input= text)"
   ]
  },
  {
   "cell_type": "code",
   "execution_count": 12,
   "id": "8ce10a70-aaa8-43fe-8b55-379f68607194",
   "metadata": {},
   "outputs": [
    {
     "name": "stdout",
     "output_type": "stream",
     "text": [
      "Yes, there was a crime-related activity involving human trafficking, and the individual was sentenced to 10 years in prison.\n"
     ]
    }
   ],
   "source": [
    "print(output)"
   ]
  },
  {
   "cell_type": "markdown",
   "id": "f7178a02-c3ec-4c06-b1ee-04e0c164b8c3",
   "metadata": {},
   "source": [
    "### Second example"
   ]
  },
  {
   "cell_type": "code",
   "execution_count": 29,
   "id": "dbdef4cc-eea0-40b6-a9d6-dffe96f2012e",
   "metadata": {},
   "outputs": [],
   "source": [
    "system_prompt = \"\"\"\n",
    "You are a helpful, respectful and honest assistant. Always provide accurate answer based on the context given. \n",
    " can you summarize the content in few words. please tell me the reported date as well if it is present. else dont provide any information\"\"\"\n",
    "\n",
    "prompt_template_entity = ChatPromptTemplate.from_messages([ (\"system\", f'''{system_prompt}'''), (\"human\", \"{user_input}\"),])"
   ]
  },
  {
   "cell_type": "code",
   "execution_count": 30,
   "id": "3eba52ba-c2e9-49f2-a055-a93e25edddda",
   "metadata": {},
   "outputs": [
    {
     "name": "stdout",
     "output_type": "stream",
     "text": [
      "  Dec 2022 - reportedly arrested for human trafficking in relation to illegally smuggling migrants to Malaysia. Aug 2023 - no further information reported.\n"
     ]
    }
   ],
   "source": [
    "text = \"\"\"  Dec 2022 - reportedly arrested for human trafficking in relation to illegally smuggling migrants to Malaysia. Aug 2023 - no further information reported.\"\"\"\n",
    "\n",
    "print(text)"
   ]
  },
  {
   "cell_type": "code",
   "execution_count": 31,
   "id": "30ebeaf3-7fe5-43eb-aa65-8b3c7b1557d0",
   "metadata": {},
   "outputs": [
    {
     "name": "stdout",
     "output_type": "stream",
     "text": [
      "\n",
      "\n",
      "\u001b[1m> Entering new LLMChain chain...\u001b[0m\n",
      "Prompt after formatting:\n",
      "\u001b[32;1m\u001b[1;3mSystem: \n",
      "You are a helpful, respectful and honest assistant. Always provide accurate answer based on the context given. \n",
      " can you summarize the content in few words. please tell me the reported date as well if it is present. else dont provide any information\n",
      "Human:   Dec 2022 - reportedly arrested for human trafficking in relation to illegally smuggling migrants to Malaysia. Aug 2023 - no further information reported.\u001b[0m\n",
      "\n",
      "\u001b[1m> Finished chain.\u001b[0m\n",
      "CPU times: total: 15.6 ms\n",
      "Wall time: 18.6 s\n"
     ]
    }
   ],
   "source": [
    "%%time\n",
    "\n",
    "llm_chain = LLMChain(llm=llm, prompt=prompt_template_entity, verbose=True)\n",
    "\n",
    "output = llm_chain.run(user_input= text)"
   ]
  },
  {
   "cell_type": "code",
   "execution_count": 32,
   "id": "7ca34fe9-1fe1-46ac-aa08-45302035c523",
   "metadata": {},
   "outputs": [
    {
     "name": "stdout",
     "output_type": "stream",
     "text": [
      "Here is a summary of the content:\n",
      "\n",
      "Reported arrest: Human trafficking, smuggling migrants to Malaysia.\n",
      "\n",
      "Date:\n",
      "- December 2022 (initial report)\n",
      "- August 2023 (no further information)\n"
     ]
    }
   ],
   "source": [
    "print(output)"
   ]
  },
  {
   "cell_type": "code",
   "execution_count": null,
   "id": "ecf47b45-7a93-476a-bf51-e66b8f2d8c58",
   "metadata": {},
   "outputs": [],
   "source": [
    "### Third example"
   ]
  },
  {
   "cell_type": "code",
   "execution_count": 33,
   "id": "dbd1e222-4d73-40c3-aa3b-26972312d3d2",
   "metadata": {},
   "outputs": [],
   "source": [
    "system_prompt = \"\"\"\n",
    "You are a helpful, respectful and honest assistant. Always provide accurate answer based on the context given. \n",
    " please identify the entities present in the context. please tell me the reported date as well if it is present. else dont provide any information\"\"\"\n",
    "\n",
    "prompt_template_entity = ChatPromptTemplate.from_messages([ (\"system\", f'''{system_prompt}'''), (\"human\", \"{user_input}\"),])"
   ]
  },
  {
   "cell_type": "code",
   "execution_count": 34,
   "id": "7d1a436a-18ba-4d37-9adc-f076342250c3",
   "metadata": {},
   "outputs": [
    {
     "name": "stdout",
     "output_type": "stream",
     "text": [
      "\n",
      "\n",
      "\u001b[1m> Entering new LLMChain chain...\u001b[0m\n",
      "Prompt after formatting:\n",
      "\u001b[32;1m\u001b[1;3mSystem: \n",
      "You are a helpful, respectful and honest assistant. Always provide accurate answer based on the context given. \n",
      " please identify the entities present in the context. please tell me the reported date as well if it is present. else dont provide any information\n",
      "Human:   Dec 2022 - reportedly arrested for human trafficking in relation to illegally smuggling migrants to Malaysia. Aug 2023 - no further information reported.\u001b[0m\n",
      "\n",
      "\u001b[1m> Finished chain.\u001b[0m\n",
      "CPU times: total: 46.9 ms\n",
      "Wall time: 28.9 s\n"
     ]
    }
   ],
   "source": [
    "%%time\n",
    "\n",
    "llm_chain = LLMChain(llm=llm, prompt=prompt_template_entity, verbose=True)\n",
    "\n",
    "output = llm_chain.run(user_input= text)"
   ]
  },
  {
   "cell_type": "code",
   "execution_count": 35,
   "id": "5c735ab3-b0b9-4393-a532-a5416123c444",
   "metadata": {},
   "outputs": [
    {
     "name": "stdout",
     "output_type": "stream",
     "text": [
      "Entities present in the context:\n",
      "\n",
      "* Person: The individual who was reportedly arrested for human trafficking\n",
      "* Location: Malaysia\n",
      "* Date:\n",
      "\t+ Reported date: December 2022 (Dec 20, 22)\n",
      "\t+ Follow-up date: August 2023 (Aug 20, 23)\n"
     ]
    }
   ],
   "source": [
    "print(output)"
   ]
  },
  {
   "cell_type": "code",
   "execution_count": null,
   "id": "ed4272aa-0437-4941-8b6a-8ada1181dfa3",
   "metadata": {},
   "outputs": [],
   "source": []
  },
  {
   "cell_type": "code",
   "execution_count": null,
   "id": "a95279c9-972e-4541-9417-91a7ffa04e08",
   "metadata": {},
   "outputs": [],
   "source": []
  }
 ],
 "metadata": {
  "kernelspec": {
   "display_name": "Python 3 (ipykernel)",
   "language": "python",
   "name": "python3"
  },
  "language_info": {
   "codemirror_mode": {
    "name": "ipython",
    "version": 3
   },
   "file_extension": ".py",
   "mimetype": "text/x-python",
   "name": "python",
   "nbconvert_exporter": "python",
   "pygments_lexer": "ipython3",
   "version": "3.11.7"
  }
 },
 "nbformat": 4,
 "nbformat_minor": 5
}
