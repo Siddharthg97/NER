{
 "cells": [
  {
   "cell_type": "code",
   "execution_count": 1,
   "id": "e74a92e3-3315-4c5b-846d-ea44de5bfe09",
   "metadata": {},
   "outputs": [],
   "source": [
    "import ollama\n",
    "from langchain.text_splitter import RecursiveCharacterTextSplitter\n",
    "from langchain_community.document_loaders.csv_loader import CSVLoader\n",
    "from langchain_community.vectorstores import Chroma\n",
    "from langchain_community.embeddings import OllamaEmbeddings\n",
    "from langchain_core.output_parsers import StrOutputParser\n",
    "from langchain_core.runnables import RunnablePassthrough"
   ]
  },
  {
   "cell_type": "code",
   "execution_count": 2,
   "id": "e3616fc5-3ca1-4864-a132-542d119779f7",
   "metadata": {},
   "outputs": [],
   "source": [
    "loader = CSVLoader(file_path=\"D:Transaction_Monitoring/biography_sample.csv\", csv_args={\n",
    "        \"delimiter\": \",\"},)\n",
    "\n",
    "data = loader.load()"
   ]
  },
  {
   "cell_type": "code",
   "execution_count": 3,
   "id": "031dcba3-6dc4-4982-9575-ccca3fede571",
   "metadata": {},
   "outputs": [],
   "source": [
    "data = data[:1]"
   ]
  },
  {
   "cell_type": "code",
   "execution_count": 4,
   "id": "b943add2-d332-45cb-b479-886c3d9ac579",
   "metadata": {},
   "outputs": [
    {
     "data": {
      "text/plain": [
       "[Document(page_content='bef_rep: [USA SANCTIONS - OFAC] SDN Ref No 16409 - SDNTK (Specially Designated Narcotics Trafficker Kingpin) (Jul 2014 - addition). PRIMARY NAME: MORENO TUBERQUIA, Carlos Antonio (a.k.a. \"NICOLAS\"); DOB 30 Apr 1977; POB Monteria, Cordoba, Colombia; citizen Colombia; Cedula No. 11002975 (Colombia). [BIOGRAPHY] High-ranking member of the Los Urabenos criminal organisation (Jun 2003 - Dec 2014). [IDENTIFICATION] ID No: 11002975.', metadata={'source': 'D:Transaction_Monitoring/biography_sample.csv', 'row': 0})]"
      ]
     },
     "execution_count": 4,
     "metadata": {},
     "output_type": "execute_result"
    }
   ],
   "source": [
    "data"
   ]
  },
  {
   "cell_type": "code",
   "execution_count": 4,
   "id": "98b0f953-039e-4205-9ae5-5b715b7f44eb",
   "metadata": {},
   "outputs": [],
   "source": [
    "\n",
    "text_splitter = RecursiveCharacterTextSplitter(chunk_size=1000, chunk_overlap=200)\n",
    "splits = text_splitter.split_documents(data)"
   ]
  },
  {
   "cell_type": "code",
   "execution_count": 5,
   "id": "49cb5744-1124-4d45-8d9d-2471d1c45c4c",
   "metadata": {},
   "outputs": [
    {
     "data": {
      "text/plain": [
       "[Document(page_content='bef_rep: [USA SANCTIONS - OFAC] SDN Ref No 16409 - SDNTK (Specially Designated Narcotics Trafficker Kingpin) (Jul 2014 - addition). PRIMARY NAME: MORENO TUBERQUIA, Carlos Antonio (a.k.a. \"NICOLAS\"); DOB 30 Apr 1977; POB Monteria, Cordoba, Colombia; citizen Colombia; Cedula No. 11002975 (Colombia). [BIOGRAPHY] High-ranking member of the Los Urabenos criminal organisation (Jun 2003 - Dec 2014). [IDENTIFICATION] ID No: 11002975.', metadata={'source': 'D:Transaction_Monitoring/biography_sample.csv', 'row': 0})]"
      ]
     },
     "execution_count": 5,
     "metadata": {},
     "output_type": "execute_result"
    }
   ],
   "source": [
    "splits"
   ]
  },
  {
   "cell_type": "code",
   "execution_count": 6,
   "id": "eb9d1e43-3e04-4036-bc2e-d2bf5b87c07f",
   "metadata": {},
   "outputs": [],
   "source": [
    "# 2. Create Ollama embeddings and vector store\n",
    "\n",
    "embeddings = OllamaEmbeddings(model=\"llama3\")\n",
    "vectorstore = Chroma.from_documents(documents=splits, embedding=embeddings)"
   ]
  },
  {
   "cell_type": "code",
   "execution_count": 7,
   "id": "fa60e657-04d1-4ad1-b7a9-30d12f6fa120",
   "metadata": {},
   "outputs": [],
   "source": [
    "\n",
    "def ollama_llm(question, context):\n",
    "    formatted_prompt = f\"Question: {question}\\n\\nContext: {context}\"\n",
    "    response = ollama.chat(model='llama3', messages=[{'role': 'user', 'content': formatted_prompt}])\n",
    "    return response['message']['content']"
   ]
  },
  {
   "cell_type": "code",
   "execution_count": 8,
   "id": "fbab12d4-26ac-46a2-8265-d69671a07940",
   "metadata": {},
   "outputs": [],
   "source": [
    "# 4. RAG Setup\n",
    "retriever = vectorstore.as_retriever()\n",
    "def combine_docs(docs):\n",
    "    return \"\\n\\n\".join(doc.page_content for doc in docs)\n",
    "    \n",
    "def rag_chain(question):\n",
    "    retrieved_docs = retriever.invoke(question)\n",
    "    formatted_context = combine_docs(retrieved_docs)\n",
    "    return ollama_llm(question, formatted_context)"
   ]
  },
  {
   "cell_type": "code",
   "execution_count": 9,
   "id": "ffe5862f-3a5d-483e-a708-8f71b924ec27",
   "metadata": {},
   "outputs": [
    {
     "name": "stderr",
     "output_type": "stream",
     "text": [
      "Number of requested results 4 is greater than number of elements in index 1, updating n_results = 1\n"
     ]
    },
    {
     "name": "stdout",
     "output_type": "stream",
     "text": [
      "Here are all the entities mentioned:\n",
      "\n",
      "1. **USA SANCTIONS - OFAC** (Office of Foreign Assets Control)\n",
      "2. **SDN Ref No 16409** (Specially Designated Narcotics Trafficker Kingpin)\n",
      "3. **SDNTK** (Specially Designated Narcotics Trafficker Kingpin)\n",
      "4. **MORENO TUBERQUIA, Carlos Antonio** (a.k.a. \"NICOLAS\")\n",
      "5. **Los Urabenos** (criminal organisation)\n",
      "6. **Colombia** (country and citizen of Carlos Moreno Tuburquia)\n",
      "7. **Monteria, Cordoba** (city and department in Colombia)\n"
     ]
    }
   ],
   "source": [
    "# 5. Use the RAG App\n",
    "\n",
    "result = rag_chain(\"list out all the entities present\")\n",
    "print(result)"
   ]
  },
  {
   "cell_type": "code",
   "execution_count": null,
   "id": "85eb868d-9161-42bb-90bb-732beb9d13f5",
   "metadata": {},
   "outputs": [],
   "source": []
  },
  {
   "cell_type": "code",
   "execution_count": 10,
   "id": "d42d8900-6d97-4be2-b666-11f28fd1a279",
   "metadata": {},
   "outputs": [
    {
     "name": "stderr",
     "output_type": "stream",
     "text": [
      "Number of requested results 4 is greater than number of elements in index 1, updating n_results = 1\n"
     ]
    },
    {
     "name": "stdout",
     "output_type": "stream",
     "text": [
      "The data of birth mentioned in the text is:\n",
      "\n",
      "* Date of Birth: April 30, 1977\n",
      "* Place of Birth: Monteria, Cordoba, Colombia\n"
     ]
    }
   ],
   "source": [
    "# 5. Use the RAG App\n",
    "\n",
    "result = rag_chain(\"what is the data of birth\")\n",
    "print(result)"
   ]
  },
  {
   "cell_type": "code",
   "execution_count": 11,
   "id": "53a8f730-4839-45f2-ba61-f3f675ed94c6",
   "metadata": {},
   "outputs": [
    {
     "name": "stderr",
     "output_type": "stream",
     "text": [
      "Number of requested results 4 is greater than number of elements in index 1, updating n_results = 1\n"
     ]
    },
    {
     "name": "stdout",
     "output_type": "stream",
     "text": [
      "Yes, there is an ID number mentioned in the text:\n",
      "\n",
      "* Cedula No. 11 002975 (Colombia)\n",
      "\n",
      "This refers to a Colombian identification card, also known as a cédula.\n"
     ]
    }
   ],
   "source": [
    "result = rag_chain(\"is there any ID present\")\n",
    "print(result)"
   ]
  },
  {
   "cell_type": "code",
   "execution_count": null,
   "id": "3e8e3629-bc1d-41b8-954f-088ce663480f",
   "metadata": {},
   "outputs": [],
   "source": [
    "result = rag_chain(\"is there any ID present\")\n",
    "print(result)"
   ]
  },
  {
   "cell_type": "code",
   "execution_count": null,
   "id": "5567a2af-0d65-4fa7-a10e-be4e2defacd0",
   "metadata": {},
   "outputs": [],
   "source": []
  },
  {
   "cell_type": "code",
   "execution_count": 13,
   "id": "ce08dcdc-ac4b-4555-9b61-3958b4388300",
   "metadata": {},
   "outputs": [
    {
     "name": "stdout",
     "output_type": "stream",
     "text": [
      "[Document(page_content=\"bef_rep: [USA SANCTIONS - OFAC] SDN Ref No 8884 - SDGT (Specially Designated Global Terrorist) (Apr 2005 - addition). PRIMARY NAME: AL-HIYARI,Bilal Mansur. Alias: AL-KHAYARI,Bilal Mansur Mahmud. Address - Suwaylah, Jordan. DOB circa 1969. POB al-Salt, Jordan. Nationality - Jordanian. Suwaylah, Jordan. [BIOGRAPHY] Suspected terrorism financier. Believed to be Al-Qaida's chief money man in Iraq. [IDENTIFICATION] To be determined. [FUNDING] Reportedly provided financial support to Jam'at al Tawhid wa'al-Jihad, also known as the Zarqawi network in Iraq.\", metadata={'source': 'D:Transaction_Monitoring/biography_sample.csv', 'row': 4})]\n"
     ]
    }
   ],
   "source": [
    "loader = CSVLoader(file_path=\"D:Transaction_Monitoring/biography_sample.csv\", csv_args={\n",
    "        \"delimiter\": \",\"},)\n",
    "\n",
    "data = loader.load()\n",
    "\n",
    "data = data[4:5]\n",
    "\n",
    "print(data)\n",
    "\n",
    "text_splitter = RecursiveCharacterTextSplitter(chunk_size=1000, chunk_overlap=200)\n",
    "splits = text_splitter.split_documents(data)\n",
    "\n",
    "# 2. Create Ollama embeddings and vector store\n",
    "\n",
    "embeddings = OllamaEmbeddings(model=\"llama3\")\n",
    "vectorstore = Chroma.from_documents(documents=splits, embedding=embeddings)\n",
    "\n"
   ]
  },
  {
   "cell_type": "code",
   "execution_count": 15,
   "id": "8d5290df-28ea-4407-a101-22f3ff1ee980",
   "metadata": {},
   "outputs": [
    {
     "name": "stderr",
     "output_type": "stream",
     "text": [
      "Number of requested results 4 is greater than number of elements in index 2, updating n_results = 2\n"
     ]
    },
    {
     "name": "stdout",
     "output_type": "stream",
     "text": [
      "The dates of birth are:\n",
      "\n",
      "* Carlos Antonio Moreno Tuburquia (SDN Ref No 16409): April 30, 1977\n",
      "* Bilal Mansur Al-Hiyari (SDN Ref No 8884): circa 1969\n"
     ]
    }
   ],
   "source": [
    "result = rag_chain(\"what is the date of birth\")\n",
    "print(result)"
   ]
  },
  {
   "cell_type": "code",
   "execution_count": 16,
   "id": "eb01d8fb-5f88-471a-9fc2-8a6826164d17",
   "metadata": {
    "scrolled": true
   },
   "outputs": [
    {
     "name": "stderr",
     "output_type": "stream",
     "text": [
      "Number of requested results 4 is greater than number of elements in index 2, updating n_results = 2\n"
     ]
    },
    {
     "name": "stdout",
     "output_type": "stream",
     "text": [
      "The place of birth for:\n",
      "\n",
      "1. Carlos Antonio Moreno Tuburquia (SDN Ref No 16409) is Monteria, Cordoba, Colombia.\n",
      "2. Bilal Mansur Al-Hiyari (SDGT, SDN Ref No 8884) is al-Salt, Jordan.\n"
     ]
    }
   ],
   "source": [
    "result = rag_chain(\"what is the place of birth\")\n",
    "print(result)"
   ]
  },
  {
   "cell_type": "code",
   "execution_count": null,
   "id": "4012a1e7-dcea-4e1e-b931-c5ac2d3923f9",
   "metadata": {},
   "outputs": [],
   "source": []
  }
 ],
 "metadata": {
  "kernelspec": {
   "display_name": "Python 3 (ipykernel)",
   "language": "python",
   "name": "python3"
  },
  "language_info": {
   "codemirror_mode": {
    "name": "ipython",
    "version": 3
   },
   "file_extension": ".py",
   "mimetype": "text/x-python",
   "name": "python",
   "nbconvert_exporter": "python",
   "pygments_lexer": "ipython3",
   "version": "3.11.7"
  }
 },
 "nbformat": 4,
 "nbformat_minor": 5
}
