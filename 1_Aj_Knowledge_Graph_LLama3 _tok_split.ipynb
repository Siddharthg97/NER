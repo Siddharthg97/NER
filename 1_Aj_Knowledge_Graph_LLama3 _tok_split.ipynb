{
 "cells": [
  {
   "cell_type": "code",
   "execution_count": 1,
   "id": "cb795f9a-d2a8-4b03-b097-88e5007bd2a7",
   "metadata": {},
   "outputs": [
    {
     "name": "stdout",
     "output_type": "stream",
     "text": [
      "Collecting json-repair\n",
      "  Downloading json_repair-0.25.2-py3-none-any.whl.metadata (7.9 kB)\n",
      "Downloading json_repair-0.25.2-py3-none-any.whl (12 kB)\n",
      "Installing collected packages: json-repair\n",
      "Successfully installed json-repair-0.25.2\n",
      "Note: you may need to restart the kernel to use updated packages.\n"
     ]
    }
   ],
   "source": [
    "pip install json-repair"
   ]
  },
  {
   "cell_type": "code",
   "execution_count": 2,
   "id": "b700b42b-3cd8-4127-967d-51fe34298349",
   "metadata": {},
   "outputs": [
    {
     "name": "stdout",
     "output_type": "stream",
     "text": [
      "Requirement already satisfied: langchain in c:\\users\\admin\\anaconda3\\envs\\tm_ns\\lib\\site-packages (0.2.5)\n",
      "Requirement already satisfied: PyYAML>=5.3 in c:\\users\\admin\\anaconda3\\envs\\tm_ns\\lib\\site-packages (from langchain) (6.0.1)\n",
      "Requirement already satisfied: SQLAlchemy<3,>=1.4 in c:\\users\\admin\\anaconda3\\envs\\tm_ns\\lib\\site-packages (from langchain) (2.0.31)\n",
      "Requirement already satisfied: aiohttp<4.0.0,>=3.8.3 in c:\\users\\admin\\anaconda3\\envs\\tm_ns\\lib\\site-packages (from langchain) (3.9.5)\n",
      "Requirement already satisfied: async-timeout<5.0.0,>=4.0.0 in c:\\users\\admin\\anaconda3\\envs\\tm_ns\\lib\\site-packages (from langchain) (4.0.3)\n",
      "Requirement already satisfied: langchain-core<0.3.0,>=0.2.7 in c:\\users\\admin\\anaconda3\\envs\\tm_ns\\lib\\site-packages (from langchain) (0.2.9)\n",
      "Requirement already satisfied: langchain-text-splitters<0.3.0,>=0.2.0 in c:\\users\\admin\\anaconda3\\envs\\tm_ns\\lib\\site-packages (from langchain) (0.2.1)\n",
      "Requirement already satisfied: langsmith<0.2.0,>=0.1.17 in c:\\users\\admin\\anaconda3\\envs\\tm_ns\\lib\\site-packages (from langchain) (0.1.81)\n",
      "Requirement already satisfied: numpy<2,>=1 in c:\\users\\admin\\anaconda3\\envs\\tm_ns\\lib\\site-packages (from langchain) (1.24.3)\n",
      "Requirement already satisfied: pydantic<3,>=1 in c:\\users\\admin\\anaconda3\\envs\\tm_ns\\lib\\site-packages (from langchain) (2.7.4)\n",
      "Requirement already satisfied: requests<3,>=2 in c:\\users\\admin\\anaconda3\\envs\\tm_ns\\lib\\site-packages (from langchain) (2.32.2)\n",
      "Requirement already satisfied: tenacity<9.0.0,>=8.1.0 in c:\\users\\admin\\anaconda3\\envs\\tm_ns\\lib\\site-packages (from langchain) (8.4.1)\n",
      "Requirement already satisfied: aiosignal>=1.1.2 in c:\\users\\admin\\anaconda3\\envs\\tm_ns\\lib\\site-packages (from aiohttp<4.0.0,>=3.8.3->langchain) (1.3.1)\n",
      "Requirement already satisfied: attrs>=17.3.0 in c:\\users\\admin\\anaconda3\\envs\\tm_ns\\lib\\site-packages (from aiohttp<4.0.0,>=3.8.3->langchain) (23.1.0)\n",
      "Requirement already satisfied: frozenlist>=1.1.1 in c:\\users\\admin\\anaconda3\\envs\\tm_ns\\lib\\site-packages (from aiohttp<4.0.0,>=3.8.3->langchain) (1.4.1)\n",
      "Requirement already satisfied: multidict<7.0,>=4.5 in c:\\users\\admin\\anaconda3\\envs\\tm_ns\\lib\\site-packages (from aiohttp<4.0.0,>=3.8.3->langchain) (6.0.5)\n",
      "Requirement already satisfied: yarl<2.0,>=1.0 in c:\\users\\admin\\anaconda3\\envs\\tm_ns\\lib\\site-packages (from aiohttp<4.0.0,>=3.8.3->langchain) (1.9.4)\n",
      "Requirement already satisfied: jsonpatch<2.0,>=1.33 in c:\\users\\admin\\anaconda3\\envs\\tm_ns\\lib\\site-packages (from langchain-core<0.3.0,>=0.2.7->langchain) (1.33)\n",
      "Requirement already satisfied: packaging<25,>=23.2 in c:\\users\\admin\\anaconda3\\envs\\tm_ns\\lib\\site-packages (from langchain-core<0.3.0,>=0.2.7->langchain) (23.2)\n",
      "Requirement already satisfied: orjson<4.0.0,>=3.9.14 in c:\\users\\admin\\anaconda3\\envs\\tm_ns\\lib\\site-packages (from langsmith<0.2.0,>=0.1.17->langchain) (3.10.5)\n",
      "Requirement already satisfied: annotated-types>=0.4.0 in c:\\users\\admin\\anaconda3\\envs\\tm_ns\\lib\\site-packages (from pydantic<3,>=1->langchain) (0.7.0)\n",
      "Requirement already satisfied: pydantic-core==2.18.4 in c:\\users\\admin\\anaconda3\\envs\\tm_ns\\lib\\site-packages (from pydantic<3,>=1->langchain) (2.18.4)\n",
      "Requirement already satisfied: typing-extensions>=4.6.1 in c:\\users\\admin\\anaconda3\\envs\\tm_ns\\lib\\site-packages (from pydantic<3,>=1->langchain) (4.11.0)\n",
      "Requirement already satisfied: charset-normalizer<4,>=2 in c:\\users\\admin\\anaconda3\\envs\\tm_ns\\lib\\site-packages (from requests<3,>=2->langchain) (2.0.4)\n",
      "Requirement already satisfied: idna<4,>=2.5 in c:\\users\\admin\\anaconda3\\envs\\tm_ns\\lib\\site-packages (from requests<3,>=2->langchain) (3.7)\n",
      "Requirement already satisfied: urllib3<3,>=1.21.1 in c:\\users\\admin\\anaconda3\\envs\\tm_ns\\lib\\site-packages (from requests<3,>=2->langchain) (2.2.2)\n",
      "Requirement already satisfied: certifi>=2017.4.17 in c:\\users\\admin\\anaconda3\\envs\\tm_ns\\lib\\site-packages (from requests<3,>=2->langchain) (2024.6.2)\n",
      "Requirement already satisfied: greenlet!=0.4.17 in c:\\users\\admin\\anaconda3\\envs\\tm_ns\\lib\\site-packages (from SQLAlchemy<3,>=1.4->langchain) (3.0.3)\n",
      "Requirement already satisfied: jsonpointer>=1.9 in c:\\users\\admin\\anaconda3\\envs\\tm_ns\\lib\\site-packages (from jsonpatch<2.0,>=1.33->langchain-core<0.3.0,>=0.2.7->langchain) (3.0.0)\n",
      "Note: you may need to restart the kernel to use updated packages.\n"
     ]
    }
   ],
   "source": [
    "pip install langchain"
   ]
  },
  {
   "cell_type": "code",
   "execution_count": 3,
   "id": "3eac7c24-9fe6-4505-8c83-6ff29126c496",
   "metadata": {},
   "outputs": [
    {
     "name": "stdout",
     "output_type": "stream",
     "text": [
      "Requirement already satisfied: langchain-community in c:\\users\\admin\\anaconda3\\envs\\tm_ns\\lib\\site-packages (0.2.5)\n",
      "Requirement already satisfied: PyYAML>=5.3 in c:\\users\\admin\\anaconda3\\envs\\tm_ns\\lib\\site-packages (from langchain-community) (6.0.1)\n",
      "Requirement already satisfied: SQLAlchemy<3,>=1.4 in c:\\users\\admin\\anaconda3\\envs\\tm_ns\\lib\\site-packages (from langchain-community) (2.0.31)\n",
      "Requirement already satisfied: aiohttp<4.0.0,>=3.8.3 in c:\\users\\admin\\anaconda3\\envs\\tm_ns\\lib\\site-packages (from langchain-community) (3.9.5)\n",
      "Requirement already satisfied: dataclasses-json<0.7,>=0.5.7 in c:\\users\\admin\\anaconda3\\envs\\tm_ns\\lib\\site-packages (from langchain-community) (0.6.7)\n",
      "Requirement already satisfied: langchain<0.3.0,>=0.2.5 in c:\\users\\admin\\anaconda3\\envs\\tm_ns\\lib\\site-packages (from langchain-community) (0.2.5)\n",
      "Requirement already satisfied: langchain-core<0.3.0,>=0.2.7 in c:\\users\\admin\\anaconda3\\envs\\tm_ns\\lib\\site-packages (from langchain-community) (0.2.9)\n",
      "Requirement already satisfied: langsmith<0.2.0,>=0.1.0 in c:\\users\\admin\\anaconda3\\envs\\tm_ns\\lib\\site-packages (from langchain-community) (0.1.81)\n",
      "Requirement already satisfied: numpy<2,>=1 in c:\\users\\admin\\anaconda3\\envs\\tm_ns\\lib\\site-packages (from langchain-community) (1.24.3)\n",
      "Requirement already satisfied: requests<3,>=2 in c:\\users\\admin\\anaconda3\\envs\\tm_ns\\lib\\site-packages (from langchain-community) (2.32.2)\n",
      "Requirement already satisfied: tenacity<9.0.0,>=8.1.0 in c:\\users\\admin\\anaconda3\\envs\\tm_ns\\lib\\site-packages (from langchain-community) (8.4.1)\n",
      "Requirement already satisfied: aiosignal>=1.1.2 in c:\\users\\admin\\anaconda3\\envs\\tm_ns\\lib\\site-packages (from aiohttp<4.0.0,>=3.8.3->langchain-community) (1.3.1)\n",
      "Requirement already satisfied: attrs>=17.3.0 in c:\\users\\admin\\anaconda3\\envs\\tm_ns\\lib\\site-packages (from aiohttp<4.0.0,>=3.8.3->langchain-community) (23.1.0)\n",
      "Requirement already satisfied: frozenlist>=1.1.1 in c:\\users\\admin\\anaconda3\\envs\\tm_ns\\lib\\site-packages (from aiohttp<4.0.0,>=3.8.3->langchain-community) (1.4.1)\n",
      "Requirement already satisfied: multidict<7.0,>=4.5 in c:\\users\\admin\\anaconda3\\envs\\tm_ns\\lib\\site-packages (from aiohttp<4.0.0,>=3.8.3->langchain-community) (6.0.5)\n",
      "Requirement already satisfied: yarl<2.0,>=1.0 in c:\\users\\admin\\anaconda3\\envs\\tm_ns\\lib\\site-packages (from aiohttp<4.0.0,>=3.8.3->langchain-community) (1.9.4)\n",
      "Requirement already satisfied: async-timeout<5.0,>=4.0 in c:\\users\\admin\\anaconda3\\envs\\tm_ns\\lib\\site-packages (from aiohttp<4.0.0,>=3.8.3->langchain-community) (4.0.3)\n",
      "Requirement already satisfied: marshmallow<4.0.0,>=3.18.0 in c:\\users\\admin\\anaconda3\\envs\\tm_ns\\lib\\site-packages (from dataclasses-json<0.7,>=0.5.7->langchain-community) (3.21.3)\n",
      "Requirement already satisfied: typing-inspect<1,>=0.4.0 in c:\\users\\admin\\anaconda3\\envs\\tm_ns\\lib\\site-packages (from dataclasses-json<0.7,>=0.5.7->langchain-community) (0.9.0)\n",
      "Requirement already satisfied: langchain-text-splitters<0.3.0,>=0.2.0 in c:\\users\\admin\\anaconda3\\envs\\tm_ns\\lib\\site-packages (from langchain<0.3.0,>=0.2.5->langchain-community) (0.2.1)\n",
      "Requirement already satisfied: pydantic<3,>=1 in c:\\users\\admin\\anaconda3\\envs\\tm_ns\\lib\\site-packages (from langchain<0.3.0,>=0.2.5->langchain-community) (2.7.4)\n",
      "Requirement already satisfied: jsonpatch<2.0,>=1.33 in c:\\users\\admin\\anaconda3\\envs\\tm_ns\\lib\\site-packages (from langchain-core<0.3.0,>=0.2.7->langchain-community) (1.33)\n",
      "Requirement already satisfied: packaging<25,>=23.2 in c:\\users\\admin\\anaconda3\\envs\\tm_ns\\lib\\site-packages (from langchain-core<0.3.0,>=0.2.7->langchain-community) (23.2)\n",
      "Requirement already satisfied: orjson<4.0.0,>=3.9.14 in c:\\users\\admin\\anaconda3\\envs\\tm_ns\\lib\\site-packages (from langsmith<0.2.0,>=0.1.0->langchain-community) (3.10.5)\n",
      "Requirement already satisfied: charset-normalizer<4,>=2 in c:\\users\\admin\\anaconda3\\envs\\tm_ns\\lib\\site-packages (from requests<3,>=2->langchain-community) (2.0.4)\n",
      "Requirement already satisfied: idna<4,>=2.5 in c:\\users\\admin\\anaconda3\\envs\\tm_ns\\lib\\site-packages (from requests<3,>=2->langchain-community) (3.7)\n",
      "Requirement already satisfied: urllib3<3,>=1.21.1 in c:\\users\\admin\\anaconda3\\envs\\tm_ns\\lib\\site-packages (from requests<3,>=2->langchain-community) (2.2.2)\n",
      "Requirement already satisfied: certifi>=2017.4.17 in c:\\users\\admin\\anaconda3\\envs\\tm_ns\\lib\\site-packages (from requests<3,>=2->langchain-community) (2024.6.2)\n",
      "Requirement already satisfied: typing-extensions>=4.6.0 in c:\\users\\admin\\anaconda3\\envs\\tm_ns\\lib\\site-packages (from SQLAlchemy<3,>=1.4->langchain-community) (4.11.0)\n",
      "Requirement already satisfied: greenlet!=0.4.17 in c:\\users\\admin\\anaconda3\\envs\\tm_ns\\lib\\site-packages (from SQLAlchemy<3,>=1.4->langchain-community) (3.0.3)\n",
      "Requirement already satisfied: jsonpointer>=1.9 in c:\\users\\admin\\anaconda3\\envs\\tm_ns\\lib\\site-packages (from jsonpatch<2.0,>=1.33->langchain-core<0.3.0,>=0.2.7->langchain-community) (3.0.0)\n",
      "Requirement already satisfied: annotated-types>=0.4.0 in c:\\users\\admin\\anaconda3\\envs\\tm_ns\\lib\\site-packages (from pydantic<3,>=1->langchain<0.3.0,>=0.2.5->langchain-community) (0.7.0)\n",
      "Requirement already satisfied: pydantic-core==2.18.4 in c:\\users\\admin\\anaconda3\\envs\\tm_ns\\lib\\site-packages (from pydantic<3,>=1->langchain<0.3.0,>=0.2.5->langchain-community) (2.18.4)\n",
      "Requirement already satisfied: mypy-extensions>=0.3.0 in c:\\users\\admin\\anaconda3\\envs\\tm_ns\\lib\\site-packages (from typing-inspect<1,>=0.4.0->dataclasses-json<0.7,>=0.5.7->langchain-community) (1.0.0)\n",
      "Note: you may need to restart the kernel to use updated packages.\n"
     ]
    }
   ],
   "source": [
    "pip install langchain-community"
   ]
  },
  {
   "cell_type": "code",
   "execution_count": 4,
   "id": "96c43a59",
   "metadata": {},
   "outputs": [
    {
     "name": "stdout",
     "output_type": "stream",
     "text": [
      "Requirement already satisfied: langchain_experimental in c:\\users\\admin\\anaconda3\\envs\\tm_ns\\lib\\site-packages (0.0.61)\n",
      "Requirement already satisfied: langchain-community<0.3.0,>=0.2.5 in c:\\users\\admin\\anaconda3\\envs\\tm_ns\\lib\\site-packages (from langchain_experimental) (0.2.5)\n",
      "Requirement already satisfied: langchain-core<0.3.0,>=0.2.7 in c:\\users\\admin\\anaconda3\\envs\\tm_ns\\lib\\site-packages (from langchain_experimental) (0.2.9)\n",
      "Requirement already satisfied: PyYAML>=5.3 in c:\\users\\admin\\anaconda3\\envs\\tm_ns\\lib\\site-packages (from langchain-community<0.3.0,>=0.2.5->langchain_experimental) (6.0.1)\n",
      "Requirement already satisfied: SQLAlchemy<3,>=1.4 in c:\\users\\admin\\anaconda3\\envs\\tm_ns\\lib\\site-packages (from langchain-community<0.3.0,>=0.2.5->langchain_experimental) (2.0.31)\n",
      "Requirement already satisfied: aiohttp<4.0.0,>=3.8.3 in c:\\users\\admin\\anaconda3\\envs\\tm_ns\\lib\\site-packages (from langchain-community<0.3.0,>=0.2.5->langchain_experimental) (3.9.5)\n",
      "Requirement already satisfied: dataclasses-json<0.7,>=0.5.7 in c:\\users\\admin\\anaconda3\\envs\\tm_ns\\lib\\site-packages (from langchain-community<0.3.0,>=0.2.5->langchain_experimental) (0.6.7)\n",
      "Requirement already satisfied: langchain<0.3.0,>=0.2.5 in c:\\users\\admin\\anaconda3\\envs\\tm_ns\\lib\\site-packages (from langchain-community<0.3.0,>=0.2.5->langchain_experimental) (0.2.5)\n",
      "Requirement already satisfied: langsmith<0.2.0,>=0.1.0 in c:\\users\\admin\\anaconda3\\envs\\tm_ns\\lib\\site-packages (from langchain-community<0.3.0,>=0.2.5->langchain_experimental) (0.1.81)\n",
      "Requirement already satisfied: numpy<2,>=1 in c:\\users\\admin\\anaconda3\\envs\\tm_ns\\lib\\site-packages (from langchain-community<0.3.0,>=0.2.5->langchain_experimental) (1.24.3)\n",
      "Requirement already satisfied: requests<3,>=2 in c:\\users\\admin\\anaconda3\\envs\\tm_ns\\lib\\site-packages (from langchain-community<0.3.0,>=0.2.5->langchain_experimental) (2.32.2)\n",
      "Requirement already satisfied: tenacity<9.0.0,>=8.1.0 in c:\\users\\admin\\anaconda3\\envs\\tm_ns\\lib\\site-packages (from langchain-community<0.3.0,>=0.2.5->langchain_experimental) (8.4.1)\n",
      "Requirement already satisfied: jsonpatch<2.0,>=1.33 in c:\\users\\admin\\anaconda3\\envs\\tm_ns\\lib\\site-packages (from langchain-core<0.3.0,>=0.2.7->langchain_experimental) (1.33)\n",
      "Requirement already satisfied: packaging<25,>=23.2 in c:\\users\\admin\\anaconda3\\envs\\tm_ns\\lib\\site-packages (from langchain-core<0.3.0,>=0.2.7->langchain_experimental) (23.2)\n",
      "Requirement already satisfied: pydantic<3,>=1 in c:\\users\\admin\\anaconda3\\envs\\tm_ns\\lib\\site-packages (from langchain-core<0.3.0,>=0.2.7->langchain_experimental) (2.7.4)\n",
      "Requirement already satisfied: aiosignal>=1.1.2 in c:\\users\\admin\\anaconda3\\envs\\tm_ns\\lib\\site-packages (from aiohttp<4.0.0,>=3.8.3->langchain-community<0.3.0,>=0.2.5->langchain_experimental) (1.3.1)\n",
      "Requirement already satisfied: attrs>=17.3.0 in c:\\users\\admin\\anaconda3\\envs\\tm_ns\\lib\\site-packages (from aiohttp<4.0.0,>=3.8.3->langchain-community<0.3.0,>=0.2.5->langchain_experimental) (23.1.0)\n",
      "Requirement already satisfied: frozenlist>=1.1.1 in c:\\users\\admin\\anaconda3\\envs\\tm_ns\\lib\\site-packages (from aiohttp<4.0.0,>=3.8.3->langchain-community<0.3.0,>=0.2.5->langchain_experimental) (1.4.1)\n",
      "Requirement already satisfied: multidict<7.0,>=4.5 in c:\\users\\admin\\anaconda3\\envs\\tm_ns\\lib\\site-packages (from aiohttp<4.0.0,>=3.8.3->langchain-community<0.3.0,>=0.2.5->langchain_experimental) (6.0.5)\n",
      "Requirement already satisfied: yarl<2.0,>=1.0 in c:\\users\\admin\\anaconda3\\envs\\tm_ns\\lib\\site-packages (from aiohttp<4.0.0,>=3.8.3->langchain-community<0.3.0,>=0.2.5->langchain_experimental) (1.9.4)\n",
      "Requirement already satisfied: async-timeout<5.0,>=4.0 in c:\\users\\admin\\anaconda3\\envs\\tm_ns\\lib\\site-packages (from aiohttp<4.0.0,>=3.8.3->langchain-community<0.3.0,>=0.2.5->langchain_experimental) (4.0.3)\n",
      "Requirement already satisfied: marshmallow<4.0.0,>=3.18.0 in c:\\users\\admin\\anaconda3\\envs\\tm_ns\\lib\\site-packages (from dataclasses-json<0.7,>=0.5.7->langchain-community<0.3.0,>=0.2.5->langchain_experimental) (3.21.3)\n",
      "Requirement already satisfied: typing-inspect<1,>=0.4.0 in c:\\users\\admin\\anaconda3\\envs\\tm_ns\\lib\\site-packages (from dataclasses-json<0.7,>=0.5.7->langchain-community<0.3.0,>=0.2.5->langchain_experimental) (0.9.0)\n",
      "Requirement already satisfied: jsonpointer>=1.9 in c:\\users\\admin\\anaconda3\\envs\\tm_ns\\lib\\site-packages (from jsonpatch<2.0,>=1.33->langchain-core<0.3.0,>=0.2.7->langchain_experimental) (3.0.0)\n",
      "Requirement already satisfied: langchain-text-splitters<0.3.0,>=0.2.0 in c:\\users\\admin\\anaconda3\\envs\\tm_ns\\lib\\site-packages (from langchain<0.3.0,>=0.2.5->langchain-community<0.3.0,>=0.2.5->langchain_experimental) (0.2.1)\n",
      "Requirement already satisfied: orjson<4.0.0,>=3.9.14 in c:\\users\\admin\\anaconda3\\envs\\tm_ns\\lib\\site-packages (from langsmith<0.2.0,>=0.1.0->langchain-community<0.3.0,>=0.2.5->langchain_experimental) (3.10.5)\n",
      "Requirement already satisfied: annotated-types>=0.4.0 in c:\\users\\admin\\anaconda3\\envs\\tm_ns\\lib\\site-packages (from pydantic<3,>=1->langchain-core<0.3.0,>=0.2.7->langchain_experimental) (0.7.0)\n",
      "Requirement already satisfied: pydantic-core==2.18.4 in c:\\users\\admin\\anaconda3\\envs\\tm_ns\\lib\\site-packages (from pydantic<3,>=1->langchain-core<0.3.0,>=0.2.7->langchain_experimental) (2.18.4)\n",
      "Requirement already satisfied: typing-extensions>=4.6.1 in c:\\users\\admin\\anaconda3\\envs\\tm_ns\\lib\\site-packages (from pydantic<3,>=1->langchain-core<0.3.0,>=0.2.7->langchain_experimental) (4.11.0)\n",
      "Requirement already satisfied: charset-normalizer<4,>=2 in c:\\users\\admin\\anaconda3\\envs\\tm_ns\\lib\\site-packages (from requests<3,>=2->langchain-community<0.3.0,>=0.2.5->langchain_experimental) (2.0.4)\n",
      "Requirement already satisfied: idna<4,>=2.5 in c:\\users\\admin\\anaconda3\\envs\\tm_ns\\lib\\site-packages (from requests<3,>=2->langchain-community<0.3.0,>=0.2.5->langchain_experimental) (3.7)\n",
      "Requirement already satisfied: urllib3<3,>=1.21.1 in c:\\users\\admin\\anaconda3\\envs\\tm_ns\\lib\\site-packages (from requests<3,>=2->langchain-community<0.3.0,>=0.2.5->langchain_experimental) (2.2.2)\n",
      "Requirement already satisfied: certifi>=2017.4.17 in c:\\users\\admin\\anaconda3\\envs\\tm_ns\\lib\\site-packages (from requests<3,>=2->langchain-community<0.3.0,>=0.2.5->langchain_experimental) (2024.6.2)\n",
      "Requirement already satisfied: greenlet!=0.4.17 in c:\\users\\admin\\anaconda3\\envs\\tm_ns\\lib\\site-packages (from SQLAlchemy<3,>=1.4->langchain-community<0.3.0,>=0.2.5->langchain_experimental) (3.0.3)\n",
      "Requirement already satisfied: mypy-extensions>=0.3.0 in c:\\users\\admin\\anaconda3\\envs\\tm_ns\\lib\\site-packages (from typing-inspect<1,>=0.4.0->dataclasses-json<0.7,>=0.5.7->langchain-community<0.3.0,>=0.2.5->langchain_experimental) (1.0.0)\n",
      "Note: you may need to restart the kernel to use updated packages.\n"
     ]
    }
   ],
   "source": [
    "pip install langchain_experimental"
   ]
  },
  {
   "cell_type": "code",
   "execution_count": 5,
   "id": "eb68b2e0-0ab0-4700-8166-6a438b1f1626",
   "metadata": {},
   "outputs": [],
   "source": [
    "from langchain_experimental.graph_transformers import LLMGraphTransformer\n",
    "from langchain_community.llms import Ollama\n",
    "from langchain.docstore.document import Document\n",
    "from langchain_experimental.graph_transformers.llm import UnstructuredRelation, examples\n",
    "from langchain.schema import SystemMessage\n",
    "from langchain_core.output_parsers import JsonOutputParser\n",
    "from langchain.prompts import PromptTemplate\n",
    "from langchain_core.prompts import ChatPromptTemplate, HumanMessagePromptTemplate\n",
    "from langchain_community.chat_models import ChatOllama\n",
    "import time"
   ]
  },
  {
   "cell_type": "code",
   "execution_count": 18,
   "id": "983e7c63-e217-4d0a-abe4-efb3bacaad58",
   "metadata": {},
   "outputs": [],
   "source": [
    "from langchain.text_splitter import RecursiveCharacterTextSplitter\n",
    "def recurs_split(x):\n",
    "    text_splitter = RecursiveCharacterTextSplitter.from_tiktoken_encoder(\n",
    "        chunk_size=400, chunk_overlap=50\n",
    "    )\n",
    "    split_docs = text_splitter.create_documents([x])\n",
    "    return(split_docs)"
   ]
  },
  {
   "cell_type": "code",
   "execution_count": 19,
   "id": "0836bc60-94e9-4473-b78e-854c33720e2e",
   "metadata": {},
   "outputs": [],
   "source": [
    "llm = ChatOllama(temperature=0, model = \"llama3\")"
   ]
  },
  {
   "cell_type": "code",
   "execution_count": 20,
   "id": "1394ec17-8037-4751-8392-8b0d836e1727",
   "metadata": {},
   "outputs": [],
   "source": [
    "\n",
    "system_prompt = \"\"\"\n",
    "You are a data scientist working for a company that is building a knowledge graph database. \n",
    "Your task is to extract information from data and convert it into a knowledge graph database.\n",
    "Provide a set of Nodes in the form [head, head_type, relation, tail, tail_type].\n",
    "It is important that the head and tail exists as nodes that are related by the relation. If you can't pair a relationship with a pair of nodes don't add it.\n",
    "When you find a node or relationship you want to add try to create a generic TYPE for it that describes the entity you can also think of it as a label.\n",
    "You must generate the output in a JSON format containing a list with JSON objects. Each object should have the keys: \"head\", \"head_type\", \"relation\", \"tail\", and \"tail_type\".\n",
    "\"\"\"\n",
    "\n",
    "system_message = SystemMessage(content=system_prompt)\n",
    "parser = JsonOutputParser(pydantic_object=UnstructuredRelation)\n",
    "\n",
    "human_prompt = PromptTemplate(\n",
    "    template=\"\"\"\n",
    "Examples:\n",
    "{examples}\n",
    "\n",
    "For the following text, extract entities and relations as in the provided example.\n",
    "{format_instructions}\\nText: {input}\"\"\",\n",
    "    input_variables=[\"input\"],\n",
    "    partial_variables={\n",
    "        \"format_instructions\": parser.get_format_instructions(),\n",
    "        \"node_labels\": None,\n",
    "        \"rel_types\": None,\n",
    "        \"examples\": examples,\n",
    "    },\n",
    ")\n",
    "\n",
    "human_message_prompt = HumanMessagePromptTemplate(prompt=human_prompt)\n",
    "\n",
    "chat_prompt = ChatPromptTemplate.from_messages(\n",
    "    [system_message, human_message_prompt]\n",
    ")"
   ]
  },
  {
   "cell_type": "code",
   "execution_count": 21,
   "id": "0e67713e-fb35-45a0-99b5-f18fe80799cb",
   "metadata": {},
   "outputs": [],
   "source": [
    "llm_transformer = LLMGraphTransformer(llm=llm, prompt=chat_prompt)"
   ]
  },
  {
   "cell_type": "code",
   "execution_count": 22,
   "id": "8c0d1f7c",
   "metadata": {},
   "outputs": [],
   "source": [
    "text = \"[BIOGRAPHY] To be determined. [IDENTIFICATION] Permanent resident of Malaysia. Alternative age: 55 (2016/01/10). [REPORTS] Jan 2016 - charged with human trafficking of an under aged girl for the purpose of labour exploitation. Pleaded not guilty. Remanded.\""
   ]
  },
  {
   "cell_type": "code",
   "execution_count": 23,
   "id": "947a1fc9",
   "metadata": {},
   "outputs": [
    {
     "data": {
      "text/plain": [
       "[[Document(page_content='[BIOGRAPHY] To be determined. [IDENTIFICATION] Permanent resident of Malaysia. Alternative age: 55 (2016/01/10). [REPORTS] Jan 2016 - charged with human trafficking of an under aged girl for the purpose of labour exploitation. Pleaded not guilty. Remanded.')]]"
      ]
     },
     "execution_count": 23,
     "metadata": {},
     "output_type": "execute_result"
    }
   ],
   "source": [
    "strr = [recurs_split(text)]\n",
    "\n",
    "strr"
   ]
  },
  {
   "cell_type": "code",
   "execution_count": 25,
   "id": "147fc0b5-2f50-4b57-8c3a-981dfbd4e283",
   "metadata": {},
   "outputs": [
    {
     "data": {
      "text/plain": [
       "[Document(page_content='[BIOGRAPHY] To be determined. [IDENTIFICATION] Permanent resident of Malaysia. Alternative age: 55 (2016/01/10). [REPORTS] Jan 2016 - charged with human trafficking of an under aged girl for the purpose of labour exploitation. Pleaded not guilty. Remanded.')]"
      ]
     },
     "execution_count": 25,
     "metadata": {},
     "output_type": "execute_result"
    }
   ],
   "source": [
    "# strr[0]"
   ]
  },
  {
   "cell_type": "code",
   "execution_count": 26,
   "id": "dde58a84",
   "metadata": {},
   "outputs": [],
   "source": [
    "st1 = time.time()\n",
    "graph_doc = llm_transformer.convert_to_graph_documents(strr[0])\n",
    "et1 = time.time()"
   ]
  },
  {
   "cell_type": "code",
   "execution_count": 27,
   "id": "75113c25",
   "metadata": {},
   "outputs": [
    {
     "name": "stdout",
     "output_type": "stream",
     "text": [
      "10.94710898399353\n"
     ]
    }
   ],
   "source": [
    "print(et1-st1)"
   ]
  },
  {
   "cell_type": "code",
   "execution_count": 28,
   "id": "fa36e42a",
   "metadata": {},
   "outputs": [
    {
     "name": "stdout",
     "output_type": "stream",
     "text": [
      "[GraphDocument(nodes=[Node(id='55', type='Age'), Node(id='human trafficking of an under aged girl for the purpose of labour exploitation', type='Crime'), Node(id='Malaysia', type='Location'), Node(id='To be determined', type='Person'), Node(id='Permanent resident of Malaysia', type='Location')], relationships=[Relationship(source=Node(id='To be determined', type='Person'), target=Node(id='Permanent resident of Malaysia', type='Location'), type='IDENTIFIED_AS'), Relationship(source=Node(id='To be determined', type='Person'), target=Node(id='55', type='Age'), type='HAS_AGE'), Relationship(source=Node(id='To be determined', type='Person'), target=Node(id='Malaysia', type='Location'), type='LIVES_IN'), Relationship(source=Node(id='To be determined', type='Person'), target=Node(id='human trafficking of an under aged girl for the purpose of labour exploitation', type='Crime'), type='CHARGED_WITH')], source=Document(page_content='[BIOGRAPHY] To be determined. [IDENTIFICATION] Permanent resident of Malaysia. Alternative age: 55 (2016/01/10). [REPORTS] Jan 2016 - charged with human trafficking of an under aged girl for the purpose of labour exploitation. Pleaded not guilty. Remanded.'))]\n"
     ]
    }
   ],
   "source": [
    "print(graph_doc)"
   ]
  },
  {
   "cell_type": "code",
   "execution_count": 29,
   "id": "f80c2fc0",
   "metadata": {},
   "outputs": [],
   "source": [
    "text = \"[AUSTRALIA SANCTIONS - DFAT] No 446,a (Mar 2013 - removed). PRIMARY NAME: Zaini Zakaria. Alias: Ahmad. DOB: 16-May-67. POB: Kelantan, Malaysia. Citizenship: Malaysia. Address: Kota Bharu, Kelantan, Malaysia. Additional Information: Passport number A11457974, National identification number 670516-03-5283 In custody in the Philippines as of Feb. 2008. Review pursuant to Security Council resolution 1822 (2008) was concluded on 19 Jun. 2009. [CANADA SANCTIONS - UNSTR] May 2011 - amended. Mar 2013 - removed. QI.Z.127.03. PRIMARY NAME: Zakaria,Zaini. POB; Kelantan, Malaysia. DOB: 16/05/67. Nationality: Malaysian. Passport no.: A 11457974; National identification no.: 670516-03-5283; Address: Kota Bharu, State of Kelantan, Malaysia. [EU SANCTIONS] EC 881/2002 (Apr 2013 - removed). 2002/402/CFSP PRIMARY NAME: Zaini Zakaria (alias Ahmad). Address: Kota Bharu, Kelantan, Malaysia. Date of birth: 16.5.1967. Place of birth: Kelantan, Malaysia. Nationality: Malaysian. Passport No: A11457974. National identification No: 670516-03-5283. Date of designation referred to in Article 2a (4) (b): 9.9.2003. [HONG KONG SANCTIONS - HKGAZ] G.N.6664 (14 Oct 2011) (AQ/TA split). G.N.2219 (26 April 2013 - removed). QI.Z.127.03. PRIMARY NAME:ZAINI ZAKARIA. DOB: 16 May 1967. POB: Kelantan, Malaysia. Low quality a.k.a.: Ahmad. Nationality: Malaysian. Passport no.: A 11457974. National identification no.: 670516-03-5283. Address: Kota Bharu, State of Kelantan, Malaysia. Other information: Review pursuant to Security Council resolution 1822 (2008) was concluded on 19 Jun. 2009. [ISRAEL SANCTIONS - IMOD] Nov 2011 - addition. May 2013 - removed. Listed under Section 2 of Prohibition of Financing Terrorism Law. PRIMARY NAME: Zaini Zakaria. [SWITZERLAND SANCTIONS - SECO] SSID: 10-17045 (Sep 2003 - addition. Apr 2013 - removed). Foreign identifier: QI.Z.127.03. PRIMARY NAME: Zaini Zakaria DOB: 16 May 1967 POB: Kelantan, Malaysia Low quality a.k.a.: Ahmad Address: Kota Bharu, State of Kelantan, Malaysia Nationality: Malaysia Identification document: a) Passport No. A 11457974, Malaysia b) ID card No. 670516-03-5283, Malaysia Other information: Review pursuant to Security Council resolution 1822 (2008) was concluded on 19 Jun 2009. [UK SANCTIONS - UKHMT] Sep 2003 - addition. Apr 2013 - removed. PRIMARY NAME: ZAKARIA,ZAINI. DOB: 16/05/1967. POB: Kelantan, Malaysia. Nationality: Malaysian. Passport Details: A 11457974. National Identification no: 670516-03-5283. Address: Kota Bharu, State of Kelantan, Malaysia. Other Information: UN Ref QI.Z.127.03. Also referred to as Ahmad. Group ID: 7852. [UN SANCTIONS] UNSCR 1267 (1999) (Sep 2003 - addition. Mar 2013 - removed). QI.Z.127.03. PRIMARY NAME:ZAINI ZAKARIA. DOB: 16 May 1967. POB: Kelantan, Malaysia. Low quality a.k.a.: Ahmad. Nationality: Malaysian. Passport no.: A 11457974. National identification no.: 670516-03-5283. Address: Kota Bharu, State of Kelantan, Malaysia. Other information: Review pursuant to Security Council resolution 1822 (2008) was concluded on 19 Jun. 2009. [UN REPORTS - INTERPOL] 2006-25701. No longer appears on Interpol-United Nations Security Council Special Notice, subject to UN Sanctions - Al-Qaida (QI.Z.127.03.). [USA SANCTIONS - OFAC] SDN Ref No 7939 - SDGT (Specially Designated Global Terrorist) (Sep 2003 - addition. Sep 2009 - amended). PRIMARY NAME: ZAKARIA, Zaini. A-1-8 Pangsapuri Sri Tanjung, Jalan Sky BS2, Bukit Sentosa Rawang, Selangor 48300, Malaysia. DOB 16 Jun 1967; alt. DOB 16 May 1967. POB Kelantan, Malaysia. Passport A11457974 (Malaysia). [SANCTIONS NOTE] This entry has been removed by a published EU regulation. [SANCTIONS HISTORY] EU (Regulation)(- Apr 2013). UKHMT (Sep 2003 - Apr 2013). UN (Sep 2003 - Mar 2013). Mar 2013 - removed from Australia, Canada, China, Jersey, New Zealand, Singapore and Ukraine sanctions lists. Apr 2013 - removed from Austria, France (Regulation), Germany (Regulation), Hong Kong (HKGAZ), India, Isle of Man, Luxembourg, Malta, Russia, Spain (Regulation) and Switzerland (SECO) sanctions lists. May 2013 - removed from Israel and Japan (JMOF) sanctions lists. Sep 2013 - removed from Monaco sanctions list. Oct 2013 - removed from Azerbaijan sanctions list. Feb 2016 - removed from South Korea (KRMSF) sanctions list. Feb 2017 - no longer appears on Liechtenstein sanctions list. [BIOGRAPHY] Alleged member {General} of Jemaa Islamiyah (JI). Reportedly recruited by al Qa'ida to pilot a plane in a second wave of 9/11 style attacks on the United States. [IDENTIFICATION] Resident of Kota Bharu, Kelantan. Abdul Matin Anol Rahmat (father-in-law). Also referred to as AHMAD. [FUNDING] Engineer. [REPORTS] May 2013 - removed by the Israeli Ministerial Committee for National Security Affairs from the Individuals sanction list. Nov 2020 - reportedly subject to export control measures related to Strategic High-Tech Commodities (SHTC) imposed by Taiwan's Bureau of Foreign Trade (BFT).[NONCONVICTION TERROR CATEGORY NOTICE] This category includes information about individuals who are reportedly being investigated for, or have been arrested or charged on suspicion of, involvement in terrorism or terror related activities. The category also includes individuals or entities identified on national or internationally recognised banning, warning or wanted lists as allegedly connected to terrorism or individuals who are reportedly connected to an organisation included on any national or international terrorism list. Inclusion in this category does not mean that an individual or entity is a terrorist or terrorist organisation or that they are involved in or connected to terrorism or terror related activity. Individuals included in this category have not been convicted of any terror related activity; you should review the content carefully and in accordance with our terms and conditions, further enquiries should be made of the report subject to investigate the outcome of any alleged investigation, arrest, charges or any reported connection to any terror related activity and whether such allegations are denied.\""
   ]
  },
  {
   "cell_type": "code",
   "execution_count": 30,
   "id": "aed4d631",
   "metadata": {},
   "outputs": [],
   "source": [
    "strr2 = [recurs_split(text)]\n",
    "\n",
    "strr2\n",
    "\n",
    "st1 = time.time()\n",
    "graph_doc2 = llm_transformer.convert_to_graph_documents(strr2[0])\n",
    "et1 = time.time()"
   ]
  },
  {
   "cell_type": "code",
   "execution_count": 31,
   "id": "119a0540",
   "metadata": {},
   "outputs": [
    {
     "name": "stdout",
     "output_type": "stream",
     "text": [
      "117.37574505805969\n"
     ]
    }
   ],
   "source": [
    "print(et1-st1)"
   ]
  },
  {
   "cell_type": "code",
   "execution_count": 32,
   "id": "34e32ace",
   "metadata": {
    "scrolled": true
   },
   "outputs": [
    {
     "name": "stdout",
     "output_type": "stream",
     "text": [
      "[GraphDocument(nodes=[Node(id='A11457974', type='Passport Number'), Node(id='16.5.1967', type='Date of Birth'), Node(id='EU SANCTIONS', type='Sanctions'), Node(id='CANADA SANCTIONS', type='Sanctions'), Node(id='Zaini Zakaria', type='Person'), Node(id='670516-03-5283', type='National Identification Number'), Node(id='Kota Bharu, Kelantan, Malaysia', type='Address'), Node(id='Kota Bharu, State of Kelantan, Malaysia', type='Address'), Node(id='Zakaria, Zaini', type='Person'), Node(id='HONG KONG SANCTIONS', type='Sanctions'), Node(id='Kelantan, Malaysia', type='Place'), Node(id='Ahmad', type='Alias'), Node(id='AUSTRALIA SANCTIONS', type='Sanctions'), Node(id='Philippines', type='Country')], relationships=[Relationship(source=Node(id='Zaini Zakaria', type='Person'), target=Node(id='AUSTRALIA SANCTIONS', type='Sanctions'), type='IS_SANCTIONED_BY'), Relationship(source=Node(id='Zaini Zakaria', type='Person'), target=Node(id='Ahmad', type='Alias'), type='HAS_ALIAS'), Relationship(source=Node(id='Zaini Zakaria', type='Person'), target=Node(id='Philippines', type='Country'), type='WAS_IN_CUSTODY'), Relationship(source=Node(id='Zaini Zakaria', type='Person'), target=Node(id='A11457974', type='Passport Number'), type='HAD_PASSPORT_NUMBER'), Relationship(source=Node(id='Zaini Zakaria', type='Person'), target=Node(id='670516-03-5283', type='National Identification Number'), type='HAD_NATIONAL_IDENTIFICATION_NUMBER'), Relationship(source=Node(id='Zakaria, Zaini', type='Person'), target=Node(id='CANADA SANCTIONS', type='Sanctions'), type='IS_SANCTIONED_BY'), Relationship(source=Node(id='Zaini Zakaria', type='Person'), target=Node(id='Kota Bharu, State of Kelantan, Malaysia', type='Address'), type='HAD_ADDRESS'), Relationship(source=Node(id='Zaini Zakaria', type='Person'), target=Node(id='Kelantan, Malaysia', type='Place'), type='WAS_BORN_IN'), Relationship(source=Node(id='Zaini Zakaria', type='Person'), target=Node(id='16.5.1967', type='Date of Birth'), type='HAD_DATE_OF_BIRTH'), Relationship(source=Node(id='Zaini Zakaria', type='Person'), target=Node(id='EU SANCTIONS', type='Sanctions'), type='IS_SANCTIONED_BY'), Relationship(source=Node(id='Zaini Zakaria', type='Person'), target=Node(id='Kota Bharu, Kelantan, Malaysia', type='Address'), type='HAD_ADDRESS'), Relationship(source=Node(id='Zaini Zakaria', type='Person'), target=Node(id='Kelantan, Malaysia', type='Place'), type='WAS_BORN_IN'), Relationship(source=Node(id='Zaini Zakaria', type='Person'), target=Node(id='16.5.1967', type='Date of Birth'), type='HAD_DATE_OF_BIRTH'), Relationship(source=Node(id='Zaini Zakaria', type='Person'), target=Node(id='HONG KONG SANCTIONS', type='Sanctions'), type='IS_SANCTIONED_BY')], source=Document(page_content='[AUSTRALIA SANCTIONS - DFAT] No 446,a (Mar 2013 - removed). PRIMARY NAME: Zaini Zakaria. Alias: Ahmad. DOB: 16-May-67. POB: Kelantan, Malaysia. Citizenship: Malaysia. Address: Kota Bharu, Kelantan, Malaysia. Additional Information: Passport number A11457974, National identification number 670516-03-5283 In custody in the Philippines as of Feb. 2008. Review pursuant to Security Council resolution 1822 (2008) was concluded on 19 Jun. 2009. [CANADA SANCTIONS - UNSTR] May 2011 - amended. Mar 2013 - removed. QI.Z.127.03. PRIMARY NAME: Zakaria,Zaini. POB; Kelantan, Malaysia. DOB: 16/05/67. Nationality: Malaysian. Passport no.: A 11457974; National identification no.: 670516-03-5283; Address: Kota Bharu, State of Kelantan, Malaysia. [EU SANCTIONS] EC 881/2002 (Apr 2013 - removed). 2002/402/CFSP PRIMARY NAME: Zaini Zakaria (alias Ahmad). Address: Kota Bharu, Kelantan, Malaysia. Date of birth: 16.5.1967. Place of birth: Kelantan, Malaysia. Nationality: Malaysian. Passport No: A11457974. National identification No: 670516-03-5283. Date of designation referred to in Article 2a (4) (b): 9.9.2003. [HONG KONG SANCTIONS - HKGAZ] G.N.6664 (14 Oct 2011) (AQ/TA split). G.N.2219 (26 April 2013 - removed).')), GraphDocument(nodes=[Node(id='Zaini Zakaria', type='Person'), Node(id='UK SANCTIONS - UKHMT', type='Sanctions'), Node(id='SWITZERLAND SANCTIONS - SECO', type='Sanctions'), Node(id='HONG KONG SANCTIONS - HKGAZ', type='Sanctions'), Node(id='ISRAEL SANCTIONS - IMOD', type='Sanctions')], relationships=[Relationship(source=Node(id='Zaini Zakaria', type='Person'), target=Node(id='HONG KONG SANCTIONS - HKGAZ', type='Sanctions'), type='IS_SANCTIONED_BY'), Relationship(source=Node(id='Zaini Zakaria', type='Person'), target=Node(id='ISRAEL SANCTIONS - IMOD', type='Sanctions'), type='IS_SANCTIONED_BY'), Relationship(source=Node(id='Zaini Zakaria', type='Person'), target=Node(id='SWITZERLAND SANCTIONS - SECO', type='Sanctions'), type='IS_SANCTIONED_BY'), Relationship(source=Node(id='Zaini Zakaria', type='Person'), target=Node(id='UK SANCTIONS - UKHMT', type='Sanctions'), type='IS_SANCTIONED_BY')], source=Document(page_content='9.9.2003. [HONG KONG SANCTIONS - HKGAZ] G.N.6664 (14 Oct 2011) (AQ/TA split). G.N.2219 (26 April 2013 - removed). QI.Z.127.03. PRIMARY NAME:ZAINI ZAKARIA. DOB: 16 May 1967. POB: Kelantan, Malaysia. Low quality a.k.a.: Ahmad. Nationality: Malaysian. Passport no.: A 11457974. National identification no.: 670516-03-5283. Address: Kota Bharu, State of Kelantan, Malaysia. Other information: Review pursuant to Security Council resolution 1822 (2008) was concluded on 19 Jun. 2009. [ISRAEL SANCTIONS - IMOD] Nov 2011 - addition. May 2013 - removed. Listed under Section 2 of Prohibition of Financing Terrorism Law. PRIMARY NAME: Zaini Zakaria. [SWITZERLAND SANCTIONS - SECO] SSID: 10-17045 (Sep 2003 - addition. Apr 2013 - removed). Foreign identifier: QI.Z.127.03. PRIMARY NAME: Zaini Zakaria DOB: 16 May 1967 POB: Kelantan, Malaysia Low quality a.k.a.: Ahmad Address: Kota Bharu, State of Kelantan, Malaysia Nationality: Malaysia Identification document: a) Passport No. A 11457974, Malaysia b) ID card No. 670516-03-5283, Malaysia Other information: Review pursuant to Security Council resolution 1822 (2008) was concluded on 19 Jun 2009. [UK SANCTIONS - UKHMT] Sep 2003 - addition. Apr 2013 - removed. PRIMARY NAME: ZAKARIA,ZAINI. DOB: 16/05/1967.')), GraphDocument(nodes=[Node(id='ZAINI ZAKARIA', type='Person'), Node(id='UN Sanctions - Al-Qaida (QI.Z.127.03.)', type='Sanction List'), Node(id='670516-03-5283', type='National Identification'), Node(id='Ahmad', type='Alias'), Node(id='USA SANCTIONS - OFAC', type='Sanction List'), Node(id='A 11457974', type='Passport'), Node(id='7852', type='Group ID'), Node(id='Kota Bharu, State of Kelantan, Malaysia', type='Location'), Node(id='Malaysia', type='Country')], relationships=[Relationship(source=Node(id='ZAINI ZAKARIA', type='Person'), target=Node(id='Kota Bharu, State of Kelantan, Malaysia', type='Location'), type='HAS_ADDRESS'), Relationship(source=Node(id='ZAINI ZAKARIA', type='Person'), target=Node(id='Malaysia', type='Country'), type='IS_NATIONAL_OF'), Relationship(source=Node(id='ZAINI ZAKARIA', type='Person'), target=Node(id='A 11457974', type='Passport'), type='HAS_PASSEPORT'), Relationship(source=Node(id='ZAINI ZAKARIA', type='Person'), target=Node(id='670516-03-5283', type='National Identification'), type='HAS_NATIONAL_IDENTIFICATION'), Relationship(source=Node(id='ZAINI ZAKARIA', type='Person'), target=Node(id='Ahmad', type='Alias'), type='IS_KNOWN_AS'), Relationship(source=Node(id='ZAINI ZAKARIA', type='Person'), target=Node(id='7852', type='Group ID'), type='HAS_GROUP_ID'), Relationship(source=Node(id='ZAINI ZAKARIA', type='Person'), target=Node(id='UN Sanctions - Al-Qaida (QI.Z.127.03.)', type='Sanction List'), type='IS_SUBJECT_TO_SANCTIONS'), Relationship(source=Node(id='ZAINI ZAKARIA', type='Person'), target=Node(id='USA SANCTIONS - OFAC', type='Sanction List'), type='IS_SUBJECT_TO_SANCTIONS')], source=Document(page_content='was concluded on 19 Jun 2009. [UK SANCTIONS - UKHMT] Sep 2003 - addition. Apr 2013 - removed. PRIMARY NAME: ZAKARIA,ZAINI. DOB: 16/05/1967. POB: Kelantan, Malaysia. Nationality: Malaysian. Passport Details: A 11457974. National Identification no: 670516-03-5283. Address: Kota Bharu, State of Kelantan, Malaysia. Other Information: UN Ref QI.Z.127.03. Also referred to as Ahmad. Group ID: 7852. [UN SANCTIONS] UNSCR 1267 (1999) (Sep 2003 - addition. Mar 2013 - removed). QI.Z.127.03. PRIMARY NAME:ZAINI ZAKARIA. DOB: 16 May 1967. POB: Kelantan, Malaysia. Low quality a.k.a.: Ahmad. Nationality: Malaysian. Passport no.: A 11457974. National identification no.: 670516-03-5283. Address: Kota Bharu, State of Kelantan, Malaysia. Other information: Review pursuant to Security Council resolution 1822 (2008) was concluded on 19 Jun. 2009. [UN REPORTS - INTERPOL] 2006-25701. No longer appears on Interpol-United Nations Security Council Special Notice, subject to UN Sanctions - Al-Qaida (QI.Z.127.03.). [USA SANCTIONS - OFAC] SDN Ref No 7939 - SDGT (Specially Designated Global Terrorist) (Sep 2003 - addition. Sep 2009 - amended). PRIMARY NAME: ZAKARIA, Zaini. A-1-8 Pangsapuri Sri Tanjung, Jalan Sky BS2, Bukit Sentosa Rawang, Selangor 48300, Malaysia.')), GraphDocument(nodes=[Node(id=\"al Qa'ida\", type='Organization'), Node(id='A11457974 (Malaysia)', type='Document'), Node(id='A-1-8 Pangsapuri Sri Tanjung, Jalan Sky BS2, Bukit Sentosa Rawang, Selangor 48300, Malaysia', type='Location'), Node(id='Kota Bharu, Kelantan', type='Location'), Node(id='Zaini Zakaria', type='Person'), Node(id='Jemaa Islamiyah (JI)', type='Organization'), Node(id='Kelantan, Malaysia', type='Location'), Node(id='Engineer', type='Job')], relationships=[Relationship(source=Node(id='Zaini Zakaria', type='Person'), target=Node(id='A-1-8 Pangsapuri Sri Tanjung, Jalan Sky BS2, Bukit Sentosa Rawang, Selangor 48300, Malaysia', type='Location'), type='LIVES_AT'), Relationship(source=Node(id='Zaini Zakaria', type='Person'), target=Node(id='Kelantan, Malaysia', type='Location'), type='BORN_IN'), Relationship(source=Node(id='Zaini Zakaria', type='Person'), target=Node(id='A11457974 (Malaysia)', type='Document'), type='HAS_PASPORT'), Relationship(source=Node(id='Zaini Zakaria', type='Person'), target=Node(id='Jemaa Islamiyah (JI)', type='Organization'), type='ALLEGED_MEMBER_OF'), Relationship(source=Node(id='Zaini Zakaria', type='Person'), target=Node(id=\"al Qa'ida\", type='Organization'), type='RECRUITED_BY'), Relationship(source=Node(id='Zaini Zakaria', type='Person'), target=Node(id='Engineer', type='Job'), type='WORKS_AS'), Relationship(source=Node(id='Zaini Zakaria', type='Person'), target=Node(id='Kota Bharu, Kelantan', type='Location'), type='LIVES_IN')], source=Document(page_content=\"PRIMARY NAME: ZAKARIA, Zaini. A-1-8 Pangsapuri Sri Tanjung, Jalan Sky BS2, Bukit Sentosa Rawang, Selangor 48300, Malaysia. DOB 16 Jun 1967; alt. DOB 16 May 1967. POB Kelantan, Malaysia. Passport A11457974 (Malaysia). [SANCTIONS NOTE] This entry has been removed by a published EU regulation. [SANCTIONS HISTORY] EU (Regulation)(- Apr 2013). UKHMT (Sep 2003 - Apr 2013). UN (Sep 2003 - Mar 2013). Mar 2013 - removed from Australia, Canada, China, Jersey, New Zealand, Singapore and Ukraine sanctions lists. Apr 2013 - removed from Austria, France (Regulation), Germany (Regulation), Hong Kong (HKGAZ), India, Isle of Man, Luxembourg, Malta, Russia, Spain (Regulation) and Switzerland (SECO) sanctions lists. May 2013 - removed from Israel and Japan (JMOF) sanctions lists. Sep 2013 - removed from Monaco sanctions list. Oct 2013 - removed from Azerbaijan sanctions list. Feb 2016 - removed from South Korea (KRMSF) sanctions list. Feb 2017 - no longer appears on Liechtenstein sanctions list. [BIOGRAPHY] Alleged member {General} of Jemaa Islamiyah (JI). Reportedly recruited by al Qa'ida to pilot a plane in a second wave of 9/11 style attacks on the United States. [IDENTIFICATION] Resident of Kota Bharu, Kelantan. Abdul Matin Anol Rahmat (father-in-law). Also referred to as AHMAD. [FUNDING] Engineer. [REPORTS] May 2013 - removed by the Israeli Ministerial Committee for National Security Affairs from the Individuals sanction list. Nov 2020 - reportedly subject to export control measures related to Strategic\")), GraphDocument(nodes=[Node(id=\"Taiwan's Bureau of Foreign Trade (BFT)\", type='Government Agency'), Node(id='Israeli Ministerial Committee for National Security Affairs', type='Government Agency'), Node(id='AHMAD', type='Person'), Node(id='', type='')], relationships=[Relationship(source=Node(id='AHMAD', type='Person'), target=Node(id='', type=''), type='ENGINEER'), Relationship(source=Node(id='AHMAD', type='Person'), target=Node(id='Israeli Ministerial Committee for National Security Affairs', type='Government Agency'), type='REMOVED_FROM_SANCTION_LIST'), Relationship(source=Node(id='AHMAD', type='Person'), target=Node(id=\"Taiwan's Bureau of Foreign Trade (BFT)\", type='Government Agency'), type='SUBJECT_TO_EXPORT_CONTROL_MEASURES')], source=Document(page_content=\"referred to as AHMAD. [FUNDING] Engineer. [REPORTS] May 2013 - removed by the Israeli Ministerial Committee for National Security Affairs from the Individuals sanction list. Nov 2020 - reportedly subject to export control measures related to Strategic High-Tech Commodities (SHTC) imposed by Taiwan's Bureau of Foreign Trade (BFT).[NONCONVICTION TERROR CATEGORY NOTICE] This category includes information about individuals who are reportedly being investigated for, or have been arrested or charged on suspicion of, involvement in terrorism or terror related activities. The category also includes individuals or entities identified on national or internationally recognised banning, warning or wanted lists as allegedly connected to terrorism or individuals who are reportedly connected to an organisation included on any national or international terrorism list. Inclusion in this category does not mean that an individual or entity is a terrorist or terrorist organisation or that they are involved in or connected to terrorism or terror related activity. Individuals included in this category have not been convicted of any terror related activity; you should review the content carefully and in accordance with our terms and conditions, further enquiries should be made of the report subject to investigate the outcome of any alleged investigation, arrest, charges or any reported connection to any terror related activity and whether such allegations are denied.\"))]\n"
     ]
    }
   ],
   "source": [
    "print(graph_doc2)"
   ]
  },
  {
   "cell_type": "markdown",
   "id": "6bf0deef",
   "metadata": {},
   "source": [
    "# PLEASE RUN TILL HERE"
   ]
  },
  {
   "cell_type": "code",
   "execution_count": null,
   "id": "8dcc5d1e",
   "metadata": {},
   "outputs": [],
   "source": []
  },
  {
   "cell_type": "code",
   "execution_count": null,
   "id": "71b3ea63",
   "metadata": {},
   "outputs": [],
   "source": []
  },
  {
   "cell_type": "code",
   "execution_count": 5,
   "id": "62c63363-79b8-42b2-923f-082d8eeed8a2",
   "metadata": {},
   "outputs": [
    {
     "name": "stdout",
     "output_type": "stream",
     "text": [
      "[US DEPARTMENT OF COMMERCE] Bureau of Industry and Security - Appropriate Federal Register Citations: 73 F.R. 63678 10/27/08. Name - AHMED, YASMIN 612 BUSINESS CENTRE, MUMTAZ HASAN ROAD OFF I.I. CHUNDRIGAR ROAD, KARACHI, PK. Denied Persons List effective term 16 Oct 2008 - 16 Oct 2015. Oct 2015 - denial order expired. [US STATE DEPARTMENT] Directorate of Defence Trade Controls list of Parties Debarred for Arms Export Control Act convictions. 69 FR 17468, 04/02/2004. PRIMARY NAME - Ahmed, Yasmin (a.k.a. Yasmin Tariq; Fatimah Mohammad). [REGULATIONS HISTORY] Oct 2015 - denial order expired. [BIOGRAPHY] To be determined. [IDENTIFICATION] Naturalized US citizen. Worked in United Arab Emirates (reported 2003). Tariq Ahmed (spouse).\n"
     ]
    }
   ],
   "source": [
    "text = \"\"\"[US DEPARTMENT OF COMMERCE] Bureau of Industry and Security - Appropriate Federal Register Citations: 73 F.R. 63678 10/27/08. Name - AHMED, YASMIN 612 BUSINESS CENTRE, MUMTAZ HASAN ROAD OFF I.I. CHUNDRIGAR ROAD, KARACHI, PK. Denied Persons List effective term 16 Oct 2008 - 16 Oct 2015. Oct 2015 - denial order expired. [US STATE DEPARTMENT] Directorate of Defence Trade Controls list of Parties Debarred for Arms Export Control Act convictions. 69 FR 17468, 04/02/2004. PRIMARY NAME - Ahmed, Yasmin (a.k.a. Yasmin Tariq; Fatimah Mohammad). [REGULATIONS HISTORY] Oct 2015 - denial order expired. [BIOGRAPHY] To be determined. [IDENTIFICATION] Naturalized US citizen. Worked in United Arab Emirates (reported 2003). Tariq Ahmed (spouse).\"\"\"\n",
    "\n",
    "print(text)"
   ]
  },
  {
   "cell_type": "code",
   "execution_count": 5,
   "id": "43976504",
   "metadata": {},
   "outputs": [],
   "source": [
    "text = '[USA SANCTIONS - OFAC] SDN Ref No 31939 - OFAC-BM-EO14014 (Executive Order 14014) (May 2021 - addition). PRIMARY NAME: HTET, Kaung (a.k.a. HTET, U Kaung), Burma; DOB 03 Aug 1992; nationality Burma; Gender Male; National ID No. 12DAGANAN032517 (Burma). [BIOGRAPHY] To be determined. [IDENTIFICATION] National ID no: 12DAGANAN032517 (Burma). Alternative Citizenship: Myanmar. Maung Maung Kyaw (PEP) (father). Aung Mar Myint (mother). Kaung Htet (brother). Lin Lett Thiri (sister-in-law). [REPORTS] Sep 2021 - no further information reported.'"
   ]
  },
  {
   "cell_type": "code",
   "execution_count": 7,
   "id": "0406e210",
   "metadata": {},
   "outputs": [
    {
     "data": {
      "text/plain": [
       "539"
      ]
     },
     "execution_count": 7,
     "metadata": {},
     "output_type": "execute_result"
    }
   ],
   "source": [
    "len(text)"
   ]
  },
  {
   "cell_type": "code",
   "execution_count": 11,
   "id": "c22e7a77",
   "metadata": {},
   "outputs": [],
   "source": [
    "import time"
   ]
  },
  {
   "cell_type": "code",
   "execution_count": 5,
   "id": "1148a399",
   "metadata": {},
   "outputs": [],
   "source": [
    "text =  \"[AUSTRALIA SANCTIONS - DFAT] No 446,a (Mar 2013 - removed). PRIMARY NAME: Zaini Zakaria. Alias: Ahmad. DOB: 16-May-67. POB: Kelantan, Malaysia. Citizenship: Malaysia. Address: Kota Bharu, Kelantan, Malaysia. Additional Information: Passport number A11457974, National identification number 670516-03-5283 In custody in the Philippines as of Feb. 2008. Review pursuant to Security Council resolution 1822 (2008) was concluded on 19 Jun. 2009. [CANADA SANCTIONS - UNSTR] May 2011 - amended. Mar 2013 - removed. QI.Z.127.03. PRIMARY NAME: Zakaria,Zaini. POB; Kelantan, Malaysia. DOB: 16/05/67. Nationality: Malaysian. Passport no.: A 11457974; National identification no.: 670516-03-5283; Address: Kota Bharu, State of Kelantan, Malaysia. [EU SANCTIONS] EC 881/2002 (Apr 2013 - removed). 2002/402/CFSP PRIMARY NAME: Zaini Zakaria (alias Ahmad). Address: Kota Bharu, Kelantan, Malaysia. Date of birth: 16.5.1967. Place of birth: Kelantan, Malaysia. Nationality: Malaysian. Passport No: A11457974. National identification No: 670516-03-5283. Date of designation referred to in Article 2a (4) (b): 9.9.2003. [HONG KONG SANCTIONS - HKGAZ] G.N.6664 (14 Oct 2011) (AQ/TA split). G.N.2219 (26 April 2013 - removed). QI.Z.127.03. PRIMARY NAME:ZAINI ZAKARIA. DOB: 16 May 1967. POB: Kelantan, Malaysia. Low quality a.k.a.: Ahmad. Nationality: Malaysian. Passport no.: A 11457974. National identification no.: 670516-03-5283. Address: Kota Bharu, State of Kelantan, Malaysia. Other information: Review pursuant to Security Council resolution 1822 (2008) was concluded on 19 Jun. 2009. [ISRAEL SANCTIONS - IMOD] Nov 2011 - addition. May 2013 - removed. Listed under Section 2 of Prohibition of Financing Terrorism Law. PRIMARY NAME: Zaini Zakaria. [SWITZERLAND SANCTIONS - SECO] SSID: 10-17045 (Sep 2003 - addition. Apr 2013 - removed). Foreign identifier: QI.Z.127.03. PRIMARY NAME: Zaini Zakaria DOB: 16 May 1967 POB: Kelantan, Malaysia Low quality a.k.a.: Ahmad Address: Kota Bharu, State of Kelantan, Malaysia Nationality: Malaysia Identification document: a) Passport No. A 11457974, Malaysia b) ID card No. 670516-03-5283, Malaysia Other information: Review pursuant to Security Council resolution 1822 (2008) was concluded on 19 Jun 2009. [UK SANCTIONS - UKHMT] Sep 2003 - addition. Apr 2013 - removed. PRIMARY NAME: ZAKARIA,ZAINI. DOB: 16/05/1967. POB: Kelantan, Malaysia. Nationality: Malaysian. Passport Details: A 11457974. National Identification no: 670516-03-5283. Address: Kota Bharu, State of Kelantan, Malaysia. Other Information: UN Ref QI.Z.127.03. Also referred to as Ahmad. Group ID: 7852. [UN SANCTIONS] UNSCR 1267 (1999) (Sep 2003 - addition. Mar 2013 - removed). QI.Z.127.03. PRIMARY NAME:ZAINI ZAKARIA. DOB: 16 May 1967. POB: Kelantan, Malaysia. Low quality a.k.a.: Ahmad. Nationality: Malaysian. Passport no.: A 11457974. National identification no.: 670516-03-5283. Address: Kota Bharu, State of Kelantan, Malaysia. Other information: Review pursuant to Security Council resolution 1822 (2008) was concluded on 19 Jun. 2009. [UN REPORTS - INTERPOL] 2006-25701. No longer appears on Interpol-United Nations Security Council Special Notice, subject to UN Sanctions - Al-Qaida (QI.Z.127.03.). [USA SANCTIONS - OFAC] SDN Ref No 7939 - SDGT (Specially Designated Global Terrorist) (Sep 2003 - addition. Sep 2009 - amended). PRIMARY NAME: ZAKARIA, Zaini. A-1-8 Pangsapuri Sri Tanjung, Jalan Sky BS2, Bukit Sentosa Rawang, Selangor 48300, Malaysia. DOB 16 Jun 1967; alt. DOB 16 May 1967. POB Kelantan, Malaysia. Passport A11457974 (Malaysia). [SANCTIONS NOTE] This entry has been removed by a published EU regulation. [SANCTIONS HISTORY] EU (Regulation)(- Apr 2013). UKHMT (Sep 2003 - Apr 2013). UN (Sep 2003 - Mar 2013). Mar 2013 - removed from Australia, Canada, China, Jersey, New Zealand, Singapore and Ukraine sanctions lists. Apr 2013 - removed from Austria, France (Regulation), Germany (Regulation), Hong Kong (HKGAZ), India, Isle of Man, Luxembourg, Malta, Russia, Spain (Regulation) and Switzerland (SECO) sanctions lists. May 2013 - removed from Israel and Japan (JMOF) sanctions lists. Sep 2013 - removed from Monaco sanctions list. Oct 2013 - removed from Azerbaijan sanctions list. Feb 2016 - removed from South Korea (KRMSF) sanctions list. Feb 2017 - no longer appears on Liechtenstein sanctions list. [BIOGRAPHY] Alleged member {General} of Jemaa Islamiyah (JI). Reportedly recruited by al Qa'ida to pilot a plane in a second wave of 9/11 style attacks on the United States. [IDENTIFICATION] Resident of Kota Bharu, Kelantan. Abdul Matin Anol Rahmat (father-in-law). Also referred to as AHMAD. [FUNDING] Engineer. [REPORTS] May 2013 - removed by the Israeli Ministerial Committee for National Security Affairs from the Individuals sanction list. Nov 2020 - reportedly subject to export control measures related to Strategic High-Tech Commodities (SHTC) imposed by Taiwan's Bureau of Foreign Trade (BFT).[NONCONVICTION TERROR CATEGORY NOTICE] This category includes information about individuals who are reportedly being investigated for, or have been arrested or charged on suspicion of, involvement in terrorism or terror related activities. The category also includes individuals or entities identified on national or internationally recognised banning, warning or wanted lists as allegedly connected to terrorism or individuals who are reportedly connected to an organisation included on any national or international terrorism list. Inclusion in this category does not mean that an individual or entity is a terrorist or terrorist organisation or that they are involved in or connected to terrorism or terror related activity. Individuals included in this category have not been convicted of any terror related activity; you should review the content carefully and in accordance with our terms and conditions, further enquiries should be made of the report subject to investigate the outcome of any alleged investigation, arrest, charges or any reported connection to any terror related activity and whether such allegations are denied.\"\n"
   ]
  },
  {
   "cell_type": "code",
   "execution_count": 6,
   "id": "80d6abe7",
   "metadata": {},
   "outputs": [],
   "source": [
    "splits = text"
   ]
  },
  {
   "cell_type": "code",
   "execution_count": 7,
   "id": "1beee3bc",
   "metadata": {},
   "outputs": [],
   "source": [
    "strr = [Document(text)]"
   ]
  },
  {
   "cell_type": "code",
   "execution_count": 8,
   "id": "f8466da6",
   "metadata": {
    "collapsed": true,
    "jupyter": {
     "outputs_hidden": true
    }
   },
   "outputs": [
    {
     "data": {
      "text/plain": [
       "[Document(page_content=\"[AUSTRALIA SANCTIONS - DFAT] No 446,a (Mar 2013 - removed). PRIMARY NAME: Zaini Zakaria. Alias: Ahmad. DOB: 16-May-67. POB: Kelantan, Malaysia. Citizenship: Malaysia. Address: Kota Bharu, Kelantan, Malaysia. Additional Information: Passport number A11457974, National identification number 670516-03-5283 In custody in the Philippines as of Feb. 2008. Review pursuant to Security Council resolution 1822 (2008) was concluded on 19 Jun. 2009. [CANADA SANCTIONS - UNSTR] May 2011 - amended. Mar 2013 - removed. QI.Z.127.03. PRIMARY NAME: Zakaria,Zaini. POB; Kelantan, Malaysia. DOB: 16/05/67. Nationality: Malaysian. Passport no.: A 11457974; National identification no.: 670516-03-5283; Address: Kota Bharu, State of Kelantan, Malaysia. [EU SANCTIONS] EC 881/2002 (Apr 2013 - removed). 2002/402/CFSP PRIMARY NAME: Zaini Zakaria (alias Ahmad). Address: Kota Bharu, Kelantan, Malaysia. Date of birth: 16.5.1967. Place of birth: Kelantan, Malaysia. Nationality: Malaysian. Passport No: A11457974. National identification No: 670516-03-5283. Date of designation referred to in Article 2a (4) (b): 9.9.2003. [HONG KONG SANCTIONS - HKGAZ] G.N.6664 (14 Oct 2011) (AQ/TA split). G.N.2219 (26 April 2013 - removed). QI.Z.127.03. PRIMARY NAME:ZAINI ZAKARIA. DOB: 16 May 1967. POB: Kelantan, Malaysia. Low quality a.k.a.: Ahmad. Nationality: Malaysian. Passport no.: A 11457974. National identification no.: 670516-03-5283. Address: Kota Bharu, State of Kelantan, Malaysia. Other information: Review pursuant to Security Council resolution 1822 (2008) was concluded on 19 Jun. 2009. [ISRAEL SANCTIONS - IMOD] Nov 2011 - addition. May 2013 - removed. Listed under Section 2 of Prohibition of Financing Terrorism Law. PRIMARY NAME: Zaini Zakaria. [SWITZERLAND SANCTIONS - SECO] SSID: 10-17045 (Sep 2003 - addition. Apr 2013 - removed). Foreign identifier: QI.Z.127.03. PRIMARY NAME: Zaini Zakaria DOB: 16 May 1967 POB: Kelantan, Malaysia Low quality a.k.a.: Ahmad Address: Kota Bharu, State of Kelantan, Malaysia Nationality: Malaysia Identification document: a) Passport No. A 11457974, Malaysia b) ID card No. 670516-03-5283, Malaysia Other information: Review pursuant to Security Council resolution 1822 (2008) was concluded on 19 Jun 2009. [UK SANCTIONS - UKHMT] Sep 2003 - addition. Apr 2013 - removed. PRIMARY NAME: ZAKARIA,ZAINI. DOB: 16/05/1967. POB: Kelantan, Malaysia. Nationality: Malaysian. Passport Details: A 11457974. National Identification no: 670516-03-5283. Address: Kota Bharu, State of Kelantan, Malaysia. Other Information: UN Ref QI.Z.127.03. Also referred to as Ahmad. Group ID: 7852. [UN SANCTIONS] UNSCR 1267 (1999) (Sep 2003 - addition. Mar 2013 - removed). QI.Z.127.03. PRIMARY NAME:ZAINI ZAKARIA. DOB: 16 May 1967. POB: Kelantan, Malaysia. Low quality a.k.a.: Ahmad. Nationality: Malaysian. Passport no.: A 11457974. National identification no.: 670516-03-5283. Address: Kota Bharu, State of Kelantan, Malaysia. Other information: Review pursuant to Security Council resolution 1822 (2008) was concluded on 19 Jun. 2009. [UN REPORTS - INTERPOL] 2006-25701. No longer appears on Interpol-United Nations Security Council Special Notice, subject to UN Sanctions - Al-Qaida (QI.Z.127.03.). [USA SANCTIONS - OFAC] SDN Ref No 7939 - SDGT (Specially Designated Global Terrorist) (Sep 2003 - addition. Sep 2009 - amended). PRIMARY NAME: ZAKARIA, Zaini. A-1-8 Pangsapuri Sri Tanjung, Jalan Sky BS2, Bukit Sentosa Rawang, Selangor 48300, Malaysia. DOB 16 Jun 1967; alt. DOB 16 May 1967. POB Kelantan, Malaysia. Passport A11457974 (Malaysia). [SANCTIONS NOTE] This entry has been removed by a published EU regulation. [SANCTIONS HISTORY] EU (Regulation)(- Apr 2013). UKHMT (Sep 2003 - Apr 2013). UN (Sep 2003 - Mar 2013). Mar 2013 - removed from Australia, Canada, China, Jersey, New Zealand, Singapore and Ukraine sanctions lists. Apr 2013 - removed from Austria, France (Regulation), Germany (Regulation), Hong Kong (HKGAZ), India, Isle of Man, Luxembourg, Malta, Russia, Spain (Regulation) and Switzerland (SECO) sanctions lists. May 2013 - removed from Israel and Japan (JMOF) sanctions lists. Sep 2013 - removed from Monaco sanctions list. Oct 2013 - removed from Azerbaijan sanctions list. Feb 2016 - removed from South Korea (KRMSF) sanctions list. Feb 2017 - no longer appears on Liechtenstein sanctions list. [BIOGRAPHY] Alleged member {General} of Jemaa Islamiyah (JI). Reportedly recruited by al Qa'ida to pilot a plane in a second wave of 9/11 style attacks on the United States. [IDENTIFICATION] Resident of Kota Bharu, Kelantan. Abdul Matin Anol Rahmat (father-in-law). Also referred to as AHMAD. [FUNDING] Engineer. [REPORTS] May 2013 - removed by the Israeli Ministerial Committee for National Security Affairs from the Individuals sanction list. Nov 2020 - reportedly subject to export control measures related to Strategic High-Tech Commodities (SHTC) imposed by Taiwan's Bureau of Foreign Trade (BFT).[NONCONVICTION TERROR CATEGORY NOTICE] This category includes information about individuals who are reportedly being investigated for, or have been arrested or charged on suspicion of, involvement in terrorism or terror related activities. The category also includes individuals or entities identified on national or internationally recognised banning, warning or wanted lists as allegedly connected to terrorism or individuals who are reportedly connected to an organisation included on any national or international terrorism list. Inclusion in this category does not mean that an individual or entity is a terrorist or terrorist organisation or that they are involved in or connected to terrorism or terror related activity. Individuals included in this category have not been convicted of any terror related activity; you should review the content carefully and in accordance with our terms and conditions, further enquiries should be made of the report subject to investigate the outcome of any alleged investigation, arrest, charges or any reported connection to any terror related activity and whether such allegations are denied.\")]"
      ]
     },
     "execution_count": 8,
     "metadata": {},
     "output_type": "execute_result"
    }
   ],
   "source": [
    "strr"
   ]
  },
  {
   "cell_type": "code",
   "execution_count": 9,
   "id": "4da82ad5",
   "metadata": {},
   "outputs": [],
   "source": [
    "# docs1 = [Document(page_content=t) for t in splits]\n",
    "\n",
    "# docs1"
   ]
  },
  {
   "cell_type": "code",
   "execution_count": 12,
   "id": "7d271f0d",
   "metadata": {},
   "outputs": [],
   "source": [
    "st1 = time.time()\n",
    "graph_doc = llm_transformer.convert_to_graph_documents(strr)\n",
    "et1 = time.time()"
   ]
  },
  {
   "cell_type": "code",
   "execution_count": 13,
   "id": "34922044",
   "metadata": {},
   "outputs": [
    {
     "name": "stdout",
     "output_type": "stream",
     "text": [
      "11.392175356547037\n"
     ]
    }
   ],
   "source": [
    "print((et1-st1)/60)"
   ]
  },
  {
   "cell_type": "code",
   "execution_count": 14,
   "id": "2de28e87",
   "metadata": {
    "collapsed": true,
    "jupyter": {
     "outputs_hidden": true
    }
   },
   "outputs": [
    {
     "data": {
      "text/plain": [
       "[GraphDocument(nodes=[], relationships=[], source=Document(page_content=\"[AUSTRALIA SANCTIONS - DFAT] No 446,a (Mar 2013 - removed). PRIMARY NAME: Zaini Zakaria. Alias: Ahmad. DOB: 16-May-67. POB: Kelantan, Malaysia. Citizenship: Malaysia. Address: Kota Bharu, Kelantan, Malaysia. Additional Information: Passport number A11457974, National identification number 670516-03-5283 In custody in the Philippines as of Feb. 2008. Review pursuant to Security Council resolution 1822 (2008) was concluded on 19 Jun. 2009. [CANADA SANCTIONS - UNSTR] May 2011 - amended. Mar 2013 - removed. QI.Z.127.03. PRIMARY NAME: Zakaria,Zaini. POB; Kelantan, Malaysia. DOB: 16/05/67. Nationality: Malaysian. Passport no.: A 11457974; National identification no.: 670516-03-5283; Address: Kota Bharu, State of Kelantan, Malaysia. [EU SANCTIONS] EC 881/2002 (Apr 2013 - removed). 2002/402/CFSP PRIMARY NAME: Zaini Zakaria (alias Ahmad). Address: Kota Bharu, Kelantan, Malaysia. Date of birth: 16.5.1967. Place of birth: Kelantan, Malaysia. Nationality: Malaysian. Passport No: A11457974. National identification No: 670516-03-5283. Date of designation referred to in Article 2a (4) (b): 9.9.2003. [HONG KONG SANCTIONS - HKGAZ] G.N.6664 (14 Oct 2011) (AQ/TA split). G.N.2219 (26 April 2013 - removed). QI.Z.127.03. PRIMARY NAME:ZAINI ZAKARIA. DOB: 16 May 1967. POB: Kelantan, Malaysia. Low quality a.k.a.: Ahmad. Nationality: Malaysian. Passport no.: A 11457974. National identification no.: 670516-03-5283. Address: Kota Bharu, State of Kelantan, Malaysia. Other information: Review pursuant to Security Council resolution 1822 (2008) was concluded on 19 Jun. 2009. [ISRAEL SANCTIONS - IMOD] Nov 2011 - addition. May 2013 - removed. Listed under Section 2 of Prohibition of Financing Terrorism Law. PRIMARY NAME: Zaini Zakaria. [SWITZERLAND SANCTIONS - SECO] SSID: 10-17045 (Sep 2003 - addition. Apr 2013 - removed). Foreign identifier: QI.Z.127.03. PRIMARY NAME: Zaini Zakaria DOB: 16 May 1967 POB: Kelantan, Malaysia Low quality a.k.a.: Ahmad Address: Kota Bharu, State of Kelantan, Malaysia Nationality: Malaysia Identification document: a) Passport No. A 11457974, Malaysia b) ID card No. 670516-03-5283, Malaysia Other information: Review pursuant to Security Council resolution 1822 (2008) was concluded on 19 Jun 2009. [UK SANCTIONS - UKHMT] Sep 2003 - addition. Apr 2013 - removed. PRIMARY NAME: ZAKARIA,ZAINI. DOB: 16/05/1967. POB: Kelantan, Malaysia. Nationality: Malaysian. Passport Details: A 11457974. National Identification no: 670516-03-5283. Address: Kota Bharu, State of Kelantan, Malaysia. Other Information: UN Ref QI.Z.127.03. Also referred to as Ahmad. Group ID: 7852. [UN SANCTIONS] UNSCR 1267 (1999) (Sep 2003 - addition. Mar 2013 - removed). QI.Z.127.03. PRIMARY NAME:ZAINI ZAKARIA. DOB: 16 May 1967. POB: Kelantan, Malaysia. Low quality a.k.a.: Ahmad. Nationality: Malaysian. Passport no.: A 11457974. National identification no.: 670516-03-5283. Address: Kota Bharu, State of Kelantan, Malaysia. Other information: Review pursuant to Security Council resolution 1822 (2008) was concluded on 19 Jun. 2009. [UN REPORTS - INTERPOL] 2006-25701. No longer appears on Interpol-United Nations Security Council Special Notice, subject to UN Sanctions - Al-Qaida (QI.Z.127.03.). [USA SANCTIONS - OFAC] SDN Ref No 7939 - SDGT (Specially Designated Global Terrorist) (Sep 2003 - addition. Sep 2009 - amended). PRIMARY NAME: ZAKARIA, Zaini. A-1-8 Pangsapuri Sri Tanjung, Jalan Sky BS2, Bukit Sentosa Rawang, Selangor 48300, Malaysia. DOB 16 Jun 1967; alt. DOB 16 May 1967. POB Kelantan, Malaysia. Passport A11457974 (Malaysia). [SANCTIONS NOTE] This entry has been removed by a published EU regulation. [SANCTIONS HISTORY] EU (Regulation)(- Apr 2013). UKHMT (Sep 2003 - Apr 2013). UN (Sep 2003 - Mar 2013). Mar 2013 - removed from Australia, Canada, China, Jersey, New Zealand, Singapore and Ukraine sanctions lists. Apr 2013 - removed from Austria, France (Regulation), Germany (Regulation), Hong Kong (HKGAZ), India, Isle of Man, Luxembourg, Malta, Russia, Spain (Regulation) and Switzerland (SECO) sanctions lists. May 2013 - removed from Israel and Japan (JMOF) sanctions lists. Sep 2013 - removed from Monaco sanctions list. Oct 2013 - removed from Azerbaijan sanctions list. Feb 2016 - removed from South Korea (KRMSF) sanctions list. Feb 2017 - no longer appears on Liechtenstein sanctions list. [BIOGRAPHY] Alleged member {General} of Jemaa Islamiyah (JI). Reportedly recruited by al Qa'ida to pilot a plane in a second wave of 9/11 style attacks on the United States. [IDENTIFICATION] Resident of Kota Bharu, Kelantan. Abdul Matin Anol Rahmat (father-in-law). Also referred to as AHMAD. [FUNDING] Engineer. [REPORTS] May 2013 - removed by the Israeli Ministerial Committee for National Security Affairs from the Individuals sanction list. Nov 2020 - reportedly subject to export control measures related to Strategic High-Tech Commodities (SHTC) imposed by Taiwan's Bureau of Foreign Trade (BFT).[NONCONVICTION TERROR CATEGORY NOTICE] This category includes information about individuals who are reportedly being investigated for, or have been arrested or charged on suspicion of, involvement in terrorism or terror related activities. The category also includes individuals or entities identified on national or internationally recognised banning, warning or wanted lists as allegedly connected to terrorism or individuals who are reportedly connected to an organisation included on any national or international terrorism list. Inclusion in this category does not mean that an individual or entity is a terrorist or terrorist organisation or that they are involved in or connected to terrorism or terror related activity. Individuals included in this category have not been convicted of any terror related activity; you should review the content carefully and in accordance with our terms and conditions, further enquiries should be made of the report subject to investigate the outcome of any alleged investigation, arrest, charges or any reported connection to any terror related activity and whether such allegations are denied.\"))]"
      ]
     },
     "execution_count": 14,
     "metadata": {},
     "output_type": "execute_result"
    }
   ],
   "source": [
    "graph_doc"
   ]
  },
  {
   "cell_type": "code",
   "execution_count": 16,
   "id": "e908eb59",
   "metadata": {},
   "outputs": [],
   "source": [
    "text =  \"[AUSTRALIA SANCTIONS - DFAT] No 446,a (Mar 2013 - removed). PRIMARY NAME: Zaini Zakaria. Alias: Ahmad. DOB: 16-May-67. POB: Kelantan, Malaysia. Citizenship: Malaysia. Address: Kota Bharu, Kelantan, Malaysia. Additional Information: Passport number A11457974, National identification number 670516-03-5283 In custody in the Philippines as of Feb. 2008. Review pursuant to Security Council resolution 1822 (2008) was concluded on 19 Jun. 2009. [CANADA SANCTIONS - UNSTR] May 2011 - amended. Mar 2013 - removed. QI.Z.127.03. PRIMARY NAME: Zakaria,Zaini. POB; Kelantan, Malaysia. DOB: 16/05/67. Nationality: Malaysian. Passport no.: A 11457974; National identification no.: 670516-03-5283; Address: Kota Bharu, State of Kelantan, Malaysia. [EU SANCTIONS] EC 881/2002 (Apr 2013 - removed). 2002/402/CFSP PRIMARY NAME: Zaini Zakaria (alias Ahmad). Address: Kota Bharu, Kelantan, Malaysia. Date of birth: 16.5.1967. Place of birth: Kelantan, Malaysia. Nationality: Malaysian. Passport No: A11457974. National identification No: 670516-03-5283. Date of designation referred to in Article 2a (4) (b): 9.9.2003. [HONG KONG SANCTIONS - HKGAZ] G.N.6664 (14 Oct 2011) (AQ/TA split). G.N.2219 (26 April 2013 - removed). QI.Z.127.03. PRIMARY NAME:ZAINI ZAKARIA. DOB: 16 May 1967. POB: Kelantan, Malaysia. Low quality a.k.a.: Ahmad. Nationality: Malaysian. Passport no.: A 11457974. National identification no.: 670516-03-5283. Address: Kota Bharu, State of Kelantan, Malaysia. Other information: Review pursuant to Security Council resolution 1822 (2008) was concluded on 19 Jun. 2009. [ISRAEL SANCTIONS - IMOD] Nov 2011 - addition. May 2013 - removed. Listed under Section 2 of Prohibition of Financing Terrorism Law. PRIMARY NAME: Zaini Zakaria. [SWITZERLAND SANCTIONS - SECO] SSID: 10-17045 (Sep 2003 - addition. Apr 2013 - removed). Foreign identifier: QI.Z.127.03. PRIMARY NAME: Zaini Zakaria DOB: 16 May 1967 POB: Kelantan, Malaysia Low quality a.k.a.: Ahmad Address: Kota Bharu, State of Kelantan, Malaysia Nationality: Malaysia Identification document: a) Passport No. A 11457974, Malaysia b) ID card No. 670516-03-5283, Malaysia Other information: Review pursuant to Security Council resolution 1822 (2008) was concluded on 19 Jun 2009. [UK SANCTIONS - UKHMT] Sep 2003 - addition. Apr 2013 - removed. PRIMARY NAME: ZAKARIA,ZAINI. DOB: 16/05/1967. POB: Kelantan, Malaysia. Nationality: Malaysian. Passport Details: A 11457974. National Identification no: 670516-03-5283. Address: Kota Bharu, State of Kelantan, Malaysia. Other Information: UN Ref QI.Z.127.03. Also referred to as Ahmad. Group ID: 7852. [UN SANCTIONS] UNSCR 1267 (1999) (Sep 2003 - addition. Mar 2013 - removed). QI.Z.127.03. PRIMARY NAME:ZAINI ZAKARIA. DOB: 16 May 1967. POB: Kelantan, Malaysia. Low quality a.k.a.: Ahmad. Nationality: Malaysian. Passport no.: A 11457974. National identification no.: 670516-03-5283. Address: Kota Bharu, State of Kelantan, Malaysia. Other information: Review pursuant to Security Council resolution 1822 (2008) was concluded on 19 Jun. 2009. [UN REPORTS - INTERPOL] 2006-25701. No longer appears on Interpol-United Nations Security Council Special Notice, subject to UN Sanctions - Al-Qaida (QI.Z.127.03.). [USA SANCTIONS - OFAC] SDN Ref No 7939 - SDGT (Specially Designated Global Terrorist) (Sep 2003 - addition. Sep 2009 - amended). PRIMARY NAME: ZAKARIA, Zaini. A-1-8 Pangsapuri Sri Tanjung, Jalan Sky BS2, Bukit Sentosa Rawang, Selangor 48300, Malaysia. DOB 16 Jun 1967; alt. DOB 16 May 1967. POB Kelantan, Malaysia. Passport A11457974 (Malaysia). [SANCTIONS NOTE] This entry has been removed by a published EU regulation. [SANCTIONS HISTORY] EU (Regulation)(- Apr 2013). UKHMT (Sep 2003 - Apr 2013). UN (Sep 2003 - Mar 2013). Mar 2013 - removed from Australia, Canada, China, Jersey, New Zealand, Singapore and Ukraine sanctions lists. Apr 2013 - removed from Austria, France (Regulation), Germany (Regulation), Hong Kong (HKGAZ), India, Isle of Man, Luxembourg, Malta, Russia, Spain (Regulation) and Switzerland (SECO) sanctions lists. May 2013 - removed from Israel and Japan (JMOF) sanctions lists. Sep 2013 - removed from Monaco sanctions list. Oct 2013 - removed from Azerbaijan sanctions list. Feb 2016 - removed from South Korea (KRMSF) sanctions list. Feb 2017 - no longer appears on Liechtenstein sanctions list. [BIOGRAPHY] Alleged member {General} of Jemaa Islamiyah (JI). Reportedly recruited by al Qa'ida to pilot a plane in a second wave of 9/11 style attacks on the United States. [IDENTIFICATION] Resident of Kota Bharu, Kelantan. Abdul Matin Anol Rahmat (father-in-law). Also referred to as AHMAD. [FUNDING] Engineer. [REPORTS] May 2013 - removed by the Israeli Ministerial Committee for National Security Affairs from the Individuals sanction list. Nov 2020 - reportedly subject to export control measures related to Strategic High-Tech Commodities (SHTC) imposed by Taiwan's Bureau of Foreign Trade (BFT).[NONCONVICTION TERROR CATEGORY NOTICE] This category includes information about individuals who are reportedly being investigated for, or have been arrested or charged on suspicion of, involvement in terrorism or terror related activities. The category also includes individuals or entities identified on national or internationally recognised banning, warning or wanted lists as allegedly connected to terrorism or individuals who are reportedly connected to an organisation included on any national or international terrorism list. Inclusion in this category does not mean that an individual or entity is a terrorist or terrorist organisation or that they are involved in or connected to terrorism or terror related activity. Individuals included in this category have not been convicted of any terror related activity; you should review the content carefully and in accordance with our terms and conditions, further enquiries should be made of the report subject to investigate the outcome of any alleged investigation, arrest, charges or any reported connection to any terror related activity and whether such allegations are denied.\"\n"
   ]
  },
  {
   "cell_type": "code",
   "execution_count": 17,
   "id": "fb3cb844",
   "metadata": {},
   "outputs": [],
   "source": [
    "#with chunking "
   ]
  },
  {
   "cell_type": "code",
   "execution_count": 18,
   "id": "24414c93",
   "metadata": {},
   "outputs": [
    {
     "data": {
      "text/plain": [
       "5"
      ]
     },
     "execution_count": 18,
     "metadata": {},
     "output_type": "execute_result"
    }
   ],
   "source": [
    "from langchain.text_splitter import RecursiveCharacterTextSplitter\n",
    "text_splitter = RecursiveCharacterTextSplitter.from_tiktoken_encoder(\n",
    "    chunk_size=400, chunk_overlap=50\n",
    ")\n",
    "split_docs = text_splitter.create_documents([text])\n",
    "len(split_docs)"
   ]
  },
  {
   "cell_type": "code",
   "execution_count": 25,
   "id": "8e68f9f4",
   "metadata": {},
   "outputs": [
    {
     "data": {
      "text/plain": [
       "Document(page_content='[AUSTRALIA SANCTIONS - DFAT] No 446,a (Mar 2013 - removed). PRIMARY NAME: Zaini Zakaria. Alias: Ahmad. DOB: 16-May-67. POB: Kelantan, Malaysia. Citizenship: Malaysia. Address: Kota Bharu, Kelantan, Malaysia. Additional Information: Passport number A11457974, National identification number 670516-03-5283 In custody in the Philippines as of Feb. 2008. Review pursuant to Security Council resolution 1822 (2008) was concluded on 19 Jun. 2009. [CANADA SANCTIONS - UNSTR] May 2011 - amended. Mar 2013 - removed. QI.Z.127.03. PRIMARY NAME: Zakaria,Zaini. POB; Kelantan, Malaysia. DOB: 16/05/67. Nationality: Malaysian. Passport no.: A 11457974; National identification no.: 670516-03-5283; Address: Kota Bharu, State of Kelantan, Malaysia. [EU SANCTIONS] EC 881/2002 (Apr 2013 - removed). 2002/402/CFSP PRIMARY NAME: Zaini Zakaria (alias Ahmad). Address: Kota Bharu, Kelantan, Malaysia. Date of birth: 16.5.1967. Place of birth: Kelantan, Malaysia. Nationality: Malaysian. Passport No: A11457974. National identification No: 670516-03-5283. Date of designation referred to in Article 2a (4) (b): 9.9.2003. [HONG KONG SANCTIONS - HKGAZ] G.N.6664 (14 Oct 2011) (AQ/TA split). G.N.2219 (26 April 2013 - removed).')"
      ]
     },
     "execution_count": 25,
     "metadata": {},
     "output_type": "execute_result"
    }
   ],
   "source": [
    "split_docs[0]"
   ]
  },
  {
   "cell_type": "code",
   "execution_count": null,
   "id": "9601b639",
   "metadata": {},
   "outputs": [],
   "source": [
    "##HERE ANJALI"
   ]
  },
  {
   "cell_type": "code",
   "execution_count": null,
   "id": "25f741b9",
   "metadata": {
    "scrolled": true
   },
   "outputs": [
    {
     "name": "stdout",
     "output_type": "stream",
     "text": [
      "page_content='[AUSTRALIA SANCTIONS - DFAT] No 446,a (Mar 2013 - removed). PRIMARY NAME: Zaini Zakaria. Alias: Ahmad. DOB: 16-May-67. POB: Kelantan, Malaysia. Citizenship: Malaysia. Address: Kota Bharu, Kelantan, Malaysia. Additional Information: Passport number A11457974, National identification number 670516-03-5283 In custody in the Philippines as of Feb. 2008. Review pursuant to Security Council resolution 1822 (2008) was concluded on 19 Jun. 2009. [CANADA SANCTIONS - UNSTR] May 2011 - amended. Mar 2013 - removed. QI.Z.127.03. PRIMARY NAME: Zakaria,Zaini. POB; Kelantan, Malaysia. DOB: 16/05/67. Nationality: Malaysian. Passport no.: A 11457974; National identification no.: 670516-03-5283; Address: Kota Bharu, State of Kelantan, Malaysia. [EU SANCTIONS] EC 881/2002 (Apr 2013 - removed). 2002/402/CFSP PRIMARY NAME: Zaini Zakaria (alias Ahmad). Address: Kota Bharu, Kelantan, Malaysia. Date of birth: 16.5.1967. Place of birth: Kelantan, Malaysia. Nationality: Malaysian. Passport No: A11457974. National identification No: 670516-03-5283. Date of designation referred to in Article 2a (4) (b): 9.9.2003. [HONG KONG SANCTIONS - HKGAZ] G.N.6664 (14 Oct 2011) (AQ/TA split). G.N.2219 (26 April 2013 - removed).'\n",
      "2152.701610803604\n",
      "page_content='9.9.2003. [HONG KONG SANCTIONS - HKGAZ] G.N.6664 (14 Oct 2011) (AQ/TA split). G.N.2219 (26 April 2013 - removed). QI.Z.127.03. PRIMARY NAME:ZAINI ZAKARIA. DOB: 16 May 1967. POB: Kelantan, Malaysia. Low quality a.k.a.: Ahmad. Nationality: Malaysian. Passport no.: A 11457974. National identification no.: 670516-03-5283. Address: Kota Bharu, State of Kelantan, Malaysia. Other information: Review pursuant to Security Council resolution 1822 (2008) was concluded on 19 Jun. 2009. [ISRAEL SANCTIONS - IMOD] Nov 2011 - addition. May 2013 - removed. Listed under Section 2 of Prohibition of Financing Terrorism Law. PRIMARY NAME: Zaini Zakaria. [SWITZERLAND SANCTIONS - SECO] SSID: 10-17045 (Sep 2003 - addition. Apr 2013 - removed). Foreign identifier: QI.Z.127.03. PRIMARY NAME: Zaini Zakaria DOB: 16 May 1967 POB: Kelantan, Malaysia Low quality a.k.a.: Ahmad Address: Kota Bharu, State of Kelantan, Malaysia Nationality: Malaysia Identification document: a) Passport No. A 11457974, Malaysia b) ID card No. 670516-03-5283, Malaysia Other information: Review pursuant to Security Council resolution 1822 (2008) was concluded on 19 Jun 2009. [UK SANCTIONS - UKHMT] Sep 2003 - addition. Apr 2013 - removed. PRIMARY NAME: ZAKARIA,ZAINI. DOB: 16/05/1967.'\n",
      "1238.7592823505402\n",
      "page_content='was concluded on 19 Jun 2009. [UK SANCTIONS - UKHMT] Sep 2003 - addition. Apr 2013 - removed. PRIMARY NAME: ZAKARIA,ZAINI. DOB: 16/05/1967. POB: Kelantan, Malaysia. Nationality: Malaysian. Passport Details: A 11457974. National Identification no: 670516-03-5283. Address: Kota Bharu, State of Kelantan, Malaysia. Other Information: UN Ref QI.Z.127.03. Also referred to as Ahmad. Group ID: 7852. [UN SANCTIONS] UNSCR 1267 (1999) (Sep 2003 - addition. Mar 2013 - removed). QI.Z.127.03. PRIMARY NAME:ZAINI ZAKARIA. DOB: 16 May 1967. POB: Kelantan, Malaysia. Low quality a.k.a.: Ahmad. Nationality: Malaysian. Passport no.: A 11457974. National identification no.: 670516-03-5283. Address: Kota Bharu, State of Kelantan, Malaysia. Other information: Review pursuant to Security Council resolution 1822 (2008) was concluded on 19 Jun. 2009. [UN REPORTS - INTERPOL] 2006-25701. No longer appears on Interpol-United Nations Security Council Special Notice, subject to UN Sanctions - Al-Qaida (QI.Z.127.03.). [USA SANCTIONS - OFAC] SDN Ref No 7939 - SDGT (Specially Designated Global Terrorist) (Sep 2003 - addition. Sep 2009 - amended). PRIMARY NAME: ZAKARIA, Zaini. A-1-8 Pangsapuri Sri Tanjung, Jalan Sky BS2, Bukit Sentosa Rawang, Selangor 48300, Malaysia.'\n"
     ]
    }
   ],
   "source": [
    "#larger text, splitting, old tags\n",
    "l = []\n",
    "st11 = time.time()\n",
    "for i in split_docs:\n",
    " st_t  = time.time()\n",
    " chnk = i\n",
    " #print(chnk)\n",
    " #response = chain.run({'entity_types' :entity_types, 'relation_types': relation_types, 'examples' : examples, 'text' : st})\n",
    " #response = chain.run(entity_types =entity_types, relation_types= relation_types, examples= examples, text = st_re)\n",
    " graph_doc = llm_transformer.convert_to_graph_documents([chnk])\n",
    " l.append(graph_doc)\n",
    " et = time.time()\n",
    " print(et-st_t)\n",
    "et11 = time.time()"
   ]
  },
  {
   "cell_type": "code",
   "execution_count": null,
   "id": "b9317360",
   "metadata": {},
   "outputs": [],
   "source": []
  },
  {
   "cell_type": "code",
   "execution_count": 15,
   "id": "8b4ff40c",
   "metadata": {},
   "outputs": [
    {
     "ename": "IndexError",
     "evalue": "list index out of range",
     "output_type": "error",
     "traceback": [
      "\u001b[1;31m---------------------------------------------------------------------------\u001b[0m",
      "\u001b[1;31mIndexError\u001b[0m                                Traceback (most recent call last)",
      "Cell \u001b[1;32mIn[15], line 1\u001b[0m\n\u001b[1;32m----> 1\u001b[0m \u001b[38;5;28;01mfor\u001b[39;00m node \u001b[38;5;129;01min\u001b[39;00m \u001b[43mgraph_doc\u001b[49m\u001b[43m[\u001b[49m\u001b[38;5;241;43m1\u001b[39;49m\u001b[43m]\u001b[49m\u001b[38;5;241m.\u001b[39mnodes:\n\u001b[0;32m      2\u001b[0m     \u001b[38;5;28mprint\u001b[39m(node)\n",
      "\u001b[1;31mIndexError\u001b[0m: list index out of range"
     ]
    }
   ],
   "source": [
    "for node ina graph_doc.nodes:\n",
    "    print(node)"
   ]
  },
  {
   "cell_type": "code",
   "execution_count": 18,
   "id": "52ada01d",
   "metadata": {},
   "outputs": [
    {
     "name": "stdout",
     "output_type": "stream",
     "text": [
      "source=Node(id='Maung Maung Kyaw', type='Person') target=Node(id='Kaung Htet', type='Person') type='FATHER_OF'\n",
      "source=Node(id='Aung Mar Myint', type='Person') target=Node(id='Lin Lett Thiri', type='Person') type='MOTHER_OF'\n"
     ]
    }
   ],
   "source": [
    "for rel in graph_doc[1].relationships:\n",
    "    print(rel)"
   ]
  },
  {
   "cell_type": "code",
   "execution_count": null,
   "id": "c54a3590",
   "metadata": {},
   "outputs": [],
   "source": []
  },
  {
   "cell_type": "code",
   "execution_count": 16,
   "id": "78724a2a-4958-4f3b-8fe0-4e80b7aee7ea",
   "metadata": {},
   "outputs": [
    {
     "name": "stdout",
     "output_type": "stream",
     "text": [
      "id='Ahmed, Yasmin' type='Person'\n",
      "id='Yasmin Tariq; Fatimah Mohammad' type='Alternate Name'\n",
      "id='Parties Debarred for Arms Export Control Act convictions' type='List'\n"
     ]
    }
   ],
   "source": [
    "for node in graph_doc[1].nodes:\n",
    "    print(node)"
   ]
  },
  {
   "cell_type": "code",
   "execution_count": 17,
   "id": "37ebed6d-42a9-43f1-afbc-262b61d2accd",
   "metadata": {},
   "outputs": [
    {
     "name": "stdout",
     "output_type": "stream",
     "text": [
      "source=Node(id='Ahmed, Yasmin', type='Person') target=Node(id='Parties Debarred for Arms Export Control Act convictions', type='List') type='IS_DEBARRED'\n",
      "source=Node(id='Ahmed, Yasmin', type='Person') target=Node(id='Yasmin Tariq; Fatimah Mohammad', type='Alternate Name') type='HAS_PRIMARY_NAME'\n"
     ]
    }
   ],
   "source": [
    "for rel in graph_doc[1].relationships:\n",
    "    print(rel)"
   ]
  },
  {
   "cell_type": "markdown",
   "id": "59ff9600-051a-4b76-9bf6-0f0a46bce374",
   "metadata": {},
   "source": [
    "### With 512 token size"
   ]
  },
  {
   "cell_type": "code",
   "execution_count": 18,
   "id": "ba6239bb-309e-4b6e-b2ab-99a607c43761",
   "metadata": {},
   "outputs": [],
   "source": [
    "from langchain.text_splitter import TokenTextSplitter\n",
    "text_splitter = TokenTextSplitter(chunk_size=512, chunk_overlap=24)\n",
    "splits = text_splitter.split_text(text)"
   ]
  },
  {
   "cell_type": "code",
   "execution_count": 19,
   "id": "ee4b98f7-d2a9-4f19-9007-18eb475033b5",
   "metadata": {},
   "outputs": [
    {
     "data": {
      "text/plain": [
       "['[US DEPARTMENT OF COMMERCE] Bureau of Industry and Security - Appropriate Federal Register Citations: 73 F.R. 63678 10/27/08. Name - AHMED, YASMIN 612 BUSINESS CENTRE, MUMTAZ HASAN ROAD OFF I.I. CHUNDRIGAR ROAD, KARACHI, PK. Denied Persons List effective term 16 Oct 2008 - 16 Oct 2015. Oct 2015 - denial order expired. [US STATE DEPARTMENT] Directorate of Defence Trade Controls list of Parties Debarred for Arms Export Control Act convictions. 69 FR 17468, 04/02/2004. PRIMARY NAME - Ahmed, Yasmin (a.k.a. Yasmin Tariq; Fatimah Mohammad). [REGULATIONS HISTORY] Oct 2015 - denial order expired. [BIOGRAPHY] To be determined. [IDENTIFICATION] Naturalized US citizen. Worked in United Arab Emirates (reported 2003). Tariq Ahmed (spouse).']"
      ]
     },
     "execution_count": 19,
     "metadata": {},
     "output_type": "execute_result"
    }
   ],
   "source": [
    "splits"
   ]
  },
  {
   "cell_type": "code",
   "execution_count": 20,
   "id": "c09f4f58-aaa1-4cab-8e21-ed94d8a3d729",
   "metadata": {},
   "outputs": [
    {
     "data": {
      "text/plain": [
       "[Document(page_content='[US DEPARTMENT OF COMMERCE] Bureau of Industry and Security - Appropriate Federal Register Citations: 73 F.R. 63678 10/27/08. Name - AHMED, YASMIN 612 BUSINESS CENTRE, MUMTAZ HASAN ROAD OFF I.I. CHUNDRIGAR ROAD, KARACHI, PK. Denied Persons List effective term 16 Oct 2008 - 16 Oct 2015. Oct 2015 - denial order expired. [US STATE DEPARTMENT] Directorate of Defence Trade Controls list of Parties Debarred for Arms Export Control Act convictions. 69 FR 17468, 04/02/2004. PRIMARY NAME - Ahmed, Yasmin (a.k.a. Yasmin Tariq; Fatimah Mohammad). [REGULATIONS HISTORY] Oct 2015 - denial order expired. [BIOGRAPHY] To be determined. [IDENTIFICATION] Naturalized US citizen. Worked in United Arab Emirates (reported 2003). Tariq Ahmed (spouse).')]"
      ]
     },
     "execution_count": 20,
     "metadata": {},
     "output_type": "execute_result"
    }
   ],
   "source": [
    "docs1 = [Document(page_content=t) for t in splits]\n",
    "\n",
    "docs1"
   ]
  },
  {
   "cell_type": "code",
   "execution_count": 21,
   "id": "d64fbc07-5e12-4ed4-9832-88f32f08a531",
   "metadata": {},
   "outputs": [],
   "source": [
    "graph_doc = llm_transformer.convert_to_graph_documents(docs1)"
   ]
  },
  {
   "cell_type": "code",
   "execution_count": 22,
   "id": "bb1d45e6-5525-4c05-895e-5c0083f7e64e",
   "metadata": {},
   "outputs": [
    {
     "name": "stdout",
     "output_type": "stream",
     "text": [
      "id='Naturalized US citizen' type='Identity'\n",
      "id='Denied Persons List' type='List'\n",
      "id='YASMIN AHMED' type='Person'\n",
      "id='Directorate of Defence Trade Controls' type='Department'\n",
      "id='612 BUSINESS CENTRE, MUMTAZ HASAN ROAD OFF I.I. CHUNDRIGAR ROAD, KARACHI, PK.' type='Location'\n",
      "id='United Arab Emirates' type='Country'\n",
      "id='73 F.R. 63678' type='Publication'\n",
      "id='US STATE DEPARTMENT' type='Organization'\n",
      "id='Parties Debarred for Arms Export Control Act convictions' type='List'\n",
      "id='US DEPARTMENT OF COMMERCE' type='Organization'\n"
     ]
    }
   ],
   "source": [
    "for node in graph_doc[0].nodes:\n",
    "    print(node)"
   ]
  },
  {
   "cell_type": "code",
   "execution_count": 24,
   "id": "0a4c5751-9d2d-4625-9686-2704613ee88d",
   "metadata": {},
   "outputs": [
    {
     "name": "stdout",
     "output_type": "stream",
     "text": [
      "source=Node(id='US DEPARTMENT OF COMMERCE', type='Organization') target=Node(id='73 F.R. 63678', type='Publication') type='PUBLISHED_IN'\n",
      "source=Node(id='YASMIN AHMED', type='Person') target=Node(id='612 BUSINESS CENTRE, MUMTAZ HASAN ROAD OFF I.I. CHUNDRIGAR ROAD, KARACHI, PK.', type='Location') type='LIVES_AT'\n",
      "source=Node(id='YASMIN AHMED', type='Person') target=Node(id='Denied Persons List', type='List') type='LISTED_AS'\n",
      "source=Node(id='US STATE DEPARTMENT', type='Organization') target=Node(id='Directorate of Defence Trade Controls', type='Department') type='MAINTAINS'\n",
      "source=Node(id='YASMIN AHMED', type='Person') target=Node(id='Parties Debarred for Arms Export Control Act convictions', type='List') type='LISTED_AS'\n",
      "source=Node(id='YASMIN AHMED', type='Person') target=Node(id='Naturalized US citizen', type='Identity') type='IDENTIFIED_AS'\n",
      "source=Node(id='YASMIN AHMED', type='Person') target=Node(id='United Arab Emirates', type='Country') type='WORKED_AT'\n"
     ]
    }
   ],
   "source": [
    "for rel in graph_doc[0].relationships:\n",
    "    print(rel)"
   ]
  },
  {
   "cell_type": "code",
   "execution_count": null,
   "id": "0689e2c3",
   "metadata": {},
   "outputs": [],
   "source": []
  },
  {
   "cell_type": "code",
   "execution_count": null,
   "id": "6e1fb094",
   "metadata": {},
   "outputs": [],
   "source": [
    "llama2 , mistral"
   ]
  },
  {
   "cell_type": "code",
   "execution_count": null,
   "id": "10feec85-0e0e-4504-a045-0d938d4d6d01",
   "metadata": {},
   "outputs": [],
   "source": [
    "a"
   ]
  },
  {
   "cell_type": "code",
   "execution_count": 10,
   "id": "5dd7662c",
   "metadata": {},
   "outputs": [],
   "source": [
    "#dependencies for modifying prompts for name tags only + splitting\n",
    "import pandas as pd\n",
    "import json\n",
    "import os\n",
    "\n",
    "from langchain_community.graphs import Neo4jGraph\n",
    "from langchain_community.chat_models import ChatOllama\n",
    "from langchain.document_loaders import WikipediaLoader\n",
    "from langchain_community.llms import Ollama\n",
    "from langchain.chains import LLMChain\n",
    "from langchain.prompts.chat import (ChatPromptTemplate,HumanMessagePromptTemplate,SystemMessagePromptTemplate)\n",
    "from langchain import PromptTemplate\n",
    "from langchain_core.prompts import FewShotPromptTemplate, PromptTemplate\n",
    "from langchain.schema import (SystemMessage,HumanMessage,AIMessage)\n",
    "from langchain_core.output_parsers import JsonOutputParser\n",
    "from langchain_core.pydantic_v1 import BaseModel, Field\n",
    "import tiktoken\n",
    "#from langchain_groq import ChatGroq\n",
    "import time\n",
    "from langchain.docstore.document import Document\n"
   ]
  },
  {
   "cell_type": "code",
   "execution_count": 11,
   "id": "b1282abe",
   "metadata": {},
   "outputs": [],
   "source": [
    "entity_types = ['person','company','DateOfBirth', 'PlaceOfBirth', 'IdentificationNumber', 'family','relative', 'alias']\n",
    "relation_types = ['worksFor','isBrotherOf','isFatherOf', 'CitizenOf']\n",
    "\n",
    "# entity_types = ['primary name','alias','also known as', 'other names', 'former name', 'previous name']\n",
    "# relation_types = ['alias of','former name of']"
   ]
  },
  {
   "cell_type": "code",
   "execution_count": 12,
   "id": "a2e39bd5",
   "metadata": {},
   "outputs": [],
   "source": [
    "system_prompt = PromptTemplate(\n",
    "    template = \"\"\"\n",
    "    You are a top-tier algorithm designed for extracting information in structured formats.\n",
    "    Your task is to identify the entities and relations requested with the user prompt, from a given text.\n",
    "    You must generate the output in a JSON containing a list with JSON objects having the following keys: \"head\", \"head_type\", \"relation\", \"tail\", and \"tail_type\".\n",
    "    The \"head\" key must contain the text of the extracted entity with one of the types from the provided list in the user prompt. \n",
    "    The \"head_type\" key must contain the type of the extracted head entity which must be one of the types from {entity_types}.\n",
    "    The \"relation\" key must contain the type of relation between the \"head\" and the \"tail\" which must be one of the relations from {relation_types}.\n",
    "    The \"tail\" key must represent the text of an extracted entity which is the tail of the relation, and the \"tail_type\" key must contain the type of the tail entity from {entity_types}. \n",
    "    Attempt to extract as many entities and relations as you can. If relation is not present then only extract under 'head' and 'head_type'.\n",
    "    \n",
    "    IMPORTANT NOTES:\n",
    "    - Don't add any explanation and text. \n",
    "    \"\"\",\n",
    "    input_variables=[\"entity_types\",\"relation_types\"],\n",
    ")\n",
    "\n",
    "\n",
    "system_message_prompt = SystemMessagePromptTemplate(prompt = system_prompt)\n",
    "\n",
    "examples = [\n",
    "        {\n",
    "            \"text\":\"Adam is a software engineer in Microsoft since 2009, and last year he got an award as the Best Talent\" ,    \n",
    "            \"head\": \"Adam\",\n",
    "            \"head_type\": \"person\",\n",
    "            \"relation\": \"worksFor\",\n",
    "            \"tail\": \"Microsoft\",\n",
    "            \"tail_type\": \"company\"\n",
    "        },\n",
    "        {\n",
    "            \"text\":\"[AUSTRALIA SANCTIONS - DFAT] No 446,a (Mar 2013 - removed). PRIMARY NAME: Zaini Zakaria. Alias: Ahmad.\" ,    \n",
    "            \"head\": \"Zaini Zakaria\",\n",
    "            \"head_type\": \"person\"\n",
    "        },\n",
    "         {\n",
    "            \"text\":\"[AUSTRALIA SANCTIONS - DFAT] No 446,a (Mar 2013 - removed). PRIMARY NAME: Zaini Zakaria. Alias: Ahmad. DOB: 16-May-67. \",\n",
    "            \"head\":'Ahmad',\n",
    "            \"head_type\": \"alias\",\n",
    "            \"head\":\"16-May-67\",\n",
    "            \"head_type\":\"DateofBirth\"\n",
    "             \n",
    "        },\n",
    "    \n",
    "    ]\n",
    "\n",
    "class ExtractedInfo(BaseModel):\n",
    "    head: str = Field(description=\"extracted first or head entity like Microsoft, Apple, John\")\n",
    "    head_type: str = Field(description=\"type of the extracted head entity like person, company, etc\")\n",
    "    relation: str = Field(description=\"relation between the head and the tail entities\")\n",
    "    tail: str = Field(description=\"extracted second or tail entity like Microsoft, Apple, John\")\n",
    "    tail_type: str = Field(description=\"type of the extracted tail entity like person, company, etc\")\n",
    "    \n",
    "parser = JsonOutputParser(pydantic_object=ExtractedInfo)\n",
    "\n",
    "human_prompt = PromptTemplate(\n",
    "    template = \"\"\" Based on the following example, extract entities and relations from the provided text.\\n\\n\n",
    "\n",
    "    Use the following entity types, don't use other entity that is not defined below:\n",
    "    # ENTITY TYPES:\n",
    "    {entity_types}\n",
    "\n",
    "    Use the following relation types, don't use other relation that is not defined below:\n",
    "    # RELATION TYPES:\n",
    "    {relation_types}\n",
    "\n",
    "    Below are a number of examples of text and their extracted entities and relationshhips.\n",
    "    {examples}\n",
    "\n",
    "    For the following text, generate extract entitites and relations as in the provided example.\\n{format_instructions}\\nText: {text}\"\"\",\n",
    "    input_variables=[\"entity_types\",\"relation_types\",\"examples\",\"text\"],\n",
    "    partial_variables={\"format_instructions\": parser.get_format_instructions()},\n",
    ")\n",
    "\n",
    "human_message_prompt = HumanMessagePromptTemplate(prompt=human_prompt)\n",
    "\n",
    "chat_prompt = ChatPromptTemplate.from_messages([system_message_prompt, human_message_prompt])"
   ]
  },
  {
   "cell_type": "code",
   "execution_count": 13,
   "id": "2435cfee",
   "metadata": {},
   "outputs": [
    {
     "data": {
      "text/plain": [
       "ChatPromptTemplate(input_variables=['entity_types', 'examples', 'relation_types', 'text'], messages=[SystemMessagePromptTemplate(prompt=PromptTemplate(input_variables=['entity_types', 'relation_types'], template='\\n    You are a top-tier algorithm designed for extracting information in structured formats.\\n    Your task is to identify the entities and relations requested with the user prompt, from a given text.\\n    You must generate the output in a JSON containing a list with JSON objects having the following keys: \"head\", \"head_type\", \"relation\", \"tail\", and \"tail_type\".\\n    The \"head\" key must contain the text of the extracted entity with one of the types from the provided list in the user prompt. \\n    The \"head_type\" key must contain the type of the extracted head entity which must be one of the types from {entity_types}.\\n    The \"relation\" key must contain the type of relation between the \"head\" and the \"tail\" which must be one of the relations from {relation_types}.\\n    The \"tail\" key must represent the text of an extracted entity which is the tail of the relation, and the \"tail_type\" key must contain the type of the tail entity from {entity_types}. \\n    Attempt to extract as many entities and relations as you can. If relation is not present then only extract under \\'head\\' and \\'head_type\\'.\\n    \\n    IMPORTANT NOTES:\\n    - Don\\'t add any explanation and text. \\n    ')), HumanMessagePromptTemplate(prompt=PromptTemplate(input_variables=['entity_types', 'examples', 'relation_types', 'text'], partial_variables={'format_instructions': 'The output should be formatted as a JSON instance that conforms to the JSON schema below.\\n\\nAs an example, for the schema {\"properties\": {\"foo\": {\"title\": \"Foo\", \"description\": \"a list of strings\", \"type\": \"array\", \"items\": {\"type\": \"string\"}}}, \"required\": [\"foo\"]}\\nthe object {\"foo\": [\"bar\", \"baz\"]} is a well-formatted instance of the schema. The object {\"properties\": {\"foo\": [\"bar\", \"baz\"]}} is not well-formatted.\\n\\nHere is the output schema:\\n```\\n{\"properties\": {\"head\": {\"title\": \"Head\", \"description\": \"extracted first or head entity like Microsoft, Apple, John\", \"type\": \"string\"}, \"head_type\": {\"title\": \"Head Type\", \"description\": \"type of the extracted head entity like person, company, etc\", \"type\": \"string\"}, \"relation\": {\"title\": \"Relation\", \"description\": \"relation between the head and the tail entities\", \"type\": \"string\"}, \"tail\": {\"title\": \"Tail\", \"description\": \"extracted second or tail entity like Microsoft, Apple, John\", \"type\": \"string\"}, \"tail_type\": {\"title\": \"Tail Type\", \"description\": \"type of the extracted tail entity like person, company, etc\", \"type\": \"string\"}}, \"required\": [\"head\", \"head_type\", \"relation\", \"tail\", \"tail_type\"]}\\n```'}, template=\" Based on the following example, extract entities and relations from the provided text.\\n\\n\\n\\n    Use the following entity types, don't use other entity that is not defined below:\\n    # ENTITY TYPES:\\n    {entity_types}\\n\\n    Use the following relation types, don't use other relation that is not defined below:\\n    # RELATION TYPES:\\n    {relation_types}\\n\\n    Below are a number of examples of text and their extracted entities and relationshhips.\\n    {examples}\\n\\n    For the following text, generate extract entitites and relations as in the provided example.\\n{format_instructions}\\nText: {text}\"))])"
      ]
     },
     "execution_count": 13,
     "metadata": {},
     "output_type": "execute_result"
    }
   ],
   "source": [
    "\n",
    "chat_prompt"
   ]
  },
  {
   "cell_type": "code",
   "execution_count": null,
   "id": "4542e0eb",
   "metadata": {},
   "outputs": [],
   "source": []
  }
 ],
 "metadata": {
  "kernelspec": {
   "display_name": "Python 3 (ipykernel)",
   "language": "python",
   "name": "python3"
  },
  "language_info": {
   "codemirror_mode": {
    "name": "ipython",
    "version": 3
   },
   "file_extension": ".py",
   "mimetype": "text/x-python",
   "name": "python",
   "nbconvert_exporter": "python",
   "pygments_lexer": "ipython3",
   "version": "3.11.7"
  }
 },
 "nbformat": 4,
 "nbformat_minor": 5
}
