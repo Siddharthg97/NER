{
 "cells": [
  {
   "cell_type": "code",
   "execution_count": 1,
   "id": "1de0a3c3-710c-4225-99ae-f83058531b91",
   "metadata": {},
   "outputs": [
    {
     "name": "stdout",
     "output_type": "stream",
     "text": [
      "Requirement already satisfied: neo4j in c:\\users\\00152897\\appdata\\local\\anaconda3\\lib\\site-packages (5.20.0)\n",
      "Requirement already satisfied: pytz in c:\\users\\00152897\\appdata\\local\\anaconda3\\lib\\site-packages (from neo4j) (2023.3.post1)\n",
      "Collecting graphdatascience\n",
      "  Downloading graphdatascience-1.10-py3-none-any.whl.metadata (7.7 kB)\n",
      "Collecting multimethod<2.0,>=1.0 (from graphdatascience)\n",
      "  Downloading multimethod-1.11.2-py3-none-any.whl.metadata (9.1 kB)\n",
      "Requirement already satisfied: neo4j<6.0,>=4.4.2 in c:\\users\\00152897\\appdata\\local\\anaconda3\\lib\\site-packages (from graphdatascience) (5.20.0)\n",
      "Requirement already satisfied: pandas<3.0,>=1.0 in c:\\users\\00152897\\appdata\\local\\anaconda3\\lib\\site-packages (from graphdatascience) (2.1.4)\n",
      "Requirement already satisfied: pyarrow<16.0,>=11.0 in c:\\users\\00152897\\appdata\\local\\anaconda3\\lib\\site-packages (from graphdatascience) (14.0.2)\n",
      "Requirement already satisfied: textdistance<5.0,>=4.0 in c:\\users\\00152897\\appdata\\local\\anaconda3\\lib\\site-packages (from graphdatascience) (4.2.1)\n",
      "Requirement already satisfied: tqdm<5.0,>=4.0 in c:\\users\\00152897\\appdata\\local\\anaconda3\\lib\\site-packages (from graphdatascience) (4.66.2)\n",
      "Requirement already satisfied: typing-extensions<5.0,>=4.0 in c:\\users\\00152897\\appdata\\local\\anaconda3\\lib\\site-packages (from graphdatascience) (4.9.0)\n",
      "Requirement already satisfied: requests in c:\\users\\00152897\\appdata\\local\\anaconda3\\lib\\site-packages (from graphdatascience) (2.31.0)\n",
      "Requirement already satisfied: pytz in c:\\users\\00152897\\appdata\\local\\anaconda3\\lib\\site-packages (from neo4j<6.0,>=4.4.2->graphdatascience) (2023.3.post1)\n",
      "Requirement already satisfied: numpy<2,>=1.23.2 in c:\\users\\00152897\\appdata\\local\\anaconda3\\lib\\site-packages (from pandas<3.0,>=1.0->graphdatascience) (1.26.4)\n",
      "Requirement already satisfied: python-dateutil>=2.8.2 in c:\\users\\00152897\\appdata\\local\\anaconda3\\lib\\site-packages (from pandas<3.0,>=1.0->graphdatascience) (2.8.2)\n",
      "Requirement already satisfied: tzdata>=2022.1 in c:\\users\\00152897\\appdata\\local\\anaconda3\\lib\\site-packages (from pandas<3.0,>=1.0->graphdatascience) (2023.3)\n",
      "Requirement already satisfied: colorama in c:\\users\\00152897\\appdata\\local\\anaconda3\\lib\\site-packages (from tqdm<5.0,>=4.0->graphdatascience) (0.4.6)\n",
      "Requirement already satisfied: charset-normalizer<4,>=2 in c:\\users\\00152897\\appdata\\local\\anaconda3\\lib\\site-packages (from requests->graphdatascience) (3.3.2)\n",
      "Requirement already satisfied: idna<4,>=2.5 in c:\\users\\00152897\\appdata\\local\\anaconda3\\lib\\site-packages (from requests->graphdatascience) (3.4)\n",
      "Requirement already satisfied: urllib3<3,>=1.21.1 in c:\\users\\00152897\\appdata\\local\\anaconda3\\lib\\site-packages (from requests->graphdatascience) (1.26.18)\n",
      "Requirement already satisfied: certifi>=2017.4.17 in c:\\users\\00152897\\appdata\\local\\anaconda3\\lib\\site-packages (from requests->graphdatascience) (2024.2.2)\n",
      "Requirement already satisfied: six>=1.5 in c:\\users\\00152897\\appdata\\local\\anaconda3\\lib\\site-packages (from python-dateutil>=2.8.2->pandas<3.0,>=1.0->graphdatascience) (1.16.0)\n",
      "Downloading graphdatascience-1.10-py3-none-any.whl (1.6 MB)\n",
      "   ---------------------------------------- 0.0/1.6 MB ? eta -:--:--\n",
      "   ---------------------------------------- 0.0/1.6 MB ? eta -:--:--\n",
      "   - -------------------------------------- 0.1/1.6 MB 1.7 MB/s eta 0:00:01\n",
      "   -- ------------------------------------- 0.1/1.6 MB 1.4 MB/s eta 0:00:02\n",
      "   --- ------------------------------------ 0.2/1.6 MB 1.4 MB/s eta 0:00:02\n",
      "   ----- ---------------------------------- 0.2/1.6 MB 1.2 MB/s eta 0:00:02\n",
      "   ------- -------------------------------- 0.3/1.6 MB 1.5 MB/s eta 0:00:01\n",
      "   -------- ------------------------------- 0.4/1.6 MB 1.6 MB/s eta 0:00:01\n",
      "   ------------ --------------------------- 0.5/1.6 MB 1.6 MB/s eta 0:00:01\n",
      "   -------------- ------------------------- 0.6/1.6 MB 1.8 MB/s eta 0:00:01\n",
      "   ----------------- ---------------------- 0.7/1.6 MB 1.8 MB/s eta 0:00:01\n",
      "   ------------------- -------------------- 0.8/1.6 MB 1.8 MB/s eta 0:00:01\n",
      "   -------------------- ------------------- 0.9/1.6 MB 1.8 MB/s eta 0:00:01\n",
      "   ----------------------- ---------------- 1.0/1.6 MB 1.9 MB/s eta 0:00:01\n",
      "   -------------------------- ------------- 1.1/1.6 MB 2.0 MB/s eta 0:00:01\n",
      "   ---------------------------- ----------- 1.2/1.6 MB 2.0 MB/s eta 0:00:01\n",
      "   -------------------------------- ------- 1.3/1.6 MB 2.1 MB/s eta 0:00:01\n",
      "   ---------------------------------- ----- 1.4/1.6 MB 2.1 MB/s eta 0:00:01\n",
      "   -------------------------------------- - 1.6/1.6 MB 2.2 MB/s eta 0:00:01\n",
      "   ---------------------------------------  1.6/1.6 MB 2.2 MB/s eta 0:00:01\n",
      "   ---------------------------------------- 1.6/1.6 MB 2.1 MB/s eta 0:00:00\n",
      "Downloading multimethod-1.11.2-py3-none-any.whl (10 kB)\n",
      "Installing collected packages: multimethod, graphdatascience\n",
      "Successfully installed graphdatascience-1.10 multimethod-1.11.2\n"
     ]
    }
   ],
   "source": [
    "!pip install neo4j\n",
    "!pip install graphdatascience"
   ]
  },
  {
   "cell_type": "code",
   "execution_count": 1,
   "id": "0c0954dd-917d-4c86-a060-88172668afcc",
   "metadata": {},
   "outputs": [],
   "source": [
    "from langchain.chat_models import ChatOpenAI\n",
    "from langchain.prompts.chat import ChatPromptTemplate\n",
    "from langchain.chains.llm import LLMChain\n",
    "from langchain.schema import AIMessage, HumanMessage, SystemMessage\n",
    "import os\n",
    "from graphdatascience import GraphDataScience\n"
   ]
  },
  {
   "cell_type": "code",
   "execution_count": 2,
   "id": "a6d1a307-1abb-4e2d-a8d6-b2e88a23617a",
   "metadata": {},
   "outputs": [
    {
     "name": "stdout",
     "output_type": "stream",
     "text": [
      "CPU times: total: 281 ms\n",
      "Wall time: 4.03 s\n"
     ]
    }
   ],
   "source": [
    "%%time\n",
    "from langchain_community.chat_models import ChatOllama\n",
    "\n",
    "llm = ChatOllama(temperature=0, model = \"llama3\")"
   ]
  },
  {
   "cell_type": "code",
   "execution_count": 3,
   "id": "c3c9c453-b72c-48e6-a0a3-f488621d61b3",
   "metadata": {},
   "outputs": [],
   "source": [
    "system_prompt = \"\"\"\n",
    "You are a data scientist working for a company that is building a knowledge graph database. \n",
    "Your task is to extract entities from the data, identify their relationships and convert it into a graph database.\"\"\""
   ]
  },
  {
   "cell_type": "code",
   "execution_count": 4,
   "id": "6d11e585-b76f-4d7d-be3d-f4504ad258fa",
   "metadata": {},
   "outputs": [],
   "source": [
    "prompt_template_entity = ChatPromptTemplate.from_messages([ (\"system\", f'''{system_prompt}'''), (\"human\", \"{user_input}\"),])"
   ]
  },
  {
   "cell_type": "code",
   "execution_count": 5,
   "id": "cf4ff9ca-d8e7-473a-a455-a9b3f6cdfb1a",
   "metadata": {},
   "outputs": [
    {
     "name": "stdout",
     "output_type": "stream",
     "text": [
      "[AUSTRALIA SANCTIONS - DFAT-AS] No 1321 (Oct 2007 - addition. May 2012 - removed). PRIMARY NAME: AYE AYE. Additional Information: Wife of former Brig-Gen Thura Aye Myint (Member of Parliament). [AUSTRALIA SANCTIONS - RBA] Oct 2007 - addition. Mar 2012 - transferred to DFAT Consolidated list. [EU SANCTIONS] EC 817/2006 (EC 194/2008: Sep 2011 - removed). CP 2006/318/CFSP (Aug 2011 - no longer appears). PRIMARY NAME: Aye Aye. Gender F. Wife of Thura Aye Myint (Government). [SWITZERLAND SANCTIONS - SECO] Dec 2009 - amended. Dec 2011 - removed. PRIMARY NAME: Aye Aye. Gender W. Wife of Brigadier-General Thura Aye Myint. [UK SANCTIONS - UKHMT] Jul 2003 - addition. Sep 2011 - removed. PRIMARY NAME: AYE,AYE. Other Information: (Government). Female. Wife of Thura Aye Myint. Group ID: 7701. [SANCTIONS HISTORY] Aug 2011 - no longer appears on EU Sanctions (decision). Sep 2011 - removed from EU (regulation), Germany, Isle of Man, Luxembourg, Malta, Spain and UKHMT sanction lists. Oct 2011 - removed from France and Monaco sanctions lists. Nov 2011 - removed from Liechtenstein sanctions list. Dec 2011 - removed from SECO sanctions list. Feb 2012 - removed from Jersey sanctions list. May 2012 - removed from Australia Autonomous sanctions. [BIOGRAPHY] To be determined. [IDENTIFICATION] Aye Myint (PEP) (spouse). Nay Linn (son). [REPORTS] To be determined. [ADDITIONAL COMMENTS] This individual is no longer on a sanctions list. The information is retained as a record of past events and will be deleted in due course in accordance with the World-Check Data Retention Policy. Information about a former sanction listing should not be treated in the same way as information about a current sanction listing and in no way reflects any current wrongdoing on the part of the individual in question.\n"
     ]
    }
   ],
   "source": [
    "text = \"\"\"[AUSTRALIA SANCTIONS - DFAT-AS] No 1321 (Oct 2007 - addition. May 2012 - removed). PRIMARY NAME: AYE AYE. Additional Information: Wife of former Brig-Gen Thura Aye Myint (Member of Parliament). [AUSTRALIA SANCTIONS - RBA] Oct 2007 - addition. Mar 2012 - transferred to DFAT Consolidated list. [EU SANCTIONS] EC 817/2006 (EC 194/2008: Sep 2011 - removed). CP 2006/318/CFSP (Aug 2011 - no longer appears). PRIMARY NAME: Aye Aye. Gender F. Wife of Thura Aye Myint (Government). [SWITZERLAND SANCTIONS - SECO] Dec 2009 - amended. Dec 2011 - removed. PRIMARY NAME: Aye Aye. Gender W. Wife of Brigadier-General Thura Aye Myint. [UK SANCTIONS - UKHMT] Jul 2003 - addition. Sep 2011 - removed. PRIMARY NAME: AYE,AYE. Other Information: (Government). Female. Wife of Thura Aye Myint. Group ID: 7701. [SANCTIONS HISTORY] Aug 2011 - no longer appears on EU Sanctions (decision). Sep 2011 - removed from EU (regulation), Germany, Isle of Man, Luxembourg, Malta, Spain and UKHMT sanction lists. Oct 2011 - removed from France and Monaco sanctions lists. Nov 2011 - removed from Liechtenstein sanctions list. Dec 2011 - removed from SECO sanctions list. Feb 2012 - removed from Jersey sanctions list. May 2012 - removed from Australia Autonomous sanctions. [BIOGRAPHY] To be determined. [IDENTIFICATION] Aye Myint (PEP) (spouse). Nay Linn (son). [REPORTS] To be determined. [ADDITIONAL COMMENTS] This individual is no longer on a sanctions list. The information is retained as a record of past events and will be deleted in due course in accordance with the World-Check Data Retention Policy. Information about a former sanction listing should not be treated in the same way as information about a current sanction listing and in no way reflects any current wrongdoing on the part of the individual in question.\"\"\"\n",
    "\n",
    "print(text)"
   ]
  },
  {
   "cell_type": "code",
   "execution_count": 6,
   "id": "7482c1c2-5a97-414e-94b2-f1519fda7588",
   "metadata": {},
   "outputs": [
    {
     "name": "stderr",
     "output_type": "stream",
     "text": [
      "C:\\Users\\00152897\\AppData\\Local\\anaconda3\\Lib\\site-packages\\langchain_core\\_api\\deprecation.py:119: LangChainDeprecationWarning: The class `LLMChain` was deprecated in LangChain 0.1.17 and will be removed in 0.3.0. Use RunnableSequence, e.g., `prompt | llm` instead.\n",
      "  warn_deprecated(\n",
      "C:\\Users\\00152897\\AppData\\Local\\anaconda3\\Lib\\site-packages\\langchain_core\\_api\\deprecation.py:119: LangChainDeprecationWarning: The method `Chain.run` was deprecated in langchain 0.1.0 and will be removed in 0.3.0. Use invoke instead.\n",
      "  warn_deprecated(\n"
     ]
    },
    {
     "name": "stdout",
     "output_type": "stream",
     "text": [
      "\n",
      "\n",
      "\u001b[1m> Entering new LLMChain chain...\u001b[0m\n",
      "Prompt after formatting:\n",
      "\u001b[32;1m\u001b[1;3mSystem: \n",
      "You are a data scientist working for a company that is building a knowledge graph database. \n",
      "Your task is to extract entities from the data, identify their relationships and convert it into a graph database.\n",
      "Human: [AUSTRALIA SANCTIONS - DFAT-AS] No 1321 (Oct 2007 - addition. May 2012 - removed). PRIMARY NAME: AYE AYE. Additional Information: Wife of former Brig-Gen Thura Aye Myint (Member of Parliament). [AUSTRALIA SANCTIONS - RBA] Oct 2007 - addition. Mar 2012 - transferred to DFAT Consolidated list. [EU SANCTIONS] EC 817/2006 (EC 194/2008: Sep 2011 - removed). CP 2006/318/CFSP (Aug 2011 - no longer appears). PRIMARY NAME: Aye Aye. Gender F. Wife of Thura Aye Myint (Government). [SWITZERLAND SANCTIONS - SECO] Dec 2009 - amended. Dec 2011 - removed. PRIMARY NAME: Aye Aye. Gender W. Wife of Brigadier-General Thura Aye Myint. [UK SANCTIONS - UKHMT] Jul 2003 - addition. Sep 2011 - removed. PRIMARY NAME: AYE,AYE. Other Information: (Government). Female. Wife of Thura Aye Myint. Group ID: 7701. [SANCTIONS HISTORY] Aug 2011 - no longer appears on EU Sanctions (decision). Sep 2011 - removed from EU (regulation), Germany, Isle of Man, Luxembourg, Malta, Spain and UKHMT sanction lists. Oct 2011 - removed from France and Monaco sanctions lists. Nov 2011 - removed from Liechtenstein sanctions list. Dec 2011 - removed from SECO sanctions list. Feb 2012 - removed from Jersey sanctions list. May 2012 - removed from Australia Autonomous sanctions. [BIOGRAPHY] To be determined. [IDENTIFICATION] Aye Myint (PEP) (spouse). Nay Linn (son). [REPORTS] To be determined. [ADDITIONAL COMMENTS] This individual is no longer on a sanctions list. The information is retained as a record of past events and will be deleted in due course in accordance with the World-Check Data Retention Policy. Information about a former sanction listing should not be treated in the same way as information about a current sanction listing and in no way reflects any current wrongdoing on the part of the individual in question.\u001b[0m\n",
      "\n",
      "\u001b[1m> Finished chain.\u001b[0m\n",
      "CPU times: total: 1.31 s\n",
      "Wall time: 5min 57s\n"
     ]
    }
   ],
   "source": [
    "%%time\n",
    "\n",
    "llm_chain = LLMChain(llm=llm, prompt=prompt_template_entity, verbose=True)\n",
    "\n",
    "output = llm_chain.run(user_input= text)"
   ]
  },
  {
   "cell_type": "code",
   "execution_count": 7,
   "id": "8ce10a70-aaa8-43fe-8b55-379f68607194",
   "metadata": {},
   "outputs": [
    {
     "name": "stdout",
     "output_type": "stream",
     "text": [
      "What an interesting dataset!\n",
      "\n",
      "After analyzing the data, I've extracted the following entities:\n",
      "\n",
      "1. **Aye Aye**: The primary entity, a female individual.\n",
      "2. **Thura Aye Myint**: Her spouse, a former Brig-Gen and Member of Parliament.\n",
      "3. **Nay Linn**: Their son.\n",
      "\n",
      "Relationships:\n",
      "\n",
      "1. **Spouse**: Aye Aye is the wife of Thura Aye Myint.\n",
      "2. **Parent**: Aye Aye is the mother of Nay Linn.\n",
      "\n",
      "Graph database representation (using a simple entity-relation model):\n",
      "\n",
      "* `Aye Aye` (Entity) - `Wife Of` -> `Thura Aye Myint` (Entity)\n",
      "* `Thura Aye Myint` (Entity) - `Spouse Of` -> `Aye Aye` (Entity)\n",
      "* `Nay Linn` (Entity) - `Child Of` -> `Aye Aye` (Entity)\n",
      "\n",
      "Additional information:\n",
      "\n",
      "1. **Sanctions history**: Aye Aye was listed on various sanctions lists, including Australia, EU, Switzerland, UK, and others. She was removed from these lists at different times between 2003 and 2012.\n",
      "2. **Biography**: To be determined.\n",
      "3. **Reports**: To be determined.\n",
      "\n",
      "This dataset provides a good example of how to extract entities and relationships from unstructured text data, which can then be used to build a knowledge graph database.\n"
     ]
    }
   ],
   "source": [
    "print(output)"
   ]
  },
  {
   "cell_type": "code",
   "execution_count": null,
   "id": "3eba52ba-c2e9-49f2-a055-a93e25edddda",
   "metadata": {},
   "outputs": [],
   "source": []
  }
 ],
 "metadata": {
  "kernelspec": {
   "display_name": "Python 3 (ipykernel)",
   "language": "python",
   "name": "python3"
  },
  "language_info": {
   "codemirror_mode": {
    "name": "ipython",
    "version": 3
   },
   "file_extension": ".py",
   "mimetype": "text/x-python",
   "name": "python",
   "nbconvert_exporter": "python",
   "pygments_lexer": "ipython3",
   "version": "3.11.7"
  }
 },
 "nbformat": 4,
 "nbformat_minor": 5
}
