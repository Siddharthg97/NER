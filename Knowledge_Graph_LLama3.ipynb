{
 "cells": [
  {
   "cell_type": "code",
   "execution_count": 7,
   "id": "cb795f9a-d2a8-4b03-b097-88e5007bd2a7",
   "metadata": {},
   "outputs": [
    {
     "name": "stdout",
     "output_type": "stream",
     "text": [
      "Collecting json-repairNote: you may need to restart the kernel to use updated packages.\n",
      "\n",
      "  Downloading json_repair-0.22.0-py3-none-any.whl.metadata (7.3 kB)\n",
      "Downloading json_repair-0.22.0-py3-none-any.whl (12 kB)\n",
      "Installing collected packages: json-repair\n",
      "Successfully installed json-repair-0.22.0\n"
     ]
    }
   ],
   "source": [
    "pip install json-repair"
   ]
  },
  {
   "cell_type": "code",
   "execution_count": 11,
   "id": "b700b42b-3cd8-4127-967d-51fe34298349",
   "metadata": {},
   "outputs": [
    {
     "name": "stdout",
     "output_type": "stream",
     "text": [
      "Requirement already satisfied: langchain in c:\\users\\00152897\\appdata\\local\\anaconda3\\lib\\site-packages (0.2.1)\n",
      "Requirement already satisfied: PyYAML>=5.3 in c:\\users\\00152897\\appdata\\local\\anaconda3\\lib\\site-packages (from langchain) (6.0.1)\n",
      "Requirement already satisfied: SQLAlchemy<3,>=1.4 in c:\\users\\00152897\\appdata\\local\\anaconda3\\lib\\site-packages (from langchain) (2.0.25)\n",
      "Requirement already satisfied: aiohttp<4.0.0,>=3.8.3 in c:\\users\\00152897\\appdata\\local\\anaconda3\\lib\\site-packages (from langchain) (3.9.3)\n",
      "Requirement already satisfied: langchain-core<0.3.0,>=0.2.0 in c:\\users\\00152897\\appdata\\local\\anaconda3\\lib\\site-packages (from langchain) (0.2.3)\n",
      "Requirement already satisfied: langchain-text-splitters<0.3.0,>=0.2.0 in c:\\users\\00152897\\appdata\\local\\anaconda3\\lib\\site-packages (from langchain) (0.2.0)\n",
      "Requirement already satisfied: langsmith<0.2.0,>=0.1.17 in c:\\users\\00152897\\appdata\\local\\anaconda3\\lib\\site-packages (from langchain) (0.1.67)\n",
      "Requirement already satisfied: numpy<2,>=1 in c:\\users\\00152897\\appdata\\local\\anaconda3\\lib\\site-packages (from langchain) (1.26.4)\n",
      "Requirement already satisfied: pydantic<3,>=1 in c:\\users\\00152897\\appdata\\local\\anaconda3\\lib\\site-packages (from langchain) (1.10.15)\n",
      "Requirement already satisfied: requests<3,>=2 in c:\\users\\00152897\\appdata\\local\\anaconda3\\lib\\site-packages (from langchain) (2.31.0)\n",
      "Requirement already satisfied: tenacity<9.0.0,>=8.1.0 in c:\\users\\00152897\\appdata\\local\\anaconda3\\lib\\site-packages (from langchain) (8.2.3)\n",
      "Requirement already satisfied: aiosignal>=1.1.2 in c:\\users\\00152897\\appdata\\local\\anaconda3\\lib\\site-packages (from aiohttp<4.0.0,>=3.8.3->langchain) (1.2.0)\n",
      "Requirement already satisfied: attrs>=17.3.0 in c:\\users\\00152897\\appdata\\local\\anaconda3\\lib\\site-packages (from aiohttp<4.0.0,>=3.8.3->langchain) (23.1.0)\n",
      "Requirement already satisfied: frozenlist>=1.1.1 in c:\\users\\00152897\\appdata\\local\\anaconda3\\lib\\site-packages (from aiohttp<4.0.0,>=3.8.3->langchain) (1.4.0)\n",
      "Requirement already satisfied: multidict<7.0,>=4.5 in c:\\users\\00152897\\appdata\\local\\anaconda3\\lib\\site-packages (from aiohttp<4.0.0,>=3.8.3->langchain) (6.0.4)\n",
      "Requirement already satisfied: yarl<2.0,>=1.0 in c:\\users\\00152897\\appdata\\local\\anaconda3\\lib\\site-packages (from aiohttp<4.0.0,>=3.8.3->langchain) (1.9.3)\n",
      "Requirement already satisfied: jsonpatch<2.0,>=1.33 in c:\\users\\00152897\\appdata\\local\\anaconda3\\lib\\site-packages (from langchain-core<0.3.0,>=0.2.0->langchain) (1.33)\n",
      "Requirement already satisfied: packaging<24.0,>=23.2 in c:\\users\\00152897\\appdata\\local\\anaconda3\\lib\\site-packages (from langchain-core<0.3.0,>=0.2.0->langchain) (23.2)\n",
      "Requirement already satisfied: orjson<4.0.0,>=3.9.14 in c:\\users\\00152897\\appdata\\local\\anaconda3\\lib\\site-packages (from langsmith<0.2.0,>=0.1.17->langchain) (3.9.15)\n",
      "Requirement already satisfied: typing-extensions>=4.2.0 in c:\\users\\00152897\\appdata\\local\\anaconda3\\lib\\site-packages (from pydantic<3,>=1->langchain) (4.9.0)\n",
      "Requirement already satisfied: charset-normalizer<4,>=2 in c:\\users\\00152897\\appdata\\local\\anaconda3\\lib\\site-packages (from requests<3,>=2->langchain) (3.3.2)\n",
      "Requirement already satisfied: idna<4,>=2.5 in c:\\users\\00152897\\appdata\\local\\anaconda3\\lib\\site-packages (from requests<3,>=2->langchain) (3.4)\n",
      "Requirement already satisfied: urllib3<3,>=1.21.1 in c:\\users\\00152897\\appdata\\local\\anaconda3\\lib\\site-packages (from requests<3,>=2->langchain) (1.26.18)\n",
      "Requirement already satisfied: certifi>=2017.4.17 in c:\\users\\00152897\\appdata\\local\\anaconda3\\lib\\site-packages (from requests<3,>=2->langchain) (2024.2.2)\n",
      "Requirement already satisfied: greenlet!=0.4.17 in c:\\users\\00152897\\appdata\\local\\anaconda3\\lib\\site-packages (from SQLAlchemy<3,>=1.4->langchain) (3.0.1)\n",
      "Requirement already satisfied: jsonpointer>=1.9 in c:\\users\\00152897\\appdata\\local\\anaconda3\\lib\\site-packages (from jsonpatch<2.0,>=1.33->langchain-core<0.3.0,>=0.2.0->langchain) (2.1)\n",
      "Note: you may need to restart the kernel to use updated packages.\n"
     ]
    }
   ],
   "source": [
    "pip install langchain"
   ]
  },
  {
   "cell_type": "code",
   "execution_count": 11,
   "id": "3eac7c24-9fe6-4505-8c83-6ff29126c496",
   "metadata": {},
   "outputs": [
    {
     "name": "stdout",
     "output_type": "stream",
     "text": [
      "Requirement already satisfied: langchain-community in c:\\users\\00152897\\appdata\\local\\anaconda3\\lib\\site-packages (0.2.1)\n",
      "Requirement already satisfied: PyYAML>=5.3 in c:\\users\\00152897\\appdata\\local\\anaconda3\\lib\\site-packages (from langchain-community) (6.0.1)\n",
      "Requirement already satisfied: SQLAlchemy<3,>=1.4 in c:\\users\\00152897\\appdata\\local\\anaconda3\\lib\\site-packages (from langchain-community) (2.0.25)\n",
      "Requirement already satisfied: aiohttp<4.0.0,>=3.8.3 in c:\\users\\00152897\\appdata\\local\\anaconda3\\lib\\site-packages (from langchain-community) (3.9.3)\n",
      "Requirement already satisfied: dataclasses-json<0.7,>=0.5.7 in c:\\users\\00152897\\appdata\\local\\anaconda3\\lib\\site-packages (from langchain-community) (0.6.4)\n",
      "Requirement already satisfied: langchain<0.3.0,>=0.2.0 in c:\\users\\00152897\\appdata\\local\\anaconda3\\lib\\site-packages (from langchain-community) (0.2.1)\n",
      "Requirement already satisfied: langchain-core<0.3.0,>=0.2.0 in c:\\users\\00152897\\appdata\\local\\anaconda3\\lib\\site-packages (from langchain-community) (0.2.3)\n",
      "Requirement already satisfied: langsmith<0.2.0,>=0.1.0 in c:\\users\\00152897\\appdata\\local\\anaconda3\\lib\\site-packages (from langchain-community) (0.1.67)\n",
      "Requirement already satisfied: numpy<2,>=1 in c:\\users\\00152897\\appdata\\local\\anaconda3\\lib\\site-packages (from langchain-community) (1.26.4)\n",
      "Requirement already satisfied: requests<3,>=2 in c:\\users\\00152897\\appdata\\local\\anaconda3\\lib\\site-packages (from langchain-community) (2.31.0)\n",
      "Requirement already satisfied: tenacity<9.0.0,>=8.1.0 in c:\\users\\00152897\\appdata\\local\\anaconda3\\lib\\site-packages (from langchain-community) (8.2.3)\n",
      "Requirement already satisfied: aiosignal>=1.1.2 in c:\\users\\00152897\\appdata\\local\\anaconda3\\lib\\site-packages (from aiohttp<4.0.0,>=3.8.3->langchain-community) (1.2.0)\n",
      "Requirement already satisfied: attrs>=17.3.0 in c:\\users\\00152897\\appdata\\local\\anaconda3\\lib\\site-packages (from aiohttp<4.0.0,>=3.8.3->langchain-community) (23.1.0)\n",
      "Requirement already satisfied: frozenlist>=1.1.1 in c:\\users\\00152897\\appdata\\local\\anaconda3\\lib\\site-packages (from aiohttp<4.0.0,>=3.8.3->langchain-community) (1.4.0)\n",
      "Requirement already satisfied: multidict<7.0,>=4.5 in c:\\users\\00152897\\appdata\\local\\anaconda3\\lib\\site-packages (from aiohttp<4.0.0,>=3.8.3->langchain-community) (6.0.4)\n",
      "Requirement already satisfied: yarl<2.0,>=1.0 in c:\\users\\00152897\\appdata\\local\\anaconda3\\lib\\site-packages (from aiohttp<4.0.0,>=3.8.3->langchain-community) (1.9.3)\n",
      "Requirement already satisfied: marshmallow<4.0.0,>=3.18.0 in c:\\users\\00152897\\appdata\\local\\anaconda3\\lib\\site-packages (from dataclasses-json<0.7,>=0.5.7->langchain-community) (3.21.1)\n",
      "Requirement already satisfied: typing-inspect<1,>=0.4.0 in c:\\users\\00152897\\appdata\\local\\anaconda3\\lib\\site-packages (from dataclasses-json<0.7,>=0.5.7->langchain-community) (0.9.0)\n",
      "Requirement already satisfied: langchain-text-splitters<0.3.0,>=0.2.0 in c:\\users\\00152897\\appdata\\local\\anaconda3\\lib\\site-packages (from langchain<0.3.0,>=0.2.0->langchain-community) (0.2.0)\n",
      "Requirement already satisfied: pydantic<3,>=1 in c:\\users\\00152897\\appdata\\local\\anaconda3\\lib\\site-packages (from langchain<0.3.0,>=0.2.0->langchain-community) (1.10.15)\n",
      "Requirement already satisfied: jsonpatch<2.0,>=1.33 in c:\\users\\00152897\\appdata\\local\\anaconda3\\lib\\site-packages (from langchain-core<0.3.0,>=0.2.0->langchain-community) (1.33)\n",
      "Requirement already satisfied: packaging<24.0,>=23.2 in c:\\users\\00152897\\appdata\\local\\anaconda3\\lib\\site-packages (from langchain-core<0.3.0,>=0.2.0->langchain-community) (23.2)\n",
      "Requirement already satisfied: orjson<4.0.0,>=3.9.14 in c:\\users\\00152897\\appdata\\local\\anaconda3\\lib\\site-packages (from langsmith<0.2.0,>=0.1.0->langchain-community) (3.9.15)\n",
      "Requirement already satisfied: charset-normalizer<4,>=2 in c:\\users\\00152897\\appdata\\local\\anaconda3\\lib\\site-packages (from requests<3,>=2->langchain-community) (3.3.2)\n",
      "Requirement already satisfied: idna<4,>=2.5 in c:\\users\\00152897\\appdata\\local\\anaconda3\\lib\\site-packages (from requests<3,>=2->langchain-community) (3.4)\n",
      "Requirement already satisfied: urllib3<3,>=1.21.1 in c:\\users\\00152897\\appdata\\local\\anaconda3\\lib\\site-packages (from requests<3,>=2->langchain-community) (1.26.18)\n",
      "Requirement already satisfied: certifi>=2017.4.17 in c:\\users\\00152897\\appdata\\local\\anaconda3\\lib\\site-packages (from requests<3,>=2->langchain-community) (2024.2.2)\n",
      "Requirement already satisfied: typing-extensions>=4.6.0 in c:\\users\\00152897\\appdata\\local\\anaconda3\\lib\\site-packages (from SQLAlchemy<3,>=1.4->langchain-community) (4.9.0)\n",
      "Requirement already satisfied: greenlet!=0.4.17 in c:\\users\\00152897\\appdata\\local\\anaconda3\\lib\\site-packages (from SQLAlchemy<3,>=1.4->langchain-community) (3.0.1)\n",
      "Requirement already satisfied: jsonpointer>=1.9 in c:\\users\\00152897\\appdata\\local\\anaconda3\\lib\\site-packages (from jsonpatch<2.0,>=1.33->langchain-core<0.3.0,>=0.2.0->langchain-community) (2.1)\n",
      "Requirement already satisfied: mypy-extensions>=0.3.0 in c:\\users\\00152897\\appdata\\local\\anaconda3\\lib\\site-packages (from typing-inspect<1,>=0.4.0->dataclasses-json<0.7,>=0.5.7->langchain-community) (1.0.0)\n",
      "Note: you may need to restart the kernel to use updated packages.\n"
     ]
    }
   ],
   "source": [
    "pip install langchain-community"
   ]
  },
  {
   "cell_type": "code",
   "execution_count": 1,
   "id": "eb68b2e0-0ab0-4700-8166-6a438b1f1626",
   "metadata": {},
   "outputs": [],
   "source": [
    "from langchain_experimental.graph_transformers import LLMGraphTransformer\n",
    "from langchain_community.llms import Ollama\n",
    "from langchain.docstore.document import Document\n",
    "from langchain_experimental.graph_transformers.llm import UnstructuredRelation, examples\n",
    "from langchain.schema import SystemMessage\n",
    "from langchain_core.output_parsers import JsonOutputParser\n",
    "from langchain.prompts import PromptTemplate\n",
    "from langchain_core.prompts import ChatPromptTemplate, HumanMessagePromptTemplate\n",
    "from langchain_community.chat_models import ChatOllama"
   ]
  },
  {
   "cell_type": "code",
   "execution_count": 2,
   "id": "0836bc60-94e9-4473-b78e-854c33720e2e",
   "metadata": {},
   "outputs": [],
   "source": [
    "llm = ChatOllama(temperature=0, model = \"llama3\")"
   ]
  },
  {
   "cell_type": "code",
   "execution_count": 3,
   "id": "1394ec17-8037-4751-8392-8b0d836e1727",
   "metadata": {},
   "outputs": [],
   "source": [
    "\n",
    "system_prompt = \"\"\"\n",
    "You are a data scientist working for a company that is building a knowledge graph database. \n",
    "Your task is to extract information from data and convert it into a knowledge graph database.\n",
    "Provide a set of Nodes in the form [head, head_type, relation, tail, tail_type].\n",
    "It is important that the head and tail exists as nodes that are related by the relation. If you can't pair a relationship with a pair of nodes don't add it.\n",
    "When you find a node or relationship you want to add try to create a generic TYPE for it that describes the entity you can also think of it as a label.\n",
    "You must generate the output in a JSON format containing a list with JSON objects. Each object should have the keys: \"head\", \"head_type\", \"relation\", \"tail\", and \"tail_type\".\n",
    "\"\"\"\n",
    "\n",
    "system_message = SystemMessage(content=system_prompt)\n",
    "parser = JsonOutputParser(pydantic_object=UnstructuredRelation)\n",
    "\n",
    "human_prompt = PromptTemplate(\n",
    "    template=\"\"\"\n",
    "Examples:\n",
    "{examples}\n",
    "\n",
    "For the following text, extract entities and relations as in the provided example.\n",
    "{format_instructions}\\nText: {input}\"\"\",\n",
    "    input_variables=[\"input\"],\n",
    "    partial_variables={\n",
    "        \"format_instructions\": parser.get_format_instructions(),\n",
    "        \"node_labels\": None,\n",
    "        \"rel_types\": None,\n",
    "        \"examples\": examples,\n",
    "    },\n",
    ")\n",
    "\n",
    "human_message_prompt = HumanMessagePromptTemplate(prompt=human_prompt)\n",
    "\n",
    "chat_prompt = ChatPromptTemplate.from_messages(\n",
    "    [system_message, human_message_prompt]\n",
    ")"
   ]
  },
  {
   "cell_type": "code",
   "execution_count": 4,
   "id": "0e67713e-fb35-45a0-99b5-f18fe80799cb",
   "metadata": {},
   "outputs": [],
   "source": [
    "llm_transformer = LLMGraphTransformer(llm=llm, prompt=chat_prompt)"
   ]
  },
  {
   "cell_type": "code",
   "execution_count": 5,
   "id": "62c63363-79b8-42b2-923f-082d8eeed8a2",
   "metadata": {},
   "outputs": [
    {
     "name": "stdout",
     "output_type": "stream",
     "text": [
      "[US DEPARTMENT OF COMMERCE] Bureau of Industry and Security - Appropriate Federal Register Citations: 73 F.R. 63678 10/27/08. Name - AHMED, YASMIN 612 BUSINESS CENTRE, MUMTAZ HASAN ROAD OFF I.I. CHUNDRIGAR ROAD, KARACHI, PK. Denied Persons List effective term 16 Oct 2008 - 16 Oct 2015. Oct 2015 - denial order expired. [US STATE DEPARTMENT] Directorate of Defence Trade Controls list of Parties Debarred for Arms Export Control Act convictions. 69 FR 17468, 04/02/2004. PRIMARY NAME - Ahmed, Yasmin (a.k.a. Yasmin Tariq; Fatimah Mohammad). [REGULATIONS HISTORY] Oct 2015 - denial order expired. [BIOGRAPHY] To be determined. [IDENTIFICATION] Naturalized US citizen. Worked in United Arab Emirates (reported 2003). Tariq Ahmed (spouse).\n"
     ]
    }
   ],
   "source": [
    "text = \"\"\"[US DEPARTMENT OF COMMERCE] Bureau of Industry and Security - Appropriate Federal Register Citations: 73 F.R. 63678 10/27/08. Name - AHMED, YASMIN 612 BUSINESS CENTRE, MUMTAZ HASAN ROAD OFF I.I. CHUNDRIGAR ROAD, KARACHI, PK. Denied Persons List effective term 16 Oct 2008 - 16 Oct 2015. Oct 2015 - denial order expired. [US STATE DEPARTMENT] Directorate of Defence Trade Controls list of Parties Debarred for Arms Export Control Act convictions. 69 FR 17468, 04/02/2004. PRIMARY NAME - Ahmed, Yasmin (a.k.a. Yasmin Tariq; Fatimah Mohammad). [REGULATIONS HISTORY] Oct 2015 - denial order expired. [BIOGRAPHY] To be determined. [IDENTIFICATION] Naturalized US citizen. Worked in United Arab Emirates (reported 2003). Tariq Ahmed (spouse).\"\"\"\n",
    "\n",
    "print(text)"
   ]
  },
  {
   "cell_type": "code",
   "execution_count": 6,
   "id": "a39b6836-3683-4731-a510-76cdd66613a8",
   "metadata": {},
   "outputs": [
    {
     "data": {
      "text/plain": [
       "str"
      ]
     },
     "execution_count": 6,
     "metadata": {},
     "output_type": "execute_result"
    }
   ],
   "source": [
    "type(text)"
   ]
  },
  {
   "cell_type": "code",
   "execution_count": 7,
   "id": "1ac8f23d-bc91-449b-91dc-e1e3f8a3e0b5",
   "metadata": {},
   "outputs": [],
   "source": [
    "from langchain.text_splitter import TokenTextSplitter\n",
    "text_splitter = TokenTextSplitter(chunk_size=100, chunk_overlap=24)\n",
    "splits = text_splitter.split_text(text)\n",
    "\n",
    "#documents = text_splitter.create_documents(splits)"
   ]
  },
  {
   "cell_type": "code",
   "execution_count": 8,
   "id": "25faee8c-e924-49f2-8408-43cee673917f",
   "metadata": {},
   "outputs": [
    {
     "data": {
      "text/plain": [
       "list"
      ]
     },
     "execution_count": 8,
     "metadata": {},
     "output_type": "execute_result"
    }
   ],
   "source": [
    "type(splits)"
   ]
  },
  {
   "cell_type": "code",
   "execution_count": 9,
   "id": "c096283c-9cc4-4a7a-909e-6ceb0304590d",
   "metadata": {},
   "outputs": [
    {
     "data": {
      "text/plain": [
       "['[US DEPARTMENT OF COMMERCE] Bureau of Industry and Security - Appropriate Federal Register Citations: 73 F.R. 63678 10/27/08. Name - AHMED, YASMIN 612 BUSINESS CENTRE, MUMTAZ HASAN ROAD OFF I.I. CHUNDRIGAR ROAD, KARACHI, PK. Denied Persons List effective term 16 Oct 2008 - 16 Oct 2015. Oct 2015 - denial order expired',\n",
       " 'I, PK. Denied Persons List effective term 16 Oct 2008 - 16 Oct 2015. Oct 2015 - denial order expired. [US STATE DEPARTMENT] Directorate of Defence Trade Controls list of Parties Debarred for Arms Export Control Act convictions. 69 FR 17468, 04/02/2004. PRIMARY NAME - Ahmed, Yasmin (a.k.a. Yasmin Tariq; Fatimah Mohammad). [REGULATIONS HISTORY] Oct 2015 - denial order',\n",
       " '. Yasmin Tariq; Fatimah Mohammad). [REGULATIONS HISTORY] Oct 2015 - denial order expired. [BIOGRAPHY] To be determined. [IDENTIFICATION] Naturalized US citizen. Worked in United Arab Emirates (reported 2003). Tariq Ahmed (spouse).']"
      ]
     },
     "execution_count": 9,
     "metadata": {},
     "output_type": "execute_result"
    }
   ],
   "source": [
    "splits"
   ]
  },
  {
   "cell_type": "code",
   "execution_count": 10,
   "id": "c2af6f56-a973-4a64-99c9-176fa2e326da",
   "metadata": {},
   "outputs": [
    {
     "data": {
      "text/plain": [
       "[Document(page_content='[US DEPARTMENT OF COMMERCE] Bureau of Industry and Security - Appropriate Federal Register Citations: 73 F.R. 63678 10/27/08. Name - AHMED, YASMIN 612 BUSINESS CENTRE, MUMTAZ HASAN ROAD OFF I.I. CHUNDRIGAR ROAD, KARACHI, PK. Denied Persons List effective term 16 Oct 2008 - 16 Oct 2015. Oct 2015 - denial order expired'),\n",
       " Document(page_content='I, PK. Denied Persons List effective term 16 Oct 2008 - 16 Oct 2015. Oct 2015 - denial order expired. [US STATE DEPARTMENT] Directorate of Defence Trade Controls list of Parties Debarred for Arms Export Control Act convictions. 69 FR 17468, 04/02/2004. PRIMARY NAME - Ahmed, Yasmin (a.k.a. Yasmin Tariq; Fatimah Mohammad). [REGULATIONS HISTORY] Oct 2015 - denial order'),\n",
       " Document(page_content='. Yasmin Tariq; Fatimah Mohammad). [REGULATIONS HISTORY] Oct 2015 - denial order expired. [BIOGRAPHY] To be determined. [IDENTIFICATION] Naturalized US citizen. Worked in United Arab Emirates (reported 2003). Tariq Ahmed (spouse).')]"
      ]
     },
     "execution_count": 10,
     "metadata": {},
     "output_type": "execute_result"
    }
   ],
   "source": [
    "docs = [Document(page_content=t) for t in splits]\n",
    "\n",
    "docs"
   ]
  },
  {
   "cell_type": "code",
   "execution_count": 11,
   "id": "b2765799-32e1-4c99-a2ce-936659a666a4",
   "metadata": {},
   "outputs": [],
   "source": [
    "# documents = Document(page_content= text, metatdata={\n",
    "#                 \"source\": \"userinput\"\n",
    "#             })"
   ]
  },
  {
   "cell_type": "code",
   "execution_count": 12,
   "id": "3f0fb52d-c656-4d25-813f-f87dc08f33c9",
   "metadata": {},
   "outputs": [],
   "source": [
    "graph_doc = llm_transformer.convert_to_graph_documents(docs)"
   ]
  },
  {
   "cell_type": "code",
   "execution_count": 16,
   "id": "78724a2a-4958-4f3b-8fe0-4e80b7aee7ea",
   "metadata": {},
   "outputs": [
    {
     "name": "stdout",
     "output_type": "stream",
     "text": [
      "id='Ahmed, Yasmin' type='Person'\n",
      "id='Yasmin Tariq; Fatimah Mohammad' type='Alternate Name'\n",
      "id='Parties Debarred for Arms Export Control Act convictions' type='List'\n"
     ]
    }
   ],
   "source": [
    "for node in graph_doc[1].nodes:\n",
    "    print(node)"
   ]
  },
  {
   "cell_type": "code",
   "execution_count": 17,
   "id": "37ebed6d-42a9-43f1-afbc-262b61d2accd",
   "metadata": {},
   "outputs": [
    {
     "name": "stdout",
     "output_type": "stream",
     "text": [
      "source=Node(id='Ahmed, Yasmin', type='Person') target=Node(id='Parties Debarred for Arms Export Control Act convictions', type='List') type='IS_DEBARRED'\n",
      "source=Node(id='Ahmed, Yasmin', type='Person') target=Node(id='Yasmin Tariq; Fatimah Mohammad', type='Alternate Name') type='HAS_PRIMARY_NAME'\n"
     ]
    }
   ],
   "source": [
    "for rel in graph_doc[1].relationships:\n",
    "    print(rel)"
   ]
  },
  {
   "cell_type": "markdown",
   "id": "59ff9600-051a-4b76-9bf6-0f0a46bce374",
   "metadata": {},
   "source": [
    "### With 512 token size"
   ]
  },
  {
   "cell_type": "code",
   "execution_count": 18,
   "id": "ba6239bb-309e-4b6e-b2ab-99a607c43761",
   "metadata": {},
   "outputs": [],
   "source": [
    "from langchain.text_splitter import TokenTextSplitter\n",
    "text_splitter = TokenTextSplitter(chunk_size=512, chunk_overlap=24)\n",
    "splits = text_splitter.split_text(text)"
   ]
  },
  {
   "cell_type": "code",
   "execution_count": 19,
   "id": "ee4b98f7-d2a9-4f19-9007-18eb475033b5",
   "metadata": {},
   "outputs": [
    {
     "data": {
      "text/plain": [
       "['[US DEPARTMENT OF COMMERCE] Bureau of Industry and Security - Appropriate Federal Register Citations: 73 F.R. 63678 10/27/08. Name - AHMED, YASMIN 612 BUSINESS CENTRE, MUMTAZ HASAN ROAD OFF I.I. CHUNDRIGAR ROAD, KARACHI, PK. Denied Persons List effective term 16 Oct 2008 - 16 Oct 2015. Oct 2015 - denial order expired. [US STATE DEPARTMENT] Directorate of Defence Trade Controls list of Parties Debarred for Arms Export Control Act convictions. 69 FR 17468, 04/02/2004. PRIMARY NAME - Ahmed, Yasmin (a.k.a. Yasmin Tariq; Fatimah Mohammad). [REGULATIONS HISTORY] Oct 2015 - denial order expired. [BIOGRAPHY] To be determined. [IDENTIFICATION] Naturalized US citizen. Worked in United Arab Emirates (reported 2003). Tariq Ahmed (spouse).']"
      ]
     },
     "execution_count": 19,
     "metadata": {},
     "output_type": "execute_result"
    }
   ],
   "source": [
    "splits"
   ]
  },
  {
   "cell_type": "code",
   "execution_count": 20,
   "id": "c09f4f58-aaa1-4cab-8e21-ed94d8a3d729",
   "metadata": {},
   "outputs": [
    {
     "data": {
      "text/plain": [
       "[Document(page_content='[US DEPARTMENT OF COMMERCE] Bureau of Industry and Security - Appropriate Federal Register Citations: 73 F.R. 63678 10/27/08. Name - AHMED, YASMIN 612 BUSINESS CENTRE, MUMTAZ HASAN ROAD OFF I.I. CHUNDRIGAR ROAD, KARACHI, PK. Denied Persons List effective term 16 Oct 2008 - 16 Oct 2015. Oct 2015 - denial order expired. [US STATE DEPARTMENT] Directorate of Defence Trade Controls list of Parties Debarred for Arms Export Control Act convictions. 69 FR 17468, 04/02/2004. PRIMARY NAME - Ahmed, Yasmin (a.k.a. Yasmin Tariq; Fatimah Mohammad). [REGULATIONS HISTORY] Oct 2015 - denial order expired. [BIOGRAPHY] To be determined. [IDENTIFICATION] Naturalized US citizen. Worked in United Arab Emirates (reported 2003). Tariq Ahmed (spouse).')]"
      ]
     },
     "execution_count": 20,
     "metadata": {},
     "output_type": "execute_result"
    }
   ],
   "source": [
    "docs1 = [Document(page_content=t) for t in splits]\n",
    "\n",
    "docs1"
   ]
  },
  {
   "cell_type": "code",
   "execution_count": 21,
   "id": "d64fbc07-5e12-4ed4-9832-88f32f08a531",
   "metadata": {},
   "outputs": [],
   "source": [
    "graph_doc = llm_transformer.convert_to_graph_documents(docs1)"
   ]
  },
  {
   "cell_type": "code",
   "execution_count": 22,
   "id": "bb1d45e6-5525-4c05-895e-5c0083f7e64e",
   "metadata": {},
   "outputs": [
    {
     "name": "stdout",
     "output_type": "stream",
     "text": [
      "id='Naturalized US citizen' type='Identity'\n",
      "id='Denied Persons List' type='List'\n",
      "id='YASMIN AHMED' type='Person'\n",
      "id='Directorate of Defence Trade Controls' type='Department'\n",
      "id='612 BUSINESS CENTRE, MUMTAZ HASAN ROAD OFF I.I. CHUNDRIGAR ROAD, KARACHI, PK.' type='Location'\n",
      "id='United Arab Emirates' type='Country'\n",
      "id='73 F.R. 63678' type='Publication'\n",
      "id='US STATE DEPARTMENT' type='Organization'\n",
      "id='Parties Debarred for Arms Export Control Act convictions' type='List'\n",
      "id='US DEPARTMENT OF COMMERCE' type='Organization'\n"
     ]
    }
   ],
   "source": [
    "for node in graph_doc[0].nodes:\n",
    "    print(node)"
   ]
  },
  {
   "cell_type": "code",
   "execution_count": 24,
   "id": "0a4c5751-9d2d-4625-9686-2704613ee88d",
   "metadata": {},
   "outputs": [
    {
     "name": "stdout",
     "output_type": "stream",
     "text": [
      "source=Node(id='US DEPARTMENT OF COMMERCE', type='Organization') target=Node(id='73 F.R. 63678', type='Publication') type='PUBLISHED_IN'\n",
      "source=Node(id='YASMIN AHMED', type='Person') target=Node(id='612 BUSINESS CENTRE, MUMTAZ HASAN ROAD OFF I.I. CHUNDRIGAR ROAD, KARACHI, PK.', type='Location') type='LIVES_AT'\n",
      "source=Node(id='YASMIN AHMED', type='Person') target=Node(id='Denied Persons List', type='List') type='LISTED_AS'\n",
      "source=Node(id='US STATE DEPARTMENT', type='Organization') target=Node(id='Directorate of Defence Trade Controls', type='Department') type='MAINTAINS'\n",
      "source=Node(id='YASMIN AHMED', type='Person') target=Node(id='Parties Debarred for Arms Export Control Act convictions', type='List') type='LISTED_AS'\n",
      "source=Node(id='YASMIN AHMED', type='Person') target=Node(id='Naturalized US citizen', type='Identity') type='IDENTIFIED_AS'\n",
      "source=Node(id='YASMIN AHMED', type='Person') target=Node(id='United Arab Emirates', type='Country') type='WORKED_AT'\n"
     ]
    }
   ],
   "source": [
    "for rel in graph_doc[0].relationships:\n",
    "    print(rel)"
   ]
  },
  {
   "cell_type": "code",
   "execution_count": null,
   "id": "10feec85-0e0e-4504-a045-0d938d4d6d01",
   "metadata": {},
   "outputs": [],
   "source": []
  }
 ],
 "metadata": {
  "kernelspec": {
   "display_name": "Python 3 (ipykernel)",
   "language": "python",
   "name": "python3"
  },
  "language_info": {
   "codemirror_mode": {
    "name": "ipython",
    "version": 3
   },
   "file_extension": ".py",
   "mimetype": "text/x-python",
   "name": "python",
   "nbconvert_exporter": "python",
   "pygments_lexer": "ipython3",
   "version": "3.11.7"
  }
 },
 "nbformat": 4,
 "nbformat_minor": 5
}
